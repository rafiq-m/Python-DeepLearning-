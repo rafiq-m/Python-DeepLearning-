{
 "cells": [
  {
   "cell_type": "code",
   "execution_count": 38,
   "metadata": {
    "colab": {},
    "colab_type": "code",
    "id": "-BizX4PyF3q5"
   },
   "outputs": [],
   "source": [
    "import pandas as pd\n",
    "import numpy as np\n",
    "import tensorflow as tf\n",
    "import matplotlib.pyplot as plt\n",
    "import os , shutil"
   ]
  },
  {
   "cell_type": "code",
   "execution_count": 39,
   "metadata": {
    "colab": {
     "base_uri": "https://localhost:8080/",
     "height": 34
    },
    "colab_type": "code",
    "id": "KIj70MMUF-rf",
    "outputId": "a7dc35d4-e35d-4e8a-c5c6-6ee0f31313c2"
   },
   "outputs": [],
   "source": [
    "from tensorflow.keras import models\n",
    "from tensorflow.keras import layers\n",
    "from tensorflow.keras import optimizers\n",
    "from tensorflow.keras.preprocessing import image\n",
    "from tensorflow.keras.preprocessing.image import ImageDataGenerator"
   ]
  },
  {
   "cell_type": "code",
   "execution_count": 3,
   "metadata": {
    "colab": {
     "base_uri": "https://localhost:8080/",
     "height": 51
    },
    "colab_type": "code",
    "id": "2kM3rp3vGCFh",
    "outputId": "709d6a8c-2d52-4702-d83a-24e3e4b3fdf5"
   },
   "outputs": [
    {
     "name": "stdout",
     "output_type": "stream",
     "text": [
      "Drive already mounted at /content/drive; to attempt to forcibly remount, call drive.mount(\"/content/drive\", force_remount=True).\n",
      "/content\n"
     ]
    }
   ],
   "source": [
    "from google.colab import drive\n",
    "drive.mount('/content/drive')\n",
    "!pwd\n"
   ]
  },
  {
   "cell_type": "code",
   "execution_count": 4,
   "metadata": {
    "colab": {
     "base_uri": "https://localhost:8080/",
     "height": 1000
    },
    "colab_type": "code",
    "id": "mmecUGRYGwk2",
    "outputId": "6b93fbfc-71fe-489a-bdaa-52cc31d61ef4"
   },
   "outputs": [
    {
     "name": "stdout",
     "output_type": "stream",
     "text": [
      "Archive:  drive/My Drive/Copy of covid_data.zip\n",
      "  inflating: val/corona/1.jpeg       \n",
      "  inflating: val/corona/SARS-10.1148rg.242035193-g04mr34g0-Fig8b-day5.jpeg  \n",
      "  inflating: val/corona/ryct.2020200034.fig5-day7.jpeg  \n",
      "  inflating: val/normal/IM-0154-0001.jpeg  \n",
      "  inflating: val/normal/IM-0141-0001.jpeg  \n",
      "  inflating: val/normal/IM-0140-0001.jpeg  \n",
      "  inflating: val/normal/IM-0156-0001.jpeg  \n",
      "  inflating: val/normal/IM-0149-0001.jpeg  \n",
      "  inflating: val/corona/SARS-10.1148rg.242035193-g04mr34g0-Fig8a-day0.jpeg  \n",
      "  inflating: val/normal/IM-0151-0001.jpeg  \n",
      "  inflating: val/corona/SARS-10.1148rg.242035193-g04mr34g04a-Fig4a-day7.jpeg  \n",
      "  inflating: val/normal/IM-0147-0001.jpeg  \n",
      "  inflating: val/normal/IM-0145-0001.jpeg  \n",
      "  inflating: test/normal/IM-0115-0001.jpeg  \n",
      "  inflating: val/normal/IM-0152-0001.jpeg  \n",
      "  inflating: test/corona/SARS-10.1148rg.242035193-g04mr34g07b-Fig7b-day12.jpeg  \n",
      "  inflating: val/corona/SARS-10.1148rg.242035193-g04mr34g04b-Fig4b-day12.jpeg  \n",
      "  inflating: test/corona/streptococcus-pneumoniae-pneumonia-temporal-evolution-1-day2.jpg  \n",
      "  inflating: val/corona/SARS-10.1148rg.242035193-g04mr34g0-Fig8c-day10.jpeg  \n",
      "  inflating: test/normal/IM-0125-0001.jpeg  \n",
      "  inflating: val/normal/IM-0143-0001.jpeg  \n",
      "  inflating: test/normal/IM-0127-0001.jpeg  \n",
      "  inflating: val/corona/SARS-10.1148rg.242035193-g04mr34g05x-Fig5-day9.jpeg  \n",
      "  inflating: val/corona/ryct.2020200034.fig5-day0.jpeg  \n",
      "  inflating: test/normal/IM-0119-0001.jpeg  \n",
      "  inflating: test/normal/IM-0131-0001.jpeg  \n",
      "  inflating: val/corona/ryct.2020200034.fig5-day4.jpeg  \n",
      "  inflating: test/corona/streptococcus-pneumoniae-pneumonia-temporal-evolution-1-day1.jpg  \n",
      "  inflating: test/corona/SARS-10.1148rg.242035193-g04mr34g09c-Fig9c-day27.jpeg  \n",
      "  inflating: test/normal/IM-0122-0001.jpeg  \n",
      "  inflating: test/normal/IM-0129-0001.jpeg  \n",
      "  inflating: test/corona/SARS-10.1148rg.242035193-g04mr34g09b-Fig9b-day19.jpeg  \n",
      "  inflating: test/corona/SARS-10.1148rg.242035193-g04mr34g07a-Fig7a-day5.jpeg  \n",
      "  inflating: test/normal/IM-0133-0001.jpeg  \n",
      "  inflating: test/normal/IM-0117-0001.jpeg  \n",
      "  inflating: test/corona/streptococcus-pneumoniae-pneumonia-temporal-evolution-1-day3.jpg  \n",
      "  inflating: test/corona/SARS-10.1148rg.242035193-g04mr34g09a-Fig9a-day17.jpeg  \n",
      "  inflating: test/corona/streptococcus-pneumoniae-pneumonia-temporal-evolution-1-day0.jpg  \n",
      "  inflating: test/corona/streptococcus-pneumoniae-pneumonia-1.jpg  \n",
      "  inflating: train/corona/93FE0BB1-022D-4F24-9727-987A07975FFB.jpeg  \n",
      "  inflating: test/normal/IM-0128-0001.jpeg  \n",
      "  inflating: train/corona/6C94A287-C059-46A0-8600-AFB95F4727B7.jpeg  \n",
      "  inflating: train/corona/ciaa199.pdf-001-c.png  \n",
      "  inflating: train/corona/pneumocystis-pneumonia-2-PA.png  \n",
      "  inflating: train/corona/figure1-5e71be566aa8714a04de3386-98-left.jpeg  \n",
      "  inflating: train/corona/80446565-E090-4187-A031-9D3CEAA586C8.jpeg  \n",
      "  inflating: train/corona/all14238-fig-0001-m-b.jpg  \n",
      "  inflating: train/corona/1312A392-67A3-4EBF-9319-810CF6DA5EF6.jpeg  \n",
      "  inflating: train/corona/F63AB6CE-1968-4154-A70F-913AF154F53D.jpeg  \n",
      "  inflating: train/corona/lancet-case2a.jpg  \n",
      "  inflating: train/corona/03BF7561-A9BA-4C3C-B8A0-D3E585F73F3C.jpeg  \n",
      "  inflating: train/normal/IM-0215-0001.jpeg  \n",
      "  inflating: train/normal/IM-0285-0001.jpeg  \n",
      "  inflating: train/normal/IM-0323-0001.jpeg  \n",
      "  inflating: train/normal/IM-0270-0001.jpeg  \n",
      "  inflating: train/corona/1-s2.0-S1684118220300608-main.pdf-001.jpg  \n",
      "  inflating: train/normal/IM-0305-0001.jpeg  \n",
      "  inflating: train/normal/IM-0319-0001.jpeg  \n",
      "  inflating: train/normal/IM-0265-0001.jpeg  \n",
      "  inflating: train/corona/auntminnie-b-2020_01_28_23_51_6665_2020_01_28_Vietnam_coronavirus.jpeg  \n",
      "  inflating: train/corona/31BA3780-2323-493F-8AED-62081B9C383B.jpeg  \n",
      "  inflating: train/normal/IM-0210-0001.jpeg  \n",
      "  inflating: train/normal/IM-0261-0001.jpeg  \n",
      "  inflating: train/normal/IM-0309-0001.jpeg  \n",
      "  inflating: train/normal/IM-0299-0001.jpeg  \n",
      "  inflating: train/normal/IM-0269-0001.jpeg  \n",
      "  inflating: train/normal/IM-0185-0001.jpeg  \n",
      "  inflating: train/corona/kjr-21-e24-g002-l-c.jpg  \n",
      "  inflating: train/normal/IM-0237-0001.jpeg  \n",
      "  inflating: train/normal/IM-0297-0001.jpeg  \n",
      "  inflating: train/corona/covid-19-pneumonia-2.jpg  \n",
      "  inflating: train/corona/FE9F9A5D-2830-46F9-851B-1FF4534959BE.jpeg  \n",
      "  inflating: train/corona/covid-19-pneumonia-7-L.jpg  \n",
      "  inflating: train/normal/IM-0264-0001.jpeg  \n",
      "  inflating: train/corona/7AF6C1AF-D249-4BD2-8C26-449304105D03.jpeg  \n",
      "  inflating: train/normal/IM-0218-0001.jpeg  \n",
      "  inflating: train/corona/ARDSSevere.png  \n",
      "  inflating: train/corona/D7AF463C-2369-492D-908D-BE1911CCD74C.jpeg  \n",
      "  inflating: train/corona/ciaa199.pdf-001-b.png  \n",
      "  inflating: train/corona/nejmoa2001191_f5-PA.jpeg  \n",
      "  inflating: train/corona/covid-19-pneumonia-19.jpg  \n",
      "  inflating: train/corona/8FDE8DBA-CFBD-4B4C-B1A4-6F36A93B7E87.jpeg  \n",
      "  inflating: train/corona/9C34AF49-E589-44D5-92D3-168B3B04E4A6.jpeg  \n",
      "  inflating: train/corona/radiopedia-covid-19-pneumonia-2.jpg  \n",
      "  inflating: train/corona/F4341CE7-73C9-45C6-99C8-8567A5484B63.jpeg  \n",
      "  inflating: train/corona/auntminnie-c-2020_01_28_23_51_6665_2020_01_28_Vietnam_coronavirus.jpeg  \n",
      "  inflating: train/corona/jkms-35-e79-g001-l-c.jpg  \n",
      "  inflating: train/corona/F2DE909F-E19C-4900-92F5-8F435B031AC6.jpeg  \n",
      "  inflating: train/corona/4C4DEFD8-F55D-4588-AAD6-C59017F55966.jpeg  \n",
      "  inflating: train/corona/41591_2020_819_Fig1_HTML.webp-day10.png  \n",
      "  inflating: train/corona/all14238-fig-0002-m-d.jpg  \n",
      "  inflating: train/normal/IM-0304-0001.jpeg  \n",
      "  inflating: train/corona/jkms-35-e79-g001-l-b.jpg  \n",
      "  inflating: train/corona/CD50BA96-6982-4C80-AE7B-5F67ACDBFA56.jpeg  \n",
      "  inflating: train/normal/IM-0248-0001.jpeg  \n",
      "  inflating: train/normal/IM-0238-0001.jpeg  \n",
      "  inflating: train/corona/radiol.2020200490.fig3.jpeg  \n",
      "  inflating: train/corona/auntminnie-d-2020_01_28_23_51_6665_2020_01_28_Vietnam_coronavirus.jpeg  \n",
      "  inflating: train/normal/IM-0280-0001.jpeg  \n",
      "  inflating: train/normal/IM-0168-0001.jpeg  \n",
      "  inflating: train/normal/IM-0298-0001.jpeg  \n",
      "  inflating: train/normal/IM-0228-0001.jpeg  \n",
      "  inflating: train/normal/IM-0213-0001.jpeg  \n",
      "  inflating: train/normal/IM-0317-0001.jpeg  \n",
      "  inflating: train/normal/IM-0294-0001.jpeg  \n",
      "  inflating: train/corona/ards-secondary-to-tiger-snake-bite.png  \n",
      "  inflating: train/corona/nejmc2001573_f1b.jpeg  \n",
      "  inflating: train/corona/nejmoa2001191_f1-L.jpeg  \n",
      "  inflating: train/corona/all14238-fig-0002-m-e.jpg  \n",
      "  inflating: train/corona/35AF5C3B-D04D-4B4B-92B7-CB1F67D83085.jpeg  \n",
      "  inflating: train/corona/kjr-21-e24-g002-l-a.jpg  \n",
      "  inflating: train/corona/kjr-21-e24-g001-l-a.jpg  \n",
      "  inflating: train/corona/nCoV-radiol.2020200269.fig1-day7.jpeg  \n",
      "  inflating: train/corona/auntminnie-2020_01_31_20_24_2322_2020_01_31_x-ray_coronavirus_US.jpg  \n",
      "  inflating: train/corona/nejmoa2001191_f5-L.jpeg  \n",
      "  inflating: train/corona/E63574A7-4188-4C8D-8D17-9D67A18A1AFA.jpeg  \n",
      "  inflating: train/normal/IM-0306-0001.jpeg  \n",
      "  inflating: train/corona/covid-19-pneumonia-7-PA.jpg  \n",
      "  inflating: train/normal/IM-0291-0001.jpeg  \n",
      "  inflating: train/normal/IM-0226-0001.jpeg  \n",
      "  inflating: train/corona/acute-respiratory-distress-syndrome-ards-1.jpg  \n",
      "  inflating: train/normal/IM-0225-0001.jpeg  \n",
      "  inflating: train/corona/jkms-35-e79-g001-l-a.jpg  \n",
      "  inflating: train/normal/IM-0266-0001.jpeg  \n",
      "  inflating: train/normal/IM-0162-0001.jpeg  \n",
      "  inflating: train/corona/gr1_lrg-b.jpg  \n",
      "  inflating: train/corona/7C69C012-7479-493F-8722-ABC29C60A2DD.jpeg  \n",
      "  inflating: train/corona/gr1_lrg-a.jpg  \n",
      "  inflating: train/corona/auntminnie-a-2020_01_28_23_51_6665_2020_01_28_Vietnam_coronavirus.jpeg  \n",
      "  inflating: train/normal/IM-0313-0001.jpeg  \n",
      "  inflating: train/normal/IM-0320-0001.jpeg  \n",
      "  inflating: train/corona/radiopaedia-2019-novel-coronavirus-infected-pneumonia.jpg  \n",
      "  inflating: train/normal/IM-0272-0001.jpeg  \n",
      "  inflating: train/normal/IM-0222-0001.jpeg  \n",
      "  inflating: train/normal/IM-0207-0001.jpeg  \n",
      "  inflating: train/normal/IM-0227-0001.jpeg  \n",
      "  inflating: train/normal/IM-0223-0001.jpeg  \n",
      "  inflating: train/normal/IM-0187-0001.jpeg  \n",
      "  inflating: train/normal/IM-0206-0001.jpeg  \n",
      "  inflating: train/corona/figure1-5e73d7ae897e27ff066a30cb-98.jpeg  \n",
      "  inflating: train/normal/IM-0292-0001.jpeg  \n",
      "  inflating: train/corona/lancet-case2b.jpg  \n",
      "  inflating: train/corona/6CB4EFC6-68FA-4CD5-940C-BEFA8DAFE9A7.jpeg  \n",
      "  inflating: train/normal/IM-0273-0001.jpeg  \n",
      "  inflating: train/corona/1-s2.0-S0929664620300449-gr2_lrg-c.jpg  \n",
      "  inflating: train/corona/all14238-fig-0002-m-f.jpg  \n",
      "  inflating: train/corona/1-s2.0-S1684118220300608-main.pdf-002.jpg  \n",
      "  inflating: train/normal/IM-0216-0001.jpeg  \n",
      "  inflating: train/corona/nejmc2001573_f1a.jpeg  \n",
      "  inflating: train/normal/IM-0268-0001.jpeg  \n",
      "  inflating: train/normal/IM-0301-0001.jpeg  \n",
      "  inflating: train/corona/ciaa199.pdf-001-a.png  \n",
      "  inflating: train/normal/IM-0290-0001.jpeg  \n",
      "  inflating: train/corona/2B8649B2-00C4-4233-85D5-1CE240CF233B.jpeg  \n",
      "  inflating: train/corona/41591_2020_819_Fig1_HTML.webp-day5.png  \n",
      "  inflating: train/corona/C6EA0BE5-B01E-4113-B194-18D956675E25.jpeg  \n",
      "  inflating: train/corona/kjr-21-e24-g003-l-b.jpg  \n",
      "  inflating: train/normal/IM-0318-0001.jpeg  \n",
      "  inflating: train/normal/IM-0231-0001.jpeg  \n",
      "  inflating: train/normal/IM-0158-0001.jpeg  \n",
      "  inflating: train/normal/IM-0288-0001.jpeg  \n",
      "  inflating: train/corona/44C8E3D6-20DA-42E9-B33B-96FA6D6DE12F.jpeg  \n",
      "  inflating: train/corona/nejmoa2001191_f1-PA.jpeg  \n",
      "  inflating: train/corona/1-s2.0-S0929664620300449-gr2_lrg-d.jpg  \n",
      "  inflating: train/corona/B2D20576-00B7-4519-A415-72DE29C90C34.jpeg  \n",
      "  inflating: train/corona/figure1-5e75d0940b71e1b702629659-98-right.jpeg  \n",
      "  inflating: train/corona/kjr-21-e24-g003-l-a.jpg  \n",
      "  inflating: train/corona/kjr-21-e25-g001-l-a.jpg  \n",
      "  inflating: train/corona/171CB377-62FF-4B76-906C-F3787A01CB2E.jpeg  \n",
      "  inflating: train/corona/5e6dd879fde9502400e58b2f.jpeg  \n",
      "  inflating: train/normal/IM-0243-0001.jpeg  \n",
      "  inflating: train/normal/IM-0191-0001.jpeg  \n",
      "  inflating: train/corona/B59DD164-51D5-40DF-A926-6A42DD52EBE8.jpeg  \n",
      "  inflating: train/corona/nejmoa2001191_f3-PA.jpeg  \n",
      "  inflating: train/corona/pneumonia-7.jpg  \n",
      "  inflating: train/corona/nejmoa2001191_f3-L.jpeg  \n",
      "  inflating: train/corona/85E52EB3-56E9-4D67-82DA-DEA247C82886.jpeg  \n",
      "  inflating: train/corona/1-s2.0-S1684118220300682-main.pdf-003-b1.png  \n",
      "  inflating: train/corona/2C26F453-AF3B-4517-BB9E-802CF2179543.jpeg  \n",
      "  inflating: train/corona/5931B64A-7B97-485D-BE60-3F1EA76BC4F0.jpeg  \n",
      "  inflating: train/corona/1-s2.0-S0929664620300449-gr2_lrg-b.jpg  \n",
      "  inflating: train/corona/kjr-21-e24-g001-l-b.jpg  \n",
      "  inflating: train/normal/IM-0275-0001.jpeg  \n",
      "  inflating: train/normal/IM-0241-0001.jpeg  \n",
      "  inflating: train/corona/1-s2.0-S1684118220300682-main.pdf-003-b2.png  \n",
      "  inflating: train/normal/IM-0244-0001.jpeg  \n",
      "  inflating: train/corona/1-s2.0-S0929664620300449-gr2_lrg-a.jpg  \n",
      "  inflating: train/normal/IM-0214-0001.jpeg  \n",
      "  inflating: train/normal/IM-0177-0001.jpeg  \n",
      "  inflating: train/corona/F051E018-DAD1-4506-AD43-BE4CA29E960B.jpeg  \n",
      "  inflating: train/corona/acute-respiratory-distress-syndrome-ards.jpg  \n",
      "  inflating: train/normal/IM-0180-0001.jpeg  \n",
      "  inflating: train/normal/IM-0189-0001.jpeg  \n",
      "  inflating: train/normal/IM-0311-0001.jpeg  \n",
      "  inflating: train/normal/IM-0250-0001.jpeg  \n",
      "  inflating: train/normal/IM-0178-0001.jpeg  \n",
      "  inflating: train/corona/nejmoa2001191_f4.jpeg  \n",
      "  inflating: train/normal/IM-0308-0001.jpeg  \n",
      "  inflating: train/normal/IM-0195-0001.jpeg  \n",
      "  inflating: train/corona/1-s2.0-S1684118220300682-main.pdf-002-a2.png  \n",
      "  inflating: train/normal/IM-0182-0001.jpeg  \n",
      "  inflating: train/normal/IM-0219-0001.jpeg  \n",
      "  inflating: train/normal/IM-0255-0001.jpeg  \n",
      "  inflating: train/corona/1B734A89-A1BF-49A8-A1D3-66FAFA4FAC5D.jpeg  \n",
      "  inflating: train/corona/254B82FC-817D-4E2F-AB6E-1351341F0E38.jpeg  \n",
      "  inflating: train/corona/01E392EE-69F9-4E33-BFCE-E5C968654078.jpeg  \n",
      "  inflating: train/normal/IM-0209-0001.jpeg  \n",
      "  inflating: train/normal/IM-0224-0001.jpeg  \n",
      "  inflating: train/corona/2966893D-5DDF-4B68-9E2B-4979D5956C8E.jpeg  \n",
      "  inflating: train/corona/all14238-fig-0001-m-c.jpg  \n",
      "  inflating: train/normal/IM-0256-0001.jpeg  \n",
      "  inflating: train/normal/IM-0193-0001.jpeg  \n",
      "  inflating: train/normal/IM-0135-0001.jpeg  \n",
      "  inflating: train/normal/IM-0176-0001.jpeg  \n",
      "  inflating: train/normal/IM-0229-0001.jpeg  \n",
      "  inflating: train/normal/IM-0274-0001.jpeg  \n",
      "  inflating: train/normal/IM-0236-0001.jpeg  \n",
      "  inflating: train/normal/IM-0234-0001.jpeg  \n",
      "  inflating: train/normal/IM-0307-0001.jpeg  \n",
      "  inflating: train/corona/D5ACAA93-C779-4E22-ADFA-6A220489F840.jpeg  \n",
      "  inflating: train/normal/IM-0302-0001.jpeg  \n",
      "  inflating: train/corona/39EE8E69-5801-48DE-B6E3-BE7D1BCF3092.jpeg  \n",
      "  inflating: train/corona/MERS-CoV-1-s2.0-S0378603X1500248X-gr4e.jpg  \n",
      "  inflating: train/corona/nCoV-Snohomish-20382862_web1_M1-Lungs-EDH-200201-640x300@2x.jpg  \n",
      "  inflating: train/normal/IM-0282-0001.jpeg  \n",
      "  inflating: train/corona/7D2CF6CE-F529-4470-8356-D33FFAF98600.jpeg  \n",
      "  inflating: train/normal/IM-0283-0001.jpeg  \n",
      "  inflating: train/corona/covid-19-pneumonia-14-L.png  \n",
      "  inflating: train/normal/IM-0203-0001.jpeg  \n",
      "  inflating: train/corona/E1724330-1866-4581-8CD8-CEC9B8AFEDDE.jpeg  \n",
      "  inflating: train/corona/353889E0-A1E8-4F9E-A0B8-F24F36BCFBFB.jpeg  \n",
      "  inflating: train/corona/ryct.2020200028.fig1a.jpeg  \n",
      "  inflating: train/corona/5A78BCA9-5B7A-440D-8A4E-AE7710EA6EAD.jpeg  \n",
      "  inflating: train/normal/IM-0201-0001.jpeg  \n",
      "  inflating: train/corona/446B2CB6-B572-40AB-B01F-1910CA07086A.jpeg  \n",
      "  inflating: train/normal/IM-0199-0001.jpeg  \n",
      "  inflating: train/corona/7E335538-2F86-424E-A0AB-6397783A38D0.jpeg  \n",
      "  inflating: train/corona/covid-19-pneumonia-14-PA.png  \n",
      "  inflating: train/corona/5CBC2E94-D358-401E-8928-965CCD965C5C.jpeg  \n",
      "  inflating: train/corona/covid-19-pneumonia-15-L.jpg  \n",
      "  inflating: train/corona/7EF28E12-F628-4BEC-A8C5-E6277C2E4F60.png  \n",
      "  inflating: train/corona/23E99E2E-447C-46E5-8EB2-D35D12473C39.png  \n",
      "  inflating: train/normal/IM-0324-0001.jpeg  \n",
      "  inflating: train/normal/IM-0217-0001.jpeg  \n",
      "  inflating: train/corona/covid-19-pneumonia-15-PA.jpg  \n",
      "  inflating: train/corona/covid-19-pneumonia-12.jpg  \n",
      "  inflating: train/corona/1F6343EE-AFEC-4B7D-97F5-62797EE18767.jpeg  \n",
      "  inflating: train/normal/IM-0170-0001.jpeg  \n",
      "  inflating: train/normal/IM-0278-0001.jpeg  \n",
      "  inflating: train/normal/IM-0312-0001.jpeg  \n",
      "  inflating: train/normal/IM-0276-0001.jpeg  \n",
      "  inflating: train/corona/2C10A413-AABE-4807-8CCE-6A2025594067.jpeg  \n",
      "  inflating: train/normal/IM-0293-0001.jpeg  \n",
      "  inflating: train/normal/IM-0277-0001.jpeg  \n",
      "  inflating: train/normal/IM-0245-0001.jpeg  \n",
      "  inflating: train/normal/IM-0314-0001.jpeg  \n",
      "  inflating: train/normal/IM-0315-0001.jpeg  \n",
      "  inflating: train/normal/IM-0164-0001.jpeg  \n",
      "  inflating: train/normal/IM-0262-0001.jpeg  \n",
      "  inflating: train/normal/IM-0166-0001.jpeg  \n",
      "  inflating: train/normal/IM-0286-0001.jpeg  \n",
      "  inflating: train/normal/IM-0316-0001.jpeg  \n",
      "  inflating: train/normal/IM-0137-0001.jpeg  \n",
      "  inflating: train/normal/IM-0240-0001.jpeg  \n",
      "  inflating: train/normal/IM-0211-0001.jpeg  \n",
      "  inflating: train/normal/IM-0303-0001.jpeg  \n",
      "  inflating: train/normal/IM-0300-0001.jpeg  \n",
      "  inflating: train/normal/IM-0242-0001.jpeg  \n",
      "  inflating: train/normal/IM-0249-0001.jpeg  \n",
      "  inflating: train/normal/IM-0172-0001.jpeg  \n",
      "  inflating: train/normal/IM-0160-0001.jpeg  \n",
      "  inflating: train/normal/IM-0235-0001.jpeg  \n",
      "  inflating: train/normal/IM-0183-0001.jpeg  \n",
      "  inflating: train/normal/IM-0221-0001.jpeg  \n",
      "  inflating: train/normal/IM-0253-0001.jpeg  \n",
      "  inflating: train/normal/IM-0220-0001.jpeg  \n",
      "  inflating: train/normal/IM-0257-0001.jpeg  \n",
      "  inflating: train/normal/IM-0295-0001.jpeg  \n",
      "  inflating: train/normal/IM-0289-0001.jpeg  \n",
      "  inflating: train/normal/IM-0230-0001.jpeg  \n",
      "  inflating: train/normal/IM-0279-0001.jpeg  \n",
      "  inflating: train/normal/IM-0205-0001.jpeg  \n",
      "  inflating: train/normal/IM-0251-0001.jpeg  \n",
      "  inflating: train/normal/IM-0239-0001.jpeg  \n"
     ]
    }
   ],
   "source": [
    "!unzip 'drive/My Drive/Copy of covid_data.zip'"
   ]
  },
  {
   "cell_type": "code",
   "execution_count": 40,
   "metadata": {
    "colab": {
     "base_uri": "https://localhost:8080/",
     "height": 34
    },
    "colab_type": "code",
    "id": "atyVcjZ6Ho9D",
    "outputId": "31cf3d81-2e76-44e7-c970-bafc6f1677e8"
   },
   "outputs": [
    {
     "name": "stdout",
     "output_type": "stream",
     "text": [
      "False\n"
     ]
    }
   ],
   "source": [
    "source = 'drive/My Drive/Copy of covid_data.zip'\n",
    "print(os.path.exists(source))"
   ]
  },
  {
   "cell_type": "code",
   "execution_count": 41,
   "metadata": {},
   "outputs": [
    {
     "name": "stdout",
     "output_type": "stream",
     "text": [
      "True\n"
     ]
    }
   ],
   "source": [
    "source = \"D:\\covid\"\n",
    "print(os.path.exists(source))"
   ]
  },
  {
   "cell_type": "code",
   "execution_count": 42,
   "metadata": {},
   "outputs": [
    {
     "name": "stdout",
     "output_type": "stream",
     "text": [
      "['test', 'train', 'val']\n"
     ]
    }
   ],
   "source": [
    "print(os.listdir(source))"
   ]
  },
  {
   "cell_type": "markdown",
   "metadata": {
    "colab_type": "text",
    "id": "zC9HtHYDZ-BJ"
   },
   "source": [
    "Prepare the Data"
   ]
  },
  {
   "cell_type": "code",
   "execution_count": 43,
   "metadata": {
    "colab": {},
    "colab_type": "code",
    "id": "V6cesGYqIACy"
   },
   "outputs": [
    {
     "data": {
      "text/plain": [
       "'D:\\\\covid\\\\train'"
      ]
     },
     "execution_count": 43,
     "metadata": {},
     "output_type": "execute_result"
    }
   ],
   "source": [
    "train = os.path.join(source,'train')\n",
    "train"
   ]
  },
  {
   "cell_type": "code",
   "execution_count": 48,
   "metadata": {
    "colab": {},
    "colab_type": "code",
    "id": "EpCwB45wIYwS"
   },
   "outputs": [],
   "source": [
    "val = os.path.join(source,'val')\n",
    "test = os.path.join(source,'test')\n",
    "\n",
    "train_datagen = ImageDataGenerator(rescale=1./255)\n",
    "test_datagen = ImageDataGenerator(rescale=1./255)"
   ]
  },
  {
   "cell_type": "code",
   "execution_count": 50,
   "metadata": {
    "colab": {},
    "colab_type": "code",
    "id": "DDz6kMsXIZ9e"
   },
   "outputs": [
    {
     "name": "stdout",
     "output_type": "stream",
     "text": [
      "Found 5402 images belonging to 2 classes.\n"
     ]
    }
   ],
   "source": [
    "train_generator = train_datagen.flow_from_directory(\n",
    "train,\n",
    "target_size=(200, 200),\n",
    "batch_size=20,\n",
    "class_mode='binary')            "
   ]
  },
  {
   "cell_type": "code",
   "execution_count": 60,
   "metadata": {
    "colab": {
     "base_uri": "https://localhost:8080/",
     "height": 34
    },
    "colab_type": "code",
    "id": "zfvRVHADIsrc",
    "outputId": "9b1e2c14-84a3-4bd1-a49d-c8f8b8ff8dbe"
   },
   "outputs": [
    {
     "name": "stdout",
     "output_type": "stream",
     "text": [
      "Found 26 images belonging to 2 classes.\n"
     ]
    }
   ],
   "source": [
    "validation_generator = test_datagen.flow_from_directory(\n",
    "val,target_size=(150, 150),\n",
    "batch_size=20,\n",
    "class_mode='binary')"
   ]
  },
  {
   "cell_type": "code",
   "execution_count": null,
   "metadata": {
    "colab": {
     "base_uri": "https://localhost:8080/",
     "height": 34
    },
    "colab_type": "code",
    "id": "WQbvPo-1JuSE",
    "outputId": "e208c98f-0193-4d72-c242-dcd80017bd03"
   },
   "outputs": [],
   "source": []
  },
  {
   "cell_type": "code",
   "execution_count": 61,
   "metadata": {
    "colab": {
     "base_uri": "https://localhost:8080/",
     "height": 306
    },
    "colab_type": "code",
    "id": "Kn-di2TYOkxe",
    "outputId": "302442e5-2620-4713-e43c-265975bdefc5"
   },
   "outputs": [
    {
     "name": "stdout",
     "output_type": "stream",
     "text": [
      "data batch shape: (20, 200, 200, 3)\n",
      "labels batch shape: (20,)\n",
      "1.0\n",
      "1\n",
      "data batch shape: (20, 200, 200, 3)\n",
      "labels batch shape: (20,)\n",
      "1.0\n",
      "2\n",
      "data batch shape: (20, 200, 200, 3)\n",
      "labels batch shape: (20,)\n",
      "1.0\n",
      "3\n",
      "data batch shape: (20, 200, 200, 3)\n",
      "labels batch shape: (20,)\n",
      "1.0\n",
      "4\n",
      "4\n"
     ]
    }
   ],
   "source": [
    "counter =0\n",
    "for data_batch, labels_batch in train_gen:\n",
    "    print('data batch shape:', data_batch.shape)\n",
    "    print('labels batch shape:', labels_batch.shape)\n",
    "    print(labels_batch[counter])\n",
    "    counter += 1\n",
    "    print(counter)\n",
    "    if counter > 3:\n",
    "        break\n",
    "print(counter)"
   ]
  },
  {
   "cell_type": "code",
   "execution_count": 62,
   "metadata": {
    "colab": {
     "base_uri": "https://localhost:8080/",
     "height": 34
    },
    "colab_type": "code",
    "id": "Wj8scigjPSN9",
    "outputId": "86a9a5e1-0027-4c3b-db17-019e1eb3dd0c"
   },
   "outputs": [
    {
     "data": {
      "text/plain": [
       "1.0"
      ]
     },
     "execution_count": 62,
     "metadata": {},
     "output_type": "execute_result"
    }
   ],
   "source": [
    "data_batch[0]\n",
    "labels_batch[0]"
   ]
  },
  {
   "cell_type": "markdown",
   "metadata": {
    "colab_type": "text",
    "id": "mSmAXqlhaGyv"
   },
   "source": [
    "Making a Model "
   ]
  },
  {
   "cell_type": "code",
   "execution_count": null,
   "metadata": {
    "colab": {},
    "colab_type": "code",
    "id": "L05TGci1PWtm"
   },
   "outputs": [],
   "source": []
  },
  {
   "cell_type": "code",
   "execution_count": 63,
   "metadata": {
    "colab": {},
    "colab_type": "code",
    "id": "80TvaZHkSD9L"
   },
   "outputs": [],
   "source": [
    "model = models.Sequential()\n",
    "model.add(layers.Conv2D(32,(3,3), activation='relu' , input_shape = (200,200,3)))\n",
    "model.add(layers.Conv2D(32,(3,3), activation='relu'))\n",
    "model.add(layers.MaxPooling2D((2, 2)))\n",
    "model.add(layers.Conv2D(64, (3, 3), activation='relu'))\n",
    "model.add(layers.Conv2D(64, (3, 3), activation='relu'))\n",
    "model.add(layers.MaxPooling2D((2, 2)))\n",
    "model.add(layers.Conv2D(128, (3, 3), activation='relu'))\n",
    "model.add(layers.Conv2D(128, (3, 3), activation='relu'))\n",
    "model.add(layers.MaxPooling2D((2, 2)))\n",
    "model.add(layers.Conv2D(256, (3, 3), activation='relu'))\n",
    "model.add(layers.Conv2D(256, (3, 3), activation='relu'))\n",
    "model.add(layers.MaxPooling2D((2, 2)))\n",
    "model.add(layers.Flatten())\n",
    "model.add(layers.Dense(512, activation='relu'))\n",
    "model.add(layers.Dense(1, activation='sigmoid'))"
   ]
  },
  {
   "cell_type": "code",
   "execution_count": 67,
   "metadata": {
    "colab": {
     "base_uri": "https://localhost:8080/",
     "height": 663
    },
    "colab_type": "code",
    "id": "-I2MLL44T_Rz",
    "outputId": "f6408ba9-a548-4d8e-dc55-23dc1caa77d9"
   },
   "outputs": [
    {
     "name": "stdout",
     "output_type": "stream",
     "text": [
      "Model: \"sequential_4\"\n",
      "_________________________________________________________________\n",
      "Layer (type)                 Output Shape              Param #   \n",
      "=================================================================\n",
      "conv2d_34 (Conv2D)           (None, 198, 198, 32)      896       \n",
      "_________________________________________________________________\n",
      "conv2d_35 (Conv2D)           (None, 196, 196, 32)      9248      \n",
      "_________________________________________________________________\n",
      "max_pooling2d_16 (MaxPooling (None, 98, 98, 32)        0         \n",
      "_________________________________________________________________\n",
      "conv2d_36 (Conv2D)           (None, 96, 96, 64)        18496     \n",
      "_________________________________________________________________\n",
      "conv2d_37 (Conv2D)           (None, 94, 94, 64)        36928     \n",
      "_________________________________________________________________\n",
      "max_pooling2d_17 (MaxPooling (None, 47, 47, 64)        0         \n",
      "_________________________________________________________________\n",
      "conv2d_38 (Conv2D)           (None, 45, 45, 128)       73856     \n",
      "_________________________________________________________________\n",
      "conv2d_39 (Conv2D)           (None, 43, 43, 128)       147584    \n",
      "_________________________________________________________________\n",
      "max_pooling2d_18 (MaxPooling (None, 21, 21, 128)       0         \n",
      "_________________________________________________________________\n",
      "conv2d_40 (Conv2D)           (None, 19, 19, 256)       295168    \n",
      "_________________________________________________________________\n",
      "conv2d_41 (Conv2D)           (None, 17, 17, 256)       590080    \n",
      "_________________________________________________________________\n",
      "max_pooling2d_19 (MaxPooling (None, 8, 8, 256)         0         \n",
      "_________________________________________________________________\n",
      "flatten_4 (Flatten)          (None, 16384)             0         \n",
      "_________________________________________________________________\n",
      "dense_8 (Dense)              (None, 512)               8389120   \n",
      "_________________________________________________________________\n",
      "dense_9 (Dense)              (None, 1)                 513       \n",
      "=================================================================\n",
      "Total params: 9,561,889\n",
      "Trainable params: 9,561,889\n",
      "Non-trainable params: 0\n",
      "_________________________________________________________________\n"
     ]
    }
   ],
   "source": [
    "model.summary()"
   ]
  },
  {
   "cell_type": "markdown",
   "metadata": {
    "colab_type": "text",
    "id": "iASy93VtaLP-"
   },
   "source": [
    "Compile Model "
   ]
  },
  {
   "cell_type": "code",
   "execution_count": 68,
   "metadata": {
    "colab": {},
    "colab_type": "code",
    "id": "9O6ju5d0T_Ou"
   },
   "outputs": [],
   "source": [
    "model.compile(optimizer=optimizers.RMSprop(lr=1e-4) ,\n",
    "              loss=\"binary_crossentropy\" , \n",
    "              metrics= ['acc'])"
   ]
  },
  {
   "cell_type": "code",
   "execution_count": 69,
   "metadata": {
    "colab": {
     "base_uri": "https://localhost:8080/",
     "height": 357
    },
    "colab_type": "code",
    "id": "cGMhH9Y3Q7Bh",
    "outputId": "bf8ec80c-8cae-4c9a-ea94-dfe1ed7ae358"
   },
   "outputs": [
    {
     "name": "stdout",
     "output_type": "stream",
     "text": [
      "WARNING:tensorflow:sample_weight modes were coerced from\n",
      "  ...\n",
      "    to  \n",
      "  ['...']\n",
      "WARNING:tensorflow:sample_weight modes were coerced from\n",
      "  ...\n",
      "    to  \n",
      "  ['...']\n",
      "Train for 20 steps, validate for 30 steps\n",
      "Epoch 1/10\n",
      "19/20 [===========================>..] - ETA: 4s - loss: 0.1967 - acc: 0.9605WARNING:tensorflow:Your input ran out of data; interrupting training. Make sure that your dataset or generator can generate at least `steps_per_epoch * epochs` batches (in this case, 30 batches). You may need to use the repeat() function when building your dataset.\n",
      "20/20 [==============================] - 97s 5s/step - loss: 0.1875 - acc: 0.9625 - val_loss: 0.1092 - val_acc: 0.7308\n"
     ]
    }
   ],
   "source": [
    "histore = model.fit(train_gen,steps_per_epoch=20,epochs=10, validation_data=val_gen, validation_steps=30)"
   ]
  },
  {
   "cell_type": "markdown",
   "metadata": {
    "colab_type": "text",
    "id": "HF6t--EtaP60"
   },
   "source": [
    "Prepare test Data"
   ]
  },
  {
   "cell_type": "code",
   "execution_count": null,
   "metadata": {
    "colab": {
     "base_uri": "https://localhost:8080/",
     "height": 34
    },
    "colab_type": "code",
    "id": "28EaWx6YU1n8",
    "outputId": "08df3a17-6862-475c-966d-0254a431c7fa"
   },
   "outputs": [],
   "source": [
    "test_gen = gen.flow_from_directory(test , target_size=(200,200) , class_mode='binary' , batch_size= 20)"
   ]
  },
  {
   "cell_type": "code",
   "execution_count": 49,
   "metadata": {
    "colab": {
     "base_uri": "https://localhost:8080/",
     "height": 306
    },
    "colab_type": "code",
    "id": "W7fJJpNvjxBq",
    "outputId": "2d74de50-df22-484e-ca5b-a3629849e6be"
   },
   "outputs": [
    {
     "name": "stdout",
     "output_type": "stream",
     "text": [
      "data batch shape: (20, 200, 200, 3)\n",
      "labels batch shape: (20,)\n",
      "1.0\n",
      "1\n",
      "data batch shape: (20, 200, 200, 3)\n",
      "labels batch shape: (20,)\n",
      "0.0\n",
      "2\n",
      "data batch shape: (20, 200, 200, 3)\n",
      "labels batch shape: (20,)\n",
      "1.0\n",
      "3\n",
      "data batch shape: (20, 200, 200, 3)\n",
      "labels batch shape: (20,)\n",
      "0.0\n",
      "4\n",
      "4\n"
     ]
    }
   ],
   "source": [
    "counter =0\n",
    "for data_b, labels_b in test_gen:\n",
    "    print('data batch shape:', data_batch.shape)\n",
    "    print('labels batch shape:', labels_batch.shape)\n",
    "    print(labels_batch[counter])\n",
    "    counter += 1\n",
    "    print(counter)\n",
    "    if counter > 3:\n",
    "        break\n",
    "print(counter)"
   ]
  },
  {
   "cell_type": "code",
   "execution_count": 50,
   "metadata": {
    "colab": {
     "base_uri": "https://localhost:8080/",
     "height": 545
    },
    "colab_type": "code",
    "id": "URHZR0ZgkAbQ",
    "outputId": "e829e0b7-2985-46c7-ee5b-3afdc4753798"
   },
   "outputs": [
    {
     "data": {
      "image/png": "[encoded data removed]",
      "text/plain": [
       "<Figure size 432x288 with 1 Axes>"
      ]
     },
     "metadata": {
      "needs_background": "light",
      "tags": []
     },
     "output_type": "display_data"
    },
    {
     "data": {
      "image/png": "[encoded data removed]",
      "text/plain": [
       "<Figure size 432x288 with 1 Axes>"
      ]
     },
     "metadata": {
      "needs_background": "light",
      "tags": []
     },
     "output_type": "display_data"
    }
   ],
   "source": [
    "%matplotlib inline  \n",
    "import matplotlib.pyplot as plt\n",
    "history = histore.history\n",
    "acc = history['acc']\n",
    "val_acc = history['val_acc']\n",
    "loss = history['loss']\n",
    "val_loss = history['val_loss']\n",
    "epochs = range(1, len(acc) + 1)\n",
    "plt.plot(epochs, acc, 'bo', label='Training acc')\n",
    "plt.plot(epochs, val_acc, 'b', label='Validation acc')\n",
    "plt.title('Training and validation accuracy')\n",
    "plt.legend()\n",
    "plt.figure()\n",
    "plt.plot(epochs, loss, 'bo', label='Training loss')\n",
    "plt.plot(epochs, val_loss, 'b', label='Validation loss')\n",
    "plt.title('Training and validation loss')\n",
    "plt.legend()\n",
    "plt.show()\n"
   ]
  },
  {
   "cell_type": "markdown",
   "metadata": {
    "colab_type": "text",
    "id": "fXwZVnNraXHw"
   },
   "source": [
    "Test a single Image of Corona and non corona x-ray "
   ]
  },
  {
   "cell_type": "code",
   "execution_count": 0,
   "metadata": {
    "colab": {},
    "colab_type": "code",
    "id": "YDazADBV2jwo"
   },
   "outputs": [],
   "source": [
    "d = 'test/normal/IM-0131-0001.jpeg' # non corona image\n",
    "f = \"test/corona/SARS-10.1148rg.242035193-g04mr34g09b-Fig9b-day19.jpeg\"  # corona image"
   ]
  },
  {
   "cell_type": "code",
   "execution_count": 0,
   "metadata": {
    "colab": {},
    "colab_type": "code",
    "id": "sWg3LaSy3SpK"
   },
   "outputs": [],
   "source": [
    "t = image.load_img(d ,target_size=(200,200))\n",
    "t= image.img_to_array(t)\n",
    "t = np.expand_dims(t , axis=0)\n",
    "t/= 255.\n",
    "\n",
    "tf = image.load_img(f ,target_size=(200,200))\n",
    "tf= image.img_to_array(tf)\n",
    "tf = np.expand_dims(tf , axis=0)\n",
    "tf/= 255."
   ]
  },
  {
   "cell_type": "code",
   "execution_count": 53,
   "metadata": {
    "colab": {
     "base_uri": "https://localhost:8080/",
     "height": 550
    },
    "colab_type": "code",
    "id": "P2NPXAth3woC",
    "outputId": "7403b578-da96-45f8-bf0d-43d666356319"
   },
   "outputs": [
    {
     "data": {
      "text/plain": [
       "<matplotlib.image.AxesImage at 0x7fe86e66b6a0>"
      ]
     },
     "execution_count": 53,
     "metadata": {
      "tags": []
     },
     "output_type": "execute_result"
    },
    {
     "data": {
      "image/png": "[encoded data removed]",
      "text/plain": [
       "<Figure size 288x288 with 1 Axes>"
      ]
     },
     "metadata": {
      "needs_background": "light",
      "tags": []
     },
     "output_type": "display_data"
    },
    {
     "data": {
      "image/png": "[encoded data removed]",
      "text/plain": [
       "<Figure size 288x288 with 1 Axes>"
      ]
     },
     "metadata": {
      "needs_background": "light",
      "tags": []
     },
     "output_type": "display_data"
    }
   ],
   "source": [
    "plt.matshow(t[0]) # non corona image\n",
    "plt.matshow(tf[0]) # corona image"
   ]
  },
  {
   "cell_type": "code",
   "execution_count": 0,
   "metadata": {
    "colab": {},
    "colab_type": "code",
    "id": "uvBCY4Rw4EwO"
   },
   "outputs": [],
   "source": [
    "b = model.predict(t[[0]])\n",
    "a = model.predict(tf[[0]])"
   ]
  },
  {
   "cell_type": "code",
   "execution_count": 55,
   "metadata": {
    "colab": {
     "base_uri": "https://localhost:8080/",
     "height": 34
    },
    "colab_type": "code",
    "id": "4Ps6fg_14VoK",
    "outputId": "9595403a-d84c-44e3-fdd1-30f942ac1871"
   },
   "outputs": [
    {
     "name": "stdout",
     "output_type": "stream",
     "text": [
      "corona\n"
     ]
    }
   ],
   "source": [
    "if a<.50:\n",
    "  print(\"corona\")\n"
   ]
  },
  {
   "cell_type": "code",
   "execution_count": 56,
   "metadata": {
    "colab": {
     "base_uri": "https://localhost:8080/",
     "height": 34
    },
    "colab_type": "code",
    "id": "H0lovIeu6C6k",
    "outputId": "5d645833-7a47-4677-ceef-a4f169d8bf59"
   },
   "outputs": [
    {
     "name": "stdout",
     "output_type": "stream",
     "text": [
      "good health\n"
     ]
    }
   ],
   "source": [
    "if b>.50 :\n",
    "  print('good health')"
   ]
  },
  {
   "cell_type": "markdown",
   "metadata": {
    "colab_type": "text",
    "id": "Hn_f-Dc_ajhN"
   },
   "source": [
    "Making a list as per prediction on test data"
   ]
  },
  {
   "cell_type": "code",
   "execution_count": 0,
   "metadata": {
    "colab": {},
    "colab_type": "code",
    "id": "qlapXLOO6lSq"
   },
   "outputs": [],
   "source": [
    "# TEST the MOdel\n",
    "predict = model.predict(test_gen)\n",
    "predict = list(predict)"
   ]
  },
  {
   "cell_type": "code",
   "execution_count": 0,
   "metadata": {
    "colab": {},
    "colab_type": "code",
    "id": "OTyGZpsJ7PDM"
   },
   "outputs": [],
   "source": [
    "prediction =[]\n"
   ]
  },
  {
   "cell_type": "code",
   "execution_count": 0,
   "metadata": {
    "colab": {},
    "colab_type": "code",
    "id": "msOtfOE-7P7Y"
   },
   "outputs": [],
   "source": [
    "for i in predict:\n",
    "  if i>.50:\n",
    "    prediction.append(\"Healthy\")\n",
    "  else:\n",
    "    prediction.append('CORONA VIRUS')"
   ]
  },
  {
   "cell_type": "code",
   "execution_count": 60,
   "metadata": {
    "colab": {
     "base_uri": "https://localhost:8080/",
     "height": 697
    },
    "colab_type": "code",
    "id": "hxBoSyhG7Uiv",
    "outputId": "6ce4b700-004b-4186-87c1-3ea28da8feaf"
   },
   "outputs": [
    {
     "data": {
      "text/plain": [
       "(['Healthy',\n",
       "  'Healthy',\n",
       "  'CORONA VIRUS',\n",
       "  'CORONA VIRUS',\n",
       "  'CORONA VIRUS',\n",
       "  'CORONA VIRUS',\n",
       "  'CORONA VIRUS',\n",
       "  'CORONA VIRUS',\n",
       "  'Healthy',\n",
       "  'CORONA VIRUS',\n",
       "  'CORONA VIRUS',\n",
       "  'Healthy',\n",
       "  'Healthy',\n",
       "  'CORONA VIRUS',\n",
       "  'CORONA VIRUS',\n",
       "  'Healthy',\n",
       "  'Healthy',\n",
       "  'Healthy',\n",
       "  'Healthy',\n",
       "  'Healthy'],\n",
       " [array([0.99999964], dtype=float32),\n",
       "  array([0.99999094], dtype=float32),\n",
       "  array([0.00310535], dtype=float32),\n",
       "  array([0.03566553], dtype=float32),\n",
       "  array([0.00053127], dtype=float32),\n",
       "  array([0.00024431], dtype=float32),\n",
       "  array([0.00079519], dtype=float32),\n",
       "  array([0.00064908], dtype=float32),\n",
       "  array([0.9997609], dtype=float32),\n",
       "  array([0.00175281], dtype=float32),\n",
       "  array([0.00473713], dtype=float32),\n",
       "  array([0.99999833], dtype=float32),\n",
       "  array([0.9999964], dtype=float32),\n",
       "  array([3.0824533e-05], dtype=float32),\n",
       "  array([0.0006317], dtype=float32),\n",
       "  array([1.], dtype=float32),\n",
       "  array([0.999841], dtype=float32),\n",
       "  array([0.9999994], dtype=float32),\n",
       "  array([0.9999999], dtype=float32),\n",
       "  array([0.9983541], dtype=float32)])"
      ]
     },
     "execution_count": 60,
     "metadata": {
      "tags": []
     },
     "output_type": "execute_result"
    }
   ],
   "source": [
    "prediction,predict"
   ]
  },
  {
   "cell_type": "code",
   "execution_count": 0,
   "metadata": {
    "colab": {},
    "colab_type": "code",
    "id": "I62BWy2x7f9-"
   },
   "outputs": [],
   "source": [
    "model.save('Covide19 .h5')"
   ]
  },
  {
   "cell_type": "code",
   "execution_count": 0,
   "metadata": {
    "colab": {},
    "colab_type": "code",
    "id": "f_8w4dRhB14L"
   },
   "outputs": [],
   "source": []
  }
 ],
 "metadata": {
  "accelerator": "GPU",
  "colab": {
   "collapsed_sections": [],
   "name": "Covid 19 .ipynb",
   "provenance": []
  },
  "kernelspec": {
   "display_name": "Python 3",
   "language": "python",
   "name": "python3"
  },
  "language_info": {
   "codemirror_mode": {
    "name": "ipython",
    "version": 3
   },
   "file_extension": ".py",
   "mimetype": "text/x-python",
   "name": "python",
   "nbconvert_exporter": "python",
   "pygments_lexer": "ipython3",
   "version": "3.7.3"
  }
 },
 "nbformat": 4,
 "nbformat_minor": 1
}
