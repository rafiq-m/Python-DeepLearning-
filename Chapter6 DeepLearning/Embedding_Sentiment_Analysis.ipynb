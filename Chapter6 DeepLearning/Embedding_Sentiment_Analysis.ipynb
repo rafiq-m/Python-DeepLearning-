{
 "cells": [
  {
   "cell_type": "code",
   "execution_count": 13,
   "metadata": {},
   "outputs": [],
   "source": [
    "from tensorflow.keras.datasets import imdb\n",
    "from tensorflow.keras import preprocessing"
   ]
  },
  {
   "cell_type": "code",
   "execution_count": 14,
   "metadata": {},
   "outputs": [],
   "source": [
    "max_features = 10000\n",
    "maxlen = 20"
   ]
  },
  {
   "cell_type": "code",
   "execution_count": 12,
   "metadata": {},
   "outputs": [],
   "source": [
    "(x_train, y_train), (x_test, y_test) = imdb.load_data(num_words=max_features)"
   ]
  },
  {
   "cell_type": "code",
   "execution_count": 16,
   "metadata": {},
   "outputs": [
    {
     "data": {
      "text/plain": [
       "array([[  65,   16,   38, ...,   19,  178,   32],\n",
       "       [  23,    4, 1690, ...,   16,  145,   95],\n",
       "       [1352,   13,  191, ...,    7,  129,  113],\n",
       "       ...,\n",
       "       [  11, 1818, 7561, ...,    4, 3586,    2],\n",
       "       [  92,  401,  728, ...,   12,    9,   23],\n",
       "       [ 764,   40,    4, ...,  204,  131,    9]])"
      ]
     },
     "execution_count": 16,
     "metadata": {},
     "output_type": "execute_result"
    }
   ],
   "source": [
    "x_train"
   ]
  },
  {
   "cell_type": "code",
   "execution_count": 15,
   "metadata": {},
   "outputs": [],
   "source": [
    "x_train = preprocessing.sequence.pad_sequences(x_train, maxlen=maxlen)\n",
    "x_test = preprocessing.sequence.pad_sequences(x_test, maxlen=maxlen)"
   ]
  },
  {
   "cell_type": "code",
   "execution_count": 17,
   "metadata": {},
   "outputs": [
    {
     "name": "stdout",
     "output_type": "stream",
     "text": [
      "Model: \"sequential_3\"\n",
      "_________________________________________________________________\n",
      "Layer (type)                 Output Shape              Param #   \n",
      "=================================================================\n",
      "embedding_2 (Embedding)      (None, 20, 16)            160000    \n",
      "_________________________________________________________________\n",
      "flatten_2 (Flatten)          (None, 320)               0         \n",
      "_________________________________________________________________\n",
      "dense_2 (Dense)              (None, 1)                 321       \n",
      "=================================================================\n",
      "Total params: 160,321\n",
      "Trainable params: 160,321\n",
      "Non-trainable params: 0\n",
      "_________________________________________________________________\n",
      "Train on 20000 samples, validate on 5000 samples\n",
      "Epoch 1/10\n",
      "20000/20000 [==============================] - 3s 171us/step - loss: 0.6484 - acc: 0.6477 - val_loss: 0.5723 - val_acc: 0.7114\n",
      "Epoch 2/10\n",
      "20000/20000 [==============================] - 3s 161us/step - loss: 0.4962 - acc: 0.7684 - val_loss: 0.5039 - val_acc: 0.7458\n",
      "Epoch 3/10\n",
      "20000/20000 [==============================] - 2s 124us/step - loss: 0.4297 - acc: 0.8027 - val_loss: 0.4916 - val_acc: 0.7552\n",
      "Epoch 4/10\n",
      "20000/20000 [==============================] - 3s 153us/step - loss: 0.3919 - acc: 0.8260 - val_loss: 0.4932 - val_acc: 0.7600\n",
      "Epoch 5/10\n",
      "20000/20000 [==============================] - 3s 139us/step - loss: 0.3604 - acc: 0.8442 - val_loss: 0.4971 - val_acc: 0.7596\n",
      "Epoch 6/10\n",
      "20000/20000 [==============================] - 3s 139us/step - loss: 0.3317 - acc: 0.8605 - val_loss: 0.5056 - val_acc: 0.7536\n",
      "Epoch 7/10\n",
      "20000/20000 [==============================] - 3s 151us/step - loss: 0.3028 - acc: 0.8786 - val_loss: 0.5130 - val_acc: 0.7520\n",
      "Epoch 8/10\n",
      "20000/20000 [==============================] - 3s 147us/step - loss: 0.2746 - acc: 0.8932 - val_loss: 0.5240 - val_acc: 0.7522\n",
      "Epoch 9/10\n",
      "20000/20000 [==============================] - 3s 139us/step - loss: 0.2473 - acc: 0.9063 - val_loss: 0.5380 - val_acc: 0.7492\n",
      "Epoch 10/10\n",
      "20000/20000 [==============================] - 3s 145us/step - loss: 0.2216 - acc: 0.9193 - val_loss: 0.5525 - val_acc: 0.7434\n"
     ]
    }
   ],
   "source": [
    "from keras.models import Sequential\n",
    "from keras.layers import Flatten, Dense,Embedding\n",
    "model = Sequential()\n",
    "model.add(Embedding(10000, 16, input_length=maxlen))\n",
    "model.add(Flatten())\n",
    "model.add(Dense(1, activation='sigmoid'))\n",
    "model.compile(optimizer='rmsprop', loss='binary_crossentropy', metrics=['acc'])\n",
    "model.summary()\n",
    "history = model.fit(x_train, y_train,\n",
    "epochs=10,\n",
    "batch_size=32,\n",
    "validation_split=0.2)"
   ]
  },
  {
   "cell_type": "code",
   "execution_count": null,
   "metadata": {},
   "outputs": [],
   "source": []
  }
 ],
 "metadata": {
  "kernelspec": {
   "display_name": "Python 3",
   "language": "python",
   "name": "python3"
  },
  "language_info": {
   "codemirror_mode": {
    "name": "ipython",
    "version": 3
   },
   "file_extension": ".py",
   "mimetype": "text/x-python",
   "name": "python",
   "nbconvert_exporter": "python",
   "pygments_lexer": "ipython3",
   "version": "3.7.3"
  }
 },
 "nbformat": 4,
 "nbformat_minor": 2
}
