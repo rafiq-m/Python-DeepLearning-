{
 "cells": [
  {
   "cell_type": "code",
   "execution_count": 1,
   "metadata": {},
   "outputs": [
    {
     "name": "stderr",
     "output_type": "stream",
     "text": [
      "Using TensorFlow backend.\n"
     ]
    }
   ],
   "source": [
    "from keras.datasets import boston_housing\n",
    "(train_data, train_targets), (test_data, test_targets) = boston_housing.load_data()"
   ]
  },
  {
   "cell_type": "code",
   "execution_count": 2,
   "metadata": {},
   "outputs": [],
   "source": [
    "mean = train_data.mean(axis=0)\n",
    "train_data -= mean\n",
    "std = train_data.std(axis=0)\n",
    "train_data /= std\n",
    "test_data -= mean\n",
    "test_data /= std"
   ]
  },
  {
   "cell_type": "code",
   "execution_count": 3,
   "metadata": {},
   "outputs": [],
   "source": [
    "from keras import models, Model\n",
    "from keras import layers\n",
    "import keras\n",
    "def build_model():    \n",
    "    i = layers.Input(shape=(train_data.shape[1],),dtype='float32')\n",
    "    x = layers.Dense(64, activation='relu')(i)\n",
    "    x = layers.BatchNormalization()(x)\n",
    "    x = layers.Dense(1)(x)\n",
    "    model = Model(i,x)\n",
    "    model.compile(optimizer='rmsprop', loss='mse', metrics=['mae'])\n",
    "    return model"
   ]
  },
  {
   "cell_type": "code",
   "execution_count": 4,
   "metadata": {},
   "outputs": [
    {
     "name": "stdout",
     "output_type": "stream",
     "text": [
      "WARNING:tensorflow:From C:\\Users\\khan\\Anaconda3\\lib\\site-packages\\keras\\backend\\tensorflow_backend.py:422: The name tf.global_variables is deprecated. Please use tf.compat.v1.global_variables instead.\n",
      "\n",
      "Train on 404 samples, validate on 102 samples\n",
      "Epoch 1/10\n",
      "404/404 [==============================] - 2s 5ms/step - loss: 569.5542 - mae: 22.2729 - val_loss: 587.9706 - val_mae: 22.6484\n",
      "Epoch 2/10\n",
      "404/404 [==============================] - 0s 448us/step - loss: 547.1603 - mae: 22.0875 - val_loss: 574.4914 - val_mae: 22.4785\n",
      "Epoch 3/10\n",
      "404/404 [==============================] - 0s 386us/step - loss: 530.1657 - mae: 21.9163 - val_loss: 560.9142 - val_mae: 22.2953\n",
      "Epoch 4/10\n",
      "404/404 [==============================] - 0s 680us/step - loss: 513.3322 - mae: 21.7297 - val_loss: 547.0057 - val_mae: 22.1000\n",
      "Epoch 5/10\n",
      "404/404 [==============================] - 0s 510us/step - loss: 498.3253 - mae: 21.5204 - val_loss: 533.1094 - val_mae: 21.8880\n",
      "Epoch 6/10\n",
      "404/404 [==============================] - 0s 535us/step - loss: 485.1337 - mae: 21.2935 - val_loss: 517.6694 - val_mae: 21.6392\n",
      "Epoch 7/10\n",
      "404/404 [==============================] - 0s 329us/step - loss: 471.0025 - mae: 21.0425 - val_loss: 503.9623 - val_mae: 21.4104\n",
      "Epoch 8/10\n",
      "404/404 [==============================] - 0s 441us/step - loss: 455.0286 - mae: 20.7675 - val_loss: 488.9467 - val_mae: 21.1471\n",
      "Epoch 9/10\n",
      "404/404 [==============================] - 0s 369us/step - loss: 440.4830 - mae: 20.4744 - val_loss: 474.2133 - val_mae: 20.8761\n",
      "Epoch 10/10\n",
      "404/404 [==============================] - 0s 564us/step - loss: 426.7263 - mae: 20.1477 - val_loss: 457.6254 - val_mae: 20.5591\n"
     ]
    },
    {
     "data": {
      "text/plain": [
       "<keras.callbacks.callbacks.History at 0x26786281b00>"
      ]
     },
     "execution_count": 4,
     "metadata": {},
     "output_type": "execute_result"
    }
   ],
   "source": [
    "model = build_model()\n",
    "model.fit(train_data,train_targets,epochs=10,validation_data=(test_data, test_targets))"
   ]
  },
  {
   "cell_type": "code",
   "execution_count": null,
   "metadata": {},
   "outputs": [],
   "source": []
  }
 ],
 "metadata": {
  "kernelspec": {
   "display_name": "Python 3",
   "language": "python",
   "name": "python3"
  },
  "language_info": {
   "codemirror_mode": {
    "name": "ipython",
    "version": 3
   },
   "file_extension": ".py",
   "mimetype": "text/x-python",
   "name": "python",
   "nbconvert_exporter": "python",
   "pygments_lexer": "ipython3",
   "version": "3.7.3"
  }
 },
 "nbformat": 4,
 "nbformat_minor": 2
}
