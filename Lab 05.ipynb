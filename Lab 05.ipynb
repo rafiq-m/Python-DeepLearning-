{
 "cells": [
  {
   "cell_type": "code",
   "execution_count": 24,
   "metadata": {},
   "outputs": [
    {
     "name": "stdout",
     "output_type": "stream",
     "text": [
      "N\n",
      "-\n",
      "6\n"
     ]
    }
   ],
   "source": [
    "from pyDatalog import pyDatalog as py\n",
    "py.create_terms('factorial, N')\n",
    "\n",
    "\n",
    "factorial[N] = N*factorial[N-1]\n",
    "factorial[1] = 1\n",
    "print(factorial[3]==N)"
   ]
  },
  {
   "cell_type": "code",
   "execution_count": 31,
   "metadata": {},
   "outputs": [
    {
     "name": "stdout",
     "output_type": "stream",
     "text": [
      "X    \n",
      "-----\n",
      "marry\n",
      "X   \n",
      "----\n",
      "john\n"
     ]
    }
   ],
   "source": [
    "py.create_terms('parent,bill,marry,john,ancestor,X,Y,Z')\n",
    "+parent(bill,marry)\n",
    "+parent(marry, john)\n",
    "\n",
    "ancestor(X,Y) <= parent(X,Y)\n",
    "ancestor(X,Y) <= parent(X,Y) & ancestor(Z,Y)\n",
    "\n",
    "print(ancestor(bill,X))\n",
    "print(parent(marry,X))"
   ]
  },
  {
   "cell_type": "code",
   "execution_count": null,
   "metadata": {},
   "outputs": [],
   "source": []
  }
 ],
 "metadata": {
  "kernelspec": {
   "display_name": "Python 3",
   "language": "python",
   "name": "python3"
  },
  "language_info": {
   "codemirror_mode": {
    "name": "ipython",
    "version": 3
   },
   "file_extension": ".py",
   "mimetype": "text/x-python",
   "name": "python",
   "nbconvert_exporter": "python",
   "pygments_lexer": "ipython3",
   "version": "3.7.3"
  }
 },
 "nbformat": 4,
 "nbformat_minor": 2
}
