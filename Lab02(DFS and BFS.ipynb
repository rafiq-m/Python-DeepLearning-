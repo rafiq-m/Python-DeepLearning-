{
 "cells": [
  {
   "cell_type": "markdown",
   "metadata": {
    "scrolled": true
   },
   "source": [
    "# Depth First Search"
   ]
  },
  {
   "cell_type": "code",
   "execution_count": 129,
   "metadata": {},
   "outputs": [
    {
     "name": "stdout",
     "output_type": "stream",
     "text": [
      "['A', 'B', 'D', 'E', 'C', 'F']\n"
     ]
    }
   ],
   "source": [
    "graph1 = {\n",
    "    'A': ['B','C'],\n",
    "    'B': ['D','E'],\n",
    "    'C': ['F'],\n",
    "    'D': ['B'],\n",
    "    'E': ['B'],\n",
    "    'F': ['C']\n",
    "}\n",
    "graph2={\n",
    "    '0':set(['1','2']),\n",
    "    '1':set(['3','4']),\n",
    "    '2':set(['5']),\n",
    "    '3':set(['5']),\n",
    "    '4':set(['1']),\n",
    "    '5':set(['2'])\n",
    "}\n",
    "\n",
    "def dfs(graph, node, visited):\n",
    "    if node not in visited:\n",
    "        visited.append(node)\n",
    "        for n in graph[node]:\n",
    "            dfs(graph,n,visited)\n",
    "        return visited\n",
    "\n",
    "visited=dfs(graph1,'A',[])\n",
    "print(visited)"
   ]
  },
  {
   "cell_type": "markdown",
   "metadata": {},
   "source": [
    "# Breadth First Search"
   ]
  },
  {
   "cell_type": "code",
   "execution_count": 132,
   "metadata": {},
   "outputs": [],
   "source": [
    "def bfs(graph, node, visited, queue):\n",
    "    if node not in visited:\n",
    "        visited.append(node)\n",
    "        if node not in queue:\n",
    "            queue.append(node)\n",
    "        for i in graph[queue.pop(0)]:\n",
    "            queue.append(i)       \n",
    "        if len(queue) != 0:\n",
    "            bfs(graph,queue[0],visited,queue)       \n",
    "        return visited"
   ]
  },
  {
   "cell_type": "code",
   "execution_count": 133,
   "metadata": {},
   "outputs": [
    {
     "name": "stdout",
     "output_type": "stream",
     "text": [
      "['0', '2', '1', '5', '4', '3']\n"
     ]
    }
   ],
   "source": [
    "visited = bfs(graph2,'0',[],[])\n",
    "print(visited)"
   ]
  },
  {
   "cell_type": "markdown",
   "metadata": {},
   "source": [
    "# Task For Pacman"
   ]
  },
  {
   "cell_type": "code",
   "execution_count": 135,
   "metadata": {},
   "outputs": [
    {
     "name": "stdout",
     "output_type": "stream",
     "text": [
      "path [(1, 2), (2, 2), (2, 3)]\n"
     ]
    }
   ],
   "source": [
    "\n",
    "from queue import PriorityQueue\n",
    "\n",
    "def dfs(graph, start, goal):\n",
    "    visited = []\n",
    "    path = []\n",
    "    fringe = PriorityQueue()\n",
    "    fringe.put((0, start, path, visited))\n",
    "\n",
    "    while not fringe.empty():\n",
    "        depth, current_node, path, visited = fringe.get()\n",
    "\n",
    "        if current_node == goal:\n",
    "            return path + [current_node]\n",
    "\n",
    "        visited = visited + [current_node]\n",
    "\n",
    "        child_nodes = graph[current_node]\n",
    "        for node in child_nodes:\n",
    "            if node not in visited:\n",
    "                if node == goal:\n",
    "                    return path + [node]\n",
    "                depth_of_node = len(path)\n",
    "                fringe.put((-depth_of_node, node, path + [node], visited))\n",
    "\n",
    "    return path\n",
    "\n",
    "if __name__ == \"__main__\":\n",
    "    graph = {\n",
    "        (1,1): set([(1,2), (2,1)]),\n",
    "        (1,2): set([(2,2), (1,3)]),\n",
    "        (1,3): set([(1,4), (1,2)]),\n",
    "        (1,4): set([(1,3), (2,4)]),\n",
    "        (2,1): set([(1,1), (1,3)]),\n",
    "        (2,2): set([(2,3), (1,2)]),\n",
    "        (2,3): set([(2,2)]),\n",
    "        (2,4): set([(1,4), (3,4)]),\n",
    "        (3,1): set([(2,1), (3,2)]),\n",
    "        (3,2): set([(3,1), (3,3)]),\n",
    "        (3,3): set([(3,2), (3,4)]),\n",
    "        (3,4): set([(2,4), (3,3)]),\n",
    "    }\n",
    "\n",
    "    path = dfs(graph, (1,1), (2,3))\n",
    "    print(\"path\", path) # ==> [(1,2), (2,2), (2,3)]"
   ]
  },
  {
   "cell_type": "code",
   "execution_count": null,
   "metadata": {},
   "outputs": [],
   "source": []
  }
 ],
 "metadata": {
  "kernelspec": {
   "display_name": "Python 3",
   "language": "python",
   "name": "python3"
  },
  "language_info": {
   "codemirror_mode": {
    "name": "ipython",
    "version": 3
   },
   "file_extension": ".py",
   "mimetype": "text/x-python",
   "name": "python",
   "nbconvert_exporter": "python",
   "pygments_lexer": "ipython3",
   "version": "3.7.3"
  }
 },
 "nbformat": 4,
 "nbformat_minor": 2
}
