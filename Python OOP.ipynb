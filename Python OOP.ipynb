{
 "cells": [
  {
   "cell_type": "code",
   "execution_count": null,
   "metadata": {},
   "outputs": [],
   "source": [
    "class Animal():\n",
    "    counter = 0\n",
    "    def __init__(this, name, legs):\n",
    "        this.name = name\n",
    "        this.legs = legs\n",
    "        Animal.counter  += 1\n",
    "        \n",
    "    def speak(this, speak = \"blabla\"):\n",
    "        print(speak)\n",
    "    def walk(this, walking = \"_+_+_+_+\"):\n",
    "        print(walking)\n",
    "        \n",
    "class Human(Animal):\n",
    "    def __init__(this, name, legs, comSense, clothing):\n",
    "        super().__init__(name, legs)\n",
    "        this.comSense = comSense\n",
    "        this.clothing = clothing\n",
    "    def comSense(this, sense):\n",
    "        this.comSense = sense\n",
    "        print(comSense)\n",
    "    def clothing(this, clothing):\n",
    "        this.clothing = clothing\n",
    "        print(this.clothing)\n",
    "        \n",
    "class Male(Human):\n",
    "    def __init__(this,name, legs, comSense, clothing, beard, riding):\n",
    "        super().__init__(name, legs, comSense, clothing)\n",
    "        this.beard = beard\n",
    "        this.riding = riding\n",
    "    def beard(this, beard = \"Don't have\"):\n",
    "        this.beard = beard\n",
    "        print(this.beard)\n",
    "    def riding(this, riding = \"No\"):\n",
    "        this.riding = riding\n",
    "        print(this.riding)\n",
    "        \n",
    "class Female(Human):\n",
    "    def __init__(this, shop):\n",
    "        this.shop = shop\n",
    "    def shopping(this, shop = \"Shopping\"):\n",
    "        this.shop = shop\n",
    "        print(this.shop)\n",
    "        \n",
    "    "
   ]
  },
  {
   "cell_type": "code",
   "execution_count": null,
   "metadata": {},
   "outputs": [],
   "source": [
    "obj1 = Human(\"Rafiq\",4,\"asd\",\"Asd\")"
   ]
  },
  {
   "cell_type": "code",
   "execution_count": null,
   "metadata": {},
   "outputs": [],
   "source": [
    "obj2 = Male(\"Rafiq\",4,\"Yes\",\"Yes\",\"Yes\",\"Yes\")"
   ]
  },
  {
   "cell_type": "code",
   "execution_count": null,
   "metadata": {},
   "outputs": [],
   "source": [
    "'''Logging System '''\n",
    "\n",
    "class logging():\n",
    "    def __init__(this,username,password):\n",
    "        this.username = username\n",
    "        this.password = password\n",
    "        \n",
    "    def logging(this, password = \"Null\"):\n",
    "        if this.username == this.username and this.password == password:\n",
    "            print(\"You have logged into the system\")\n",
    "        else:\n",
    "            print(\"You have not logged into the system\")"
   ]
  },
  {
   "cell_type": "code",
   "execution_count": null,
   "metadata": {},
   "outputs": [],
   "source": [
    "obj1  = logging(\"Rafiq\",\"Rafiq\")\n"
   ]
  },
  {
   "cell_type": "code",
   "execution_count": null,
   "metadata": {},
   "outputs": [],
   "source": [
    "obj1.logging(\"Rrafiq\")"
   ]
  },
  {
   "cell_type": "code",
   "execution_count": 5,
   "metadata": {},
   "outputs": [],
   "source": [
    "'''Logging System with Details'''\n",
    "class username():\n",
    "    def __init__(this):\n",
    "        this.name = \"--\"\n",
    "        this.password = \"--\"\n",
    "        this.contactNo = \"--\"\n",
    "        this.email = \"--\"\n",
    "        \n",
    "    def signup(this):\n",
    "        if this.name == \"--\":\n",
    "            this.name = input(\"Enter your name:\")\n",
    "            this.password = input(\"Enter your password:\")\n",
    "            this.contactNo = input(\"Enter Your contact No: \")\n",
    "            this.email = input(\"Enter you email:\")\n",
    "\n",
    "    def login(this):\n",
    "        name = input(\"Enter your name:\")\n",
    "        password = input(\"Enter Your password:\")\n",
    "        if name == this.name and this.password == password:\n",
    "            print(\"You have logged into the system\")\n",
    "        else:\n",
    "            print(\"You have not logged into the system\")\n",
    "            \n",
    "    def forgotPassword(this):\n",
    "            name= input(\"Enter your Name:\")\n",
    "            if name == this.name:\n",
    "                this.password = input(\"Enter your new password:\")\n",
    "            else:\n",
    "                print(\"You have entered a wrong username,Enter again\")            "
   ]
  },
  {
   "cell_type": "code",
   "execution_count": 11,
   "metadata": {},
   "outputs": [
    {
     "name": "stdout",
     "output_type": "stream",
     "text": [
      "Enter \n",
      " 1- For Signup \n",
      " 2- For Login \n",
      " 3- For Forgot Password\n",
      "1\n",
      "Enter your name:rafiq\n",
      "Enter your password:rafiq\n",
      "Enter Your contact No: rafiq\n",
      "Enter you email:rafiq\n",
      "Do you wan't to do other functions\n",
      "1- for yes \n",
      "0- for No1\n",
      "Enter \n",
      " 1- For Signup \n",
      " 2- For Login \n",
      " 3- For Forgot Password\n",
      "2\n",
      "Enter your name:rafiq\n",
      "Enter Your password:rafiq\n",
      "You have not logged into the system\n",
      "Do you wan't to do other functions\n",
      "1- for yes \n",
      "0- for No0\n"
     ]
    }
   ],
   "source": [
    "i=1\n",
    "while i != 0:\n",
    "    print(\"Enter \\n 1- For Signup \\n 2- For Login \\n 3- For Forgot Password\")\n",
    "    a=int(input())\n",
    "    user = username()\n",
    "    if a==1:\n",
    "        user.signup()\n",
    "    elif a ==2:\n",
    "        user.login()\n",
    "    else:\n",
    "        user.forgotPassword()\n",
    "    i =  int(input(\"Do you wan't to do other functions\\n1- for yes \\n0- for No\"))\n"
   ]
  },
  {
   "cell_type": "code",
   "execution_count": null,
   "metadata": {},
   "outputs": [],
   "source": []
  }
 ],
 "metadata": {
  "kernelspec": {
   "display_name": "Python 3",
   "language": "python",
   "name": "python3"
  },
  "language_info": {
   "codemirror_mode": {
    "name": "ipython",
    "version": 3
   },
   "file_extension": ".py",
   "mimetype": "text/x-python",
   "name": "python",
   "nbconvert_exporter": "python",
   "pygments_lexer": "ipython3",
   "version": "3.7.3"
  }
 },
 "nbformat": 4,
 "nbformat_minor": 2
}
