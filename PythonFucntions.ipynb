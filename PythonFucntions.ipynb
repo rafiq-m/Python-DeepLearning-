{
 "cells": [
  {
   "cell_type": "code",
   "execution_count": 3,
   "metadata": {},
   "outputs": [
    {
     "data": {
      "text/plain": [
       "'FUNCTIONS, range function generate list'"
      ]
     },
     "execution_count": 3,
     "metadata": {},
     "output_type": "execute_result"
    }
   ],
   "source": [
    "'''FUNCTIONS, range function generate list.Function is a block of python code which does something \n",
    "when we just call it's name.\n",
    "def is a keyword which is used to define the function. e.g def addnumbers(), in the end colon should be there\n",
    "function is also a parametrized. def function(num1,num2). So to retur any value we would use return keyword'''"
   ]
  },
  {
   "cell_type": "code",
   "execution_count": 5,
   "metadata": {},
   "outputs": [
    {
     "name": "stdout",
     "output_type": "stream",
     "text": [
      "6\n"
     ]
    }
   ],
   "source": [
    "def addition():\n",
    "    num1=4\n",
    "    num2=2\n",
    "    print(num1+num2)\n",
    "    \n",
    "    \n",
    "addition()"
   ]
  },
  {
   "cell_type": "code",
   "execution_count": 6,
   "metadata": {},
   "outputs": [
    {
     "name": "stdout",
     "output_type": "stream",
     "text": [
      "7\n"
     ]
    }
   ],
   "source": [
    "def addition(num1,num2):\n",
    "    print(num1+num2)\n",
    "addition(2,5)"
   ]
  },
  {
   "cell_type": "code",
   "execution_count": 1,
   "metadata": {},
   "outputs": [
    {
     "name": "stdout",
     "output_type": "stream",
     "text": [
      "12\n"
     ]
    }
   ],
   "source": [
    "def func(num1,num2):\n",
    "    return num1+num2\n",
    "\n",
    "output=func(10,2)\n",
    "print(output)"
   ]
  },
  {
   "cell_type": "code",
   "execution_count": 6,
   "metadata": {},
   "outputs": [
    {
     "name": "stdout",
     "output_type": "stream",
     "text": [
      "Enter 1st number:2\n",
      "Enter 2nd number:0\n",
      "Enter character/\n",
      "infinity\n"
     ]
    }
   ],
   "source": [
    "def functions(num1,num2,character):\n",
    "    if character == '+':\n",
    "        return num1+num2\n",
    "    elif character == '-':\n",
    "        return num1-num2\n",
    "    elif character == '*':\n",
    "        return num1*num2\n",
    "    else:\n",
    "        if num2 != 0:\n",
    "            return num1/num2\n",
    "        else:\n",
    "            return \"infinity\"\n",
    "\n",
    "num1 = int(input(\"Enter 1st number:\"))\n",
    "num2 = int(input(\"Enter 2nd number:\"))\n",
    "character = input(\"Enter character\")\n",
    "output = functions(num1,num2,character)\n",
    "print(output)"
   ]
  },
  {
   "cell_type": "code",
   "execution_count": 11,
   "metadata": {},
   "outputs": [
    {
     "name": "stdout",
     "output_type": "stream",
     "text": [
      "200.0\n",
      "40.0\n"
     ]
    }
   ],
   "source": [
    "def tax_cut(sales_total, tax_rate =.04):\n",
    "    print(sales_total*tax_rate)\n",
    "    \n",
    "tax_cut(1000,.2)\n",
    "tax_cut(1000)"
   ]
  },
  {
   "cell_type": "code",
   "execution_count": 14,
   "metadata": {},
   "outputs": [
    {
     "name": "stdout",
     "output_type": "stream",
     "text": [
      "a = 15\n",
      "b = 20\n",
      "a = 15\n",
      "b = 15\n",
      "a = 10\n",
      "b = 15\n",
      "a = 1\n",
      "b = 2\n",
      "a = 20\n",
      "b = 9\n",
      "a = 12\n",
      "b = 10\n"
     ]
    }
   ],
   "source": [
    "def optional_args(a,b=15):\n",
    "    print('a =',a)\n",
    "    print('b =',b)\n",
    "    \n",
    "optional_args(15,20)\n",
    "optional_args(15)\n",
    "optional_args(a=10)\n",
    "optional_args(b=2,a=1)\n",
    "optional_args(20,b=9)\n",
    "optional_args(a=12,b=10)"
   ]
  },
  {
   "cell_type": "code",
   "execution_count": 15,
   "metadata": {},
   "outputs": [
    {
     "name": "stdout",
     "output_type": "stream",
     "text": [
      "x\n",
      "{'arg1': 1, 'arg2': 2, 'arg3': 4}\n"
     ]
    }
   ],
   "source": [
    "'''Unknown no. of Arguments in a function. By adding ** the parameter becomes dictionary '''\n",
    "def numfun(x,**others):\n",
    "    print(x)\n",
    "    print(others)\n",
    "    \n",
    "numfun('x',arg1= 1,arg2=2,arg3=4)"
   ]
  },
  {
   "cell_type": "code",
   "execution_count": 17,
   "metadata": {},
   "outputs": [
    {
     "name": "stdout",
     "output_type": "stream",
     "text": [
      "4\n",
      "{'pak': 6.0, 'ind': 0, 'SA': 2, 'jst': 3}\n"
     ]
    }
   ],
   "source": [
    "def worldCup(teams,**noOfTeams):\n",
    "    print(teams)\n",
    "    print(noOfTeams)\n",
    "    \n",
    "worldCup(4,pak=6.0,ind=0,SA=2,jst=3)"
   ]
  },
  {
   "cell_type": "code",
   "execution_count": 19,
   "metadata": {},
   "outputs": [
    {
     "name": "stdout",
     "output_type": "stream",
     "text": [
      "(23, 32, 343, 54, 65, 76, 'asd')\n"
     ]
    }
   ],
   "source": [
    "'''Arguments handling through tuple'''\n",
    "def f(*a):\n",
    "    print(a)\n",
    "f(23,32,343,54,65,76,'asd')"
   ]
  },
  {
   "cell_type": "code",
   "execution_count": 21,
   "metadata": {},
   "outputs": [
    {
     "name": "stdout",
     "output_type": "stream",
     "text": [
      "['Hello']\n"
     ]
    }
   ],
   "source": [
    "'''Arguments handling through list. It would call by refernce'''\n",
    "def func4(l):\n",
    "    l.append('Hello')\n",
    "\n",
    "l=[]\n",
    "func4(l)\n",
    "print(l)"
   ]
  },
  {
   "cell_type": "code",
   "execution_count": 36,
   "metadata": {},
   "outputs": [
    {
     "name": "stdout",
     "output_type": "stream",
     "text": [
      "['Hello', 'Hello', 'Hello', 'Hello', 'Hello', 'Hello', 'Hello', 'Hello']\n"
     ]
    }
   ],
   "source": [
    "'''Using function as variable, jab kab list denge tab tab append kardenge '''\n",
    "x=func4\n",
    "x(l)\n",
    "print(l)"
   ]
  },
  {
   "cell_type": "code",
   "execution_count": 39,
   "metadata": {},
   "outputs": [
    {
     "name": "stdout",
     "output_type": "stream",
     "text": [
      "function completed\n"
     ]
    }
   ],
   "source": [
    "def message():\n",
    "    print(\"function completed\")\n",
    "    def x():\n",
    "        print('x')      \n",
    "        x()\n",
    "    \n",
    "message()"
   ]
  },
  {
   "cell_type": "code",
   "execution_count": null,
   "metadata": {},
   "outputs": [],
   "source": [
    "'''for loop yar tou hum string and list pe chlate the kiyonke hum uski length ka pta hota tha\n",
    "Now , we will study while loop '''\n",
    "while():\n",
    "    \n",
    "    \n"
   ]
  }
 ],
 "metadata": {
  "kernelspec": {
   "display_name": "Python 3",
   "language": "python",
   "name": "python3"
  },
  "language_info": {
   "codemirror_mode": {
    "name": "ipython",
    "version": 3
   },
   "file_extension": ".py",
   "mimetype": "text/x-python",
   "name": "python",
   "nbconvert_exporter": "python",
   "pygments_lexer": "ipython3",
   "version": "3.7.3"
  }
 },
 "nbformat": 4,
 "nbformat_minor": 2
}
