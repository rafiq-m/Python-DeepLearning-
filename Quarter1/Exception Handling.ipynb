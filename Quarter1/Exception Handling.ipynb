{
 "cells": [
  {
   "cell_type": "code",
   "execution_count": 8,
   "metadata": {},
   "outputs": [
    {
     "name": "stdout",
     "output_type": "stream",
     "text": [
      "-2.5\n",
      "No error\n",
      "Hi\n",
      "-5.0\n",
      "No error\n",
      "Hi\n",
      "Zero can not be divided\n",
      "Hi\n",
      "5.0\n",
      "No error\n",
      "Hi\n"
     ]
    }
   ],
   "source": [
    "for i in range(-2,2):\n",
    "    try:\n",
    "        print(5/i)\n",
    "    except ZeroDivisionError:\n",
    "        print(\"Zero can not be divided\")\n",
    "    except IndexError:\n",
    "        print(\"Index out of bond\")\n",
    "    else:\n",
    "        print(\"No error\")\n",
    "    finally:\n",
    "        print(\"Hi\")\n",
    "#else jab chle ga jab koi error nhi hoga\n",
    "# for me bhi else hota he "
   ]
  },
  {
   "cell_type": "code",
   "execution_count": 10,
   "metadata": {},
   "outputs": [
    {
     "name": "stdout",
     "output_type": "stream",
     "text": [
      "0\n",
      "1\n",
      "2\n",
      "3\n",
      "4\n",
      "5\n",
      "6\n",
      "7\n",
      "8\n",
      "8\n"
     ]
    }
   ],
   "source": [
    "for i in range(0,9):\n",
    "    print(i)\n",
    "else:\n",
    "    print(i)"
   ]
  }
 ],
 "metadata": {
  "kernelspec": {
   "display_name": "Python 3",
   "language": "python",
   "name": "python3"
  },
  "language_info": {
   "codemirror_mode": {
    "name": "ipython",
    "version": 3
   },
   "file_extension": ".py",
   "mimetype": "text/x-python",
   "name": "python",
   "nbconvert_exporter": "python",
   "pygments_lexer": "ipython3",
   "version": "3.7.3"
  }
 },
 "nbformat": 4,
 "nbformat_minor": 2
}
