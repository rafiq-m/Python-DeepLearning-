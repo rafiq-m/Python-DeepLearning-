{
 "cells": [
  {
   "cell_type": "code",
   "execution_count": 5,
   "metadata": {},
   "outputs": [],
   "source": [
    "with open('abc.txt','w') as f:\n",
    "    f.write(\"Hello world\")"
   ]
  },
  {
   "cell_type": "code",
   "execution_count": 10,
   "metadata": {},
   "outputs": [],
   "source": [
    "with open('abc.txt','a') as f:\n",
    "    f.write(\"Hahahahah\")"
   ]
  },
  {
   "cell_type": "code",
   "execution_count": 1,
   "metadata": {},
   "outputs": [
    {
     "name": "stdout",
     "output_type": "stream",
     "text": [
      "Hello worldHahahahahHahahahah\n"
     ]
    }
   ],
   "source": [
    "with open(\"abc.txt\",\"r\") as f:\n",
    "    print(f.read())"
   ]
  },
  {
   "cell_type": "code",
   "execution_count": 2,
   "metadata": {},
   "outputs": [],
   "source": [
    "# x mode make file the first and then write it. if the file exist then it will give error. \n",
    "# rt mode is for text and rb mode is for binary \n",
    "# wt mode is for writing text and wb means for writing in binary \n",
    "# + mode is for reading and writing both r+ is for read and for write and the write function will append the file\n",
    "# w+ mode will overrite(Empty the file) the data then write it "
   ]
  },
  {
   "cell_type": "code",
   "execution_count": 5,
   "metadata": {},
   "outputs": [
    {
     "name": "stdout",
     "output_type": "stream",
     "text": [
      "0.03533390885181431\n"
     ]
    }
   ],
   "source": [
    "'''Random Module '''\n",
    "import random as r\n",
    "print(r.random())     #It will generate  number from 0 t 1 and it is not truly random it is psuedo random"
   ]
  },
  {
   "cell_type": "code",
   "execution_count": 6,
   "metadata": {},
   "outputs": [
    {
     "name": "stdout",
     "output_type": "stream",
     "text": [
      "55\n"
     ]
    }
   ],
   "source": [
    "print(int(r.random()*10+50))      # for range 50 to 60 and if we want it in int then we would be typecasting"
   ]
  },
  {
   "cell_type": "code",
   "execution_count": 15,
   "metadata": {},
   "outputs": [
    {
     "name": "stdout",
     "output_type": "stream",
     "text": [
      "58\n"
     ]
    }
   ],
   "source": [
    "print(r.randint(50,60))      # 60 will occur beause last is inclusive"
   ]
  },
  {
   "cell_type": "code",
   "execution_count": 116,
   "metadata": {},
   "outputs": [
    {
     "name": "stdout",
     "output_type": "stream",
     "text": [
      "56\n"
     ]
    }
   ],
   "source": [
    "print(r.randrange(50,60))    #start inclusive and end is exclusive"
   ]
  },
  {
   "cell_type": "code",
   "execution_count": 125,
   "metadata": {},
   "outputs": [
    {
     "name": "stdout",
     "output_type": "stream",
     "text": [
      "51.63401850539326\n"
     ]
    }
   ],
   "source": [
    "print(r.uniform(50,60))    #random number will occur in points or floating point"
   ]
  },
  {
   "cell_type": "code",
   "execution_count": 26,
   "metadata": {},
   "outputs": [
    {
     "name": "stdout",
     "output_type": "stream",
     "text": [
      "['d', 'a', 'c', 'b']\n"
     ]
    }
   ],
   "source": [
    "'''Shuffle mehtod will shuffle the list'''\n",
    "list1 = ['a','b','c','d']\n",
    "r.shuffle(list1)\n",
    "print(list1)     #copy nhi bnegi ye inmemory operation he isi liye alag line me likha tuple me nhi hoga kiyon ke edit nhi hosakt"
   ]
  },
  {
   "cell_type": "code",
   "execution_count": 34,
   "metadata": {},
   "outputs": [
    {
     "name": "stdout",
     "output_type": "stream",
     "text": [
      "['c']\n"
     ]
    }
   ],
   "source": [
    "sample = r.sample(list1,1)    #Koi bhi random sample utha lega\n",
    "print(sample )"
   ]
  },
  {
   "cell_type": "markdown",
   "metadata": {},
   "source": [
    "# MATH MODULE\n"
   ]
  },
  {
   "cell_type": "code",
   "execution_count": 36,
   "metadata": {},
   "outputs": [
    {
     "name": "stdout",
     "output_type": "stream",
     "text": [
      "46\n",
      "46\n",
      "45\n"
     ]
    }
   ],
   "source": [
    "import math as m\n",
    "num1 = 45.66\n",
    "num2 = 45.0000001\n",
    "num3 = 45\n",
    "print(m.ceil(num1))\n",
    "print(m.ceil(num2))\n",
    "print(m.ceil(num3))\n",
    "# agla closest integer return karega"
   ]
  },
  {
   "cell_type": "code",
   "execution_count": 37,
   "metadata": {},
   "outputs": [
    {
     "name": "stdout",
     "output_type": "stream",
     "text": [
      "45\n"
     ]
    }
   ],
   "source": [
    "print(m.floor(num1))\n",
    "# pichla sab se closest number dega"
   ]
  },
  {
   "cell_type": "code",
   "execution_count": 39,
   "metadata": {},
   "outputs": [
    {
     "name": "stdout",
     "output_type": "stream",
     "text": [
      "5.0\n",
      "5\n"
     ]
    }
   ],
   "source": [
    "num4 = -5\n",
    "print(m.fabs(num4))        #float number me return karega or saath saath points bhi lga dega\n",
    "print(int(m.fabs(num4)))"
   ]
  },
  {
   "cell_type": "code",
   "execution_count": 188,
   "metadata": {},
   "outputs": [
    {
     "name": "stdout",
     "output_type": "stream",
     "text": [
      "3.0\n",
      "2.0794415416798357\n"
     ]
    }
   ],
   "source": [
    "x = 8\n",
    "print(m.log(x,2))     #square bracket is for optional or base by default e lega\n",
    "print(m.log(x))"
   ]
  },
  {
   "cell_type": "code",
   "execution_count": 195,
   "metadata": {},
   "outputs": [
    {
     "name": "stdout",
     "output_type": "stream",
     "text": [
      "1.4142135623730951\n"
     ]
    }
   ],
   "source": [
    "print(m.sqrt(2))"
   ]
  },
  {
   "cell_type": "markdown",
   "metadata": {},
   "source": [
    "# SYS MODULE"
   ]
  },
  {
   "cell_type": "code",
   "execution_count": 201,
   "metadata": {},
   "outputs": [
    {
     "name": "stdout",
     "output_type": "stream",
     "text": [
      "3.7.3 (default, Mar 27 2019, 17:13:21) [MSC v.1915 64 bit (AMD64)]\n",
      "['C:\\\\Users\\\\HP\\\\Desktop\\\\Python', 'C:\\\\Users\\\\HP\\\\Anaconda3\\\\python37.zip', 'C:\\\\Users\\\\HP\\\\Anaconda3\\\\DLLs', 'C:\\\\Users\\\\HP\\\\Anaconda3\\\\lib', 'C:\\\\Users\\\\HP\\\\Anaconda3', '', 'C:\\\\Users\\\\HP\\\\Anaconda3\\\\lib\\\\site-packages', 'C:\\\\Users\\\\HP\\\\Anaconda3\\\\lib\\\\site-packages\\\\win32', 'C:\\\\Users\\\\HP\\\\Anaconda3\\\\lib\\\\site-packages\\\\win32\\\\lib', 'C:\\\\Users\\\\HP\\\\Anaconda3\\\\lib\\\\site-packages\\\\Pythonwin', 'C:\\\\Users\\\\HP\\\\Anaconda3\\\\lib\\\\site-packages\\\\IPython\\\\extensions', 'C:\\\\Users\\\\HP\\\\.ipython']\n"
     ]
    }
   ],
   "source": [
    "import sys\n",
    "print(sys.version)     # sys gives system related version \n",
    "print(sys.path)        # Environment Variables wo data hota he jo cheezein doosre softwares ko chaiye hoti h hain\n",
    "                       # Ye dar asal hamare system ka data hote hain\n",
    "                       # Agr aap calc likho tou wo kese pta lagataa he ke ye kahan save he, environment variable ki wajah se "
   ]
  },
  {
   "cell_type": "code",
   "execution_count": 204,
   "metadata": {},
   "outputs": [
    {
     "name": "stdout",
     "output_type": "stream",
     "text": [
      "win32\n"
     ]
    }
   ],
   "source": [
    "print(sys.platform)"
   ]
  },
  {
   "cell_type": "code",
   "execution_count": 207,
   "metadata": {},
   "outputs": [
    {
     "name": "stdout",
     "output_type": "stream",
     "text": [
      "C:\\Users\\HP\\Anaconda3\\python.exe\n"
     ]
    }
   ],
   "source": [
    "print(sys.executable)"
   ]
  },
  {
   "cell_type": "code",
   "execution_count": 210,
   "metadata": {},
   "outputs": [
    {
     "name": "stdout",
     "output_type": "stream",
     "text": [
      "<ipykernel.iostream.OutStream object at 0x000002185336CF28>\n"
     ]
    }
   ],
   "source": [
    "'''How to change the standard output screen'''\n",
    "temp = sys.stdout\n",
    "print(temp)"
   ]
  },
  {
   "cell_type": "code",
   "execution_count": 213,
   "metadata": {},
   "outputs": [],
   "source": [
    "with open(\"test.txt\", \"w\") as f:\n",
    "    sys.stdout = f\n",
    "    print(\"Assalam u alaiakum\")\n",
    "    sys.stdout =temp"
   ]
  },
  {
   "cell_type": "markdown",
   "metadata": {},
   "source": [
    "\n",
    "# PYDOC"
   ]
  },
  {
   "cell_type": "code",
   "execution_count": 219,
   "metadata": {},
   "outputs": [
    {
     "name": "stdout",
     "output_type": "stream",
     "text": [
      "This module is always available.  It provides access to the\n",
      "mathematical functions defined by the C standard.\n",
      "This module provides access to some objects used or maintained by the\n",
      "interpreter and to functions that interact strongly with the interpreter.\n",
      "\n",
      "Dynamic objects:\n",
      "\n",
      "argv -- command line arguments; argv[0] is the script pathname if known\n",
      "path -- module search path; path[0] is the script directory, else ''\n",
      "modules -- dictionary of loaded modules\n",
      "\n",
      "displayhook -- called to show results in an interactive session\n",
      "excepthook -- called to handle any uncaught exception other than SystemExit\n",
      "  To customize printing in an interactive session or to install a custom\n",
      "  top-level exception handler, assign other functions to replace these.\n",
      "\n",
      "stdin -- standard input file object; used by input()\n",
      "stdout -- standard output file object; used by print()\n",
      "stderr -- standard error object; used for error messages\n",
      "  By assigning other file objects (or objects that behave like files)\n",
      "  to these, it is possible to redirect all of the interpreter's I/O.\n",
      "\n",
      "last_type -- type of last uncaught exception\n",
      "last_value -- value of last uncaught exception\n",
      "last_traceback -- traceback of last uncaught exception\n",
      "  These three are only available in an interactive session after a\n",
      "  traceback has been printed.\n",
      "\n",
      "Static objects:\n",
      "\n",
      "builtin_module_names -- tuple of module names built into this interpreter\n",
      "copyright -- copyright notice pertaining to this interpreter\n",
      "exec_prefix -- prefix used to find the machine-specific Python library\n",
      "executable -- absolute path of the executable binary of the Python interpreter\n",
      "float_info -- a struct sequence with information about the float implementation.\n",
      "float_repr_style -- string indicating the style of repr() output for floats\n",
      "hash_info -- a struct sequence with information about the hash algorithm.\n",
      "hexversion -- version information encoded as a single integer\n",
      "implementation -- Python implementation information.\n",
      "int_info -- a struct sequence with information about the int implementation.\n",
      "maxsize -- the largest supported length of containers.\n",
      "maxunicode -- the value of the largest Unicode code point\n",
      "platform -- platform identifier\n",
      "prefix -- prefix used to find the Python library\n",
      "thread_info -- a struct sequence with information about the thread implementation.\n",
      "version -- the version of this interpreter as a string\n",
      "version_info -- version information as a named tuple\n",
      "dllhandle -- [Windows only] integer handle of the Python DLL\n",
      "winver -- [Windows only] version number of the Python DLL\n",
      "_enablelegacywindowsfsencoding -- [Windows only] \n",
      "__stdin__ -- the original stdin; don't touch!\n",
      "__stdout__ -- the original stdout; don't touch!\n",
      "__stderr__ -- the original stderr; don't touch!\n",
      "__displayhook__ -- the original displayhook; don't touch!\n",
      "__excepthook__ -- the original excepthook; don't touch!\n",
      "\n",
      "Functions:\n",
      "\n",
      "displayhook() -- print an object to the screen, and save it in builtins._\n",
      "excepthook() -- print an exception and its traceback to sys.stderr\n",
      "exc_info() -- return thread-safe information about the current exception\n",
      "exit() -- exit the interpreter by raising SystemExit\n",
      "getdlopenflags() -- returns flags to be used for dlopen() calls\n",
      "getprofile() -- get the global profiling function\n",
      "getrefcount() -- return the reference count for an object (plus one :-)\n",
      "getrecursionlimit() -- return the max recursion depth for the interpreter\n",
      "getsizeof() -- return the size of an object in bytes\n",
      "gettrace() -- get the global debug tracing function\n",
      "setcheckinterval() -- control how often the interpreter checks for events\n",
      "setdlopenflags() -- set the flags to be used for dlopen() calls\n",
      "setprofile() -- set the global profiling function\n",
      "setrecursionlimit() -- set the max recursion depth for the interpreter\n",
      "settrace() -- set the global debug tracing function\n",
      "\n"
     ]
    }
   ],
   "source": [
    "print(m.__doc__)\n",
    "print(sys.__doc__)"
   ]
  },
  {
   "cell_type": "code",
   "execution_count": 229,
   "metadata": {},
   "outputs": [
    {
     "name": "stdout",
     "output_type": "stream",
     "text": [
      "\n",
      "    Arguments: None\n",
      "    Return: a random number\n",
      "    \n"
     ]
    }
   ],
   "source": [
    "import random as r\n",
    "def f():\n",
    "    '''\n",
    "    Arguments: None\n",
    "    Return: a random number\n",
    "    '''\n",
    "    return r.random()\n",
    "print(f.__doc__) #python -m pydoc math type in commandprompt"
   ]
  },
  {
   "cell_type": "code",
   "execution_count": 231,
   "metadata": {},
   "outputs": [
    {
     "name": "stdout",
     "output_type": "stream",
     "text": [
      "Help on function f in module __main__:\n",
      "\n",
      "f()\n",
      "    Arguments: None\n",
      "    Return: a random number\n",
      "\n"
     ]
    }
   ],
   "source": [
    "help(f)"
   ]
  },
  {
   "cell_type": "markdown",
   "metadata": {},
   "source": [
    "# FORMATTING NUMBERS"
   ]
  },
  {
   "cell_type": "code",
   "execution_count": 238,
   "metadata": {},
   "outputs": [
    {
     "name": "stdout",
     "output_type": "stream",
     "text": [
      "The value of x is 5 2\n"
     ]
    }
   ],
   "source": [
    "x = 5\n",
    "y = 2\n",
    "print(\"The value of x is %d %d\" % (x , y))"
   ]
  },
  {
   "cell_type": "code",
   "execution_count": 241,
   "metadata": {},
   "outputs": [
    {
     "name": "stdout",
     "output_type": "stream",
     "text": [
      "The value of x is 5.000000 2.00\n"
     ]
    }
   ],
   "source": [
    "x = 5\n",
    "y = 2\n",
    "print(\"The value of x is %f %.2f\" % (x , y))"
   ]
  },
  {
   "cell_type": "code",
   "execution_count": 243,
   "metadata": {},
   "outputs": [
    {
     "name": "stdout",
     "output_type": "stream",
     "text": [
      "The value of x is     5          2\n"
     ]
    }
   ],
   "source": [
    "x = 5\n",
    "y = 2\n",
    "print(\"The value of x is %5d %10d\" % (x , y))"
   ]
  },
  {
   "cell_type": "code",
   "execution_count": 247,
   "metadata": {},
   "outputs": [
    {
     "name": "stdout",
     "output_type": "stream",
     "text": [
      "The value of x is 00005 2\n"
     ]
    }
   ],
   "source": [
    "x = 5\n",
    "y = 2\n",
    "print(\"The value of x is %05d %d\" % (x , y))     #Only 0 works"
   ]
  },
  {
   "cell_type": "code",
   "execution_count": 253,
   "metadata": {},
   "outputs": [
    {
     "name": "stdout",
     "output_type": "stream",
     "text": [
      "The value of x is     5     3\n"
     ]
    }
   ],
   "source": [
    "x = 5\n",
    "y=3\n",
    "print(\"The value of x is {0:5d} {1: 5d}\" .format(x,y))"
   ]
  },
  {
   "cell_type": "code",
   "execution_count": 273,
   "metadata": {},
   "outputs": [
    {
     "name": "stdout",
     "output_type": "stream",
     "text": [
      "The value of x is My name is  Rafiq\n"
     ]
    }
   ],
   "source": [
    "x = \"My name is\"\n",
    "y= \" Rafiq\"\n",
    "print(\"The value of x is {0:s} {1:s}\".format(x,y))"
   ]
  },
  {
   "cell_type": "markdown",
   "metadata": {},
   "source": [
    "# STRING FUNCTIONS"
   ]
  },
  {
   "cell_type": "code",
   "execution_count": 276,
   "metadata": {},
   "outputs": [
    {
     "name": "stdout",
     "output_type": "stream",
     "text": [
      "10\n",
      "2\n",
      "Hello world\n",
      "Hi World\n",
      "Hello World\n"
     ]
    }
   ],
   "source": [
    "message  = \"Hello World\"\n",
    "print(message.find(\"d\"))\n",
    "print(message.count(\"o\"))\n",
    "print(message.capitalize())\n",
    "print(message.replace(\"Hello\",\"Hi\")) \n",
    "print(message)                        #String is immutable in python"
   ]
  },
  {
   "cell_type": "markdown",
   "metadata": {},
   "source": [
    "# DATE TIME"
   ]
  },
  {
   "cell_type": "code",
   "execution_count": 315,
   "metadata": {},
   "outputs": [
    {
     "name": "stdout",
     "output_type": "stream",
     "text": [
      "2019-07-21 11:08:18.375600\n"
     ]
    }
   ],
   "source": [
    "import datetime as t\n",
    "print(t.datetime.now())"
   ]
  },
  {
   "cell_type": "code",
   "execution_count": 323,
   "metadata": {},
   "outputs": [
    {
     "name": "stdout",
     "output_type": "stream",
     "text": [
      "1998-12-11 00:00:00\n"
     ]
    }
   ],
   "source": [
    "print(t.datetime(1998,12,11))\n",
    "date =t.datetime(1998,12,11)"
   ]
  },
  {
   "cell_type": "code",
   "execution_count": 325,
   "metadata": {},
   "outputs": [
    {
     "data": {
      "text/plain": [
       "'December'"
      ]
     },
     "execution_count": 325,
     "metadata": {},
     "output_type": "execute_result"
    }
   ],
   "source": [
    "'''How to take month from date time'''\n",
    "date.strftime(\"%B\")"
   ]
  },
  {
   "cell_type": "code",
   "execution_count": 327,
   "metadata": {},
   "outputs": [
    {
     "data": {
      "text/plain": [
       "'1998'"
      ]
     },
     "execution_count": 327,
     "metadata": {},
     "output_type": "execute_result"
    }
   ],
   "source": [
    "date.strftime(\"%Y\")"
   ]
  },
  {
   "cell_type": "code",
   "execution_count": 329,
   "metadata": {},
   "outputs": [
    {
     "data": {
      "text/plain": [
       "'Friday'"
      ]
     },
     "execution_count": 329,
     "metadata": {},
     "output_type": "execute_result"
    }
   ],
   "source": [
    "date.strftime(\"%A\")"
   ]
  },
  {
   "cell_type": "code",
   "execution_count": 331,
   "metadata": {},
   "outputs": [
    {
     "data": {
      "text/plain": [
       "'00'"
      ]
     },
     "execution_count": 331,
     "metadata": {},
     "output_type": "execute_result"
    }
   ],
   "source": [
    "date.strftime(\"%M\")"
   ]
  },
  {
   "cell_type": "code",
   "execution_count": 333,
   "metadata": {},
   "outputs": [
    {
     "data": {
      "text/plain": [
       "1998"
      ]
     },
     "execution_count": 333,
     "metadata": {},
     "output_type": "execute_result"
    }
   ],
   "source": [
    "date.year"
   ]
  },
  {
   "cell_type": "code",
   "execution_count": 335,
   "metadata": {},
   "outputs": [
    {
     "data": {
      "text/plain": [
       "12"
      ]
     },
     "execution_count": 335,
     "metadata": {},
     "output_type": "execute_result"
    }
   ],
   "source": [
    "date.month"
   ]
  },
  {
   "cell_type": "code",
   "execution_count": 337,
   "metadata": {},
   "outputs": [
    {
     "data": {
      "text/plain": [
       "11"
      ]
     },
     "execution_count": 337,
     "metadata": {},
     "output_type": "execute_result"
    }
   ],
   "source": [
    "date.day"
   ]
  },
  {
   "cell_type": "code",
   "execution_count": 341,
   "metadata": {},
   "outputs": [
    {
     "data": {
      "text/plain": [
       "'00:00 1998 December 12/11/98'"
      ]
     },
     "execution_count": 341,
     "metadata": {},
     "output_type": "execute_result"
    }
   ],
   "source": [
    "'''To change the format of datetime'''\n",
    "date.strftime(\"%H:%M %Y %B %D\")"
   ]
  },
  {
   "cell_type": "code",
   "execution_count": 344,
   "metadata": {},
   "outputs": [],
   "source": [
    "# %H for hours 24\n",
    "# %I hourse 12\n",
    "# %P am pm\n",
    "# %m for minutes\n",
    "# %s for second"
   ]
  },
  {
   "cell_type": "code",
   "execution_count": 349,
   "metadata": {},
   "outputs": [
    {
     "name": "stdout",
     "output_type": "stream",
     "text": [
      "2019-10-29 11:23:03.889534\n"
     ]
    }
   ],
   "source": [
    "date = t.datetime.now() + t.timedelta(days = 100)\n",
    "print(date)"
   ]
  }
 ],
 "metadata": {
  "kernelspec": {
   "display_name": "Python 3",
   "language": "python",
   "name": "python3"
  },
  "language_info": {
   "codemirror_mode": {
    "name": "ipython",
    "version": 3
   },
   "file_extension": ".py",
   "mimetype": "text/x-python",
   "name": "python",
   "nbconvert_exporter": "python",
   "pygments_lexer": "ipython3",
   "version": "3.7.3"
  }
 },
 "nbformat": 4,
 "nbformat_minor": 2
}
