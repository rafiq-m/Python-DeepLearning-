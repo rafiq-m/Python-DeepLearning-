{
 "cells": [
  {
   "cell_type": "code",
   "execution_count": 2,
   "metadata": {},
   "outputs": [],
   "source": [
    "import calculator"
   ]
  },
  {
   "cell_type": "code",
   "execution_count": 5,
   "metadata": {},
   "outputs": [
    {
     "data": {
      "text/plain": [
       "7"
      ]
     },
     "execution_count": 5,
     "metadata": {},
     "output_type": "execute_result"
    }
   ],
   "source": [
    "calculator.add(3,4)"
   ]
  },
  {
   "cell_type": "code",
   "execution_count": 13,
   "metadata": {},
   "outputs": [],
   "source": [
    "import calculator as c"
   ]
  },
  {
   "cell_type": "code",
   "execution_count": 14,
   "metadata": {},
   "outputs": [
    {
     "data": {
      "text/plain": [
       "12"
      ]
     },
     "execution_count": 14,
     "metadata": {},
     "output_type": "execute_result"
    }
   ],
   "source": [
    "c.multiply(3,4)"
   ]
  },
  {
   "cell_type": "code",
   "execution_count": 11,
   "metadata": {},
   "outputs": [],
   "source": [
    "from calculator import multiply"
   ]
  },
  {
   "cell_type": "code",
   "execution_count": 13,
   "metadata": {},
   "outputs": [
    {
     "data": {
      "text/plain": [
       "12"
      ]
     },
     "execution_count": 13,
     "metadata": {},
     "output_type": "execute_result"
    }
   ],
   "source": [
    "multiply(3,4)"
   ]
  },
  {
   "cell_type": "code",
   "execution_count": 9,
   "metadata": {},
   "outputs": [
    {
     "name": "stdout",
     "output_type": "stream",
     "text": [
      "Student Enrolled\n"
     ]
    }
   ],
   "source": [
    "from student import student \n",
    "std = student()\n",
    "std.enroll()"
   ]
  },
  {
   "cell_type": "code",
   "execution_count": 1,
   "metadata": {},
   "outputs": [
    {
     "name": "stdout",
     "output_type": "stream",
     "text": [
      "Coloring in the shape\n",
      "Shape is drawn\n"
     ]
    }
   ],
   "source": [
    "from student import Rectangle\n",
    "r = Rectangle()\n",
    "r.Color()\n",
    "r.draw()\n",
    "# jab bhi file me change karenge tou kernel restart karna parega "
   ]
  },
  {
   "cell_type": "code",
   "execution_count": 2,
   "metadata": {},
   "outputs": [],
   "source": [
    "def write():\n",
    "    id = input(\"Enter ID:\")\n",
    "    name = input(\"Enter name:\")\n",
    "    cgpa = input(\"Enter cgpa:\")\n",
    "    with open('test.csv','a') as f:\n",
    "        f.write(id+','+name+','+cgpa+'\\n')"
   ]
  },
  {
   "cell_type": "code",
   "execution_count": null,
   "metadata": {},
   "outputs": [],
   "source": []
  },
  {
   "cell_type": "code",
   "execution_count": 4,
   "metadata": {},
   "outputs": [
    {
     "name": "stdout",
     "output_type": "stream",
     "text": [
      "Enter ID:\n",
      "Enter name:\n",
      "Enter cgpa:\n",
      "Enter ID:\n",
      "Enter name:\n",
      "Enter cgpa:\n",
      "Enter ID:\n",
      "Enter name:\n",
      "Enter cgpa:\n"
     ]
    }
   ],
   "source": [
    "for i in range(1,4):\n",
    "    write()"
   ]
  },
  {
   "cell_type": "code",
   "execution_count": 7,
   "metadata": {},
   "outputs": [
    {
     "name": "stdout",
     "output_type": "stream",
     "text": [
      "124 Rafiq 4\n",
      "1243 Haris 4\n",
      "1234 anas 3\n",
      "543 areeb 4\n",
      "  \n",
      "  \n",
      "  \n"
     ]
    }
   ],
   "source": [
    "import csv\n",
    "#data = []\n",
    "with open(\"test.csv\") as f:\n",
    "    contents_of_file = csv.reader(f)\n",
    "    for each_line in contents_of_file:\n",
    "        #data+= each_line\n",
    "        print(each_line[0],each_line[1],each_line[2])"
   ]
  },
  {
   "cell_type": "code",
   "execution_count": 8,
   "metadata": {},
   "outputs": [
    {
     "name": "stdout",
     "output_type": "stream",
     "text": [
      "1\n",
      "2\n",
      "4\n",
      ",\n",
      "R\n",
      "a\n",
      "f\n",
      "i\n",
      "q\n",
      ",\n",
      "4\n",
      "\n",
      "\n",
      "1\n",
      "2\n",
      "4\n",
      "3\n",
      ",\n",
      "H\n",
      "a\n",
      "r\n",
      "i\n",
      "s\n",
      ",\n",
      "4\n",
      "\n",
      "\n",
      "1\n",
      "2\n",
      "3\n",
      "4\n",
      ",\n",
      "a\n",
      "n\n",
      "a\n",
      "s\n",
      ",\n",
      "3\n",
      "\n",
      "\n",
      "5\n",
      "4\n",
      "3\n",
      ",\n",
      "a\n",
      "r\n",
      "e\n",
      "e\n",
      "b\n",
      ",\n",
      "4\n",
      "\n",
      "\n",
      ",\n",
      ",\n",
      "\n",
      "\n",
      ",\n",
      ",\n",
      "\n",
      "\n",
      ",\n",
      ",\n",
      "\n",
      "\n"
     ]
    }
   ],
   "source": [
    "import csv\n",
    "#data = []\n",
    "with open(\"test.csv\") as f:\n",
    "    contents_of_file = csv.reader(f)\n",
    "    data = f.read()\n",
    "    for each_line in data:\n",
    "        print(each_line)"
   ]
  },
  {
   "cell_type": "code",
   "execution_count": 10,
   "metadata": {
    "scrolled": true
   },
   "outputs": [
    {
     "name": "stdout",
     "output_type": "stream",
     "text": [
      "['1']\n",
      "['2']\n",
      "['4']\n",
      "['', '']\n",
      "['R']\n",
      "['a']\n",
      "['f']\n",
      "['i']\n",
      "['q']\n",
      "['', '']\n",
      "['4']\n",
      "['\\n']\n"
     ]
    }
   ],
   "source": [
    "#csv is comma separated value\n",
    "import csv\n",
    "#data = []\n",
    "with open(\"test.csv\") as f:\n",
    "    contents_of_file = csv.reader(f)\n",
    "    data = f.readline()\n",
    "    for each_line in data:\n",
    "        print(each_line.split(','))"
   ]
  },
  {
   "cell_type": "code",
   "execution_count": 65,
   "metadata": {},
   "outputs": [],
   "source": [
    "import csv\n",
    "with open('abc.csv','w',newline =\"\") as f:\n",
    "    data_handler = csv.writer(f, delimiter = \",\")\n",
    "    data_handler.writerow([\"year\",\"Event\",\"3.5\"])\n",
    "    data_handler.writerow([\"1995\",\"Best-kept Lawn\",\"2.9\"])\n",
    "    data_handler.writerow([\"1999\",\"Gobstones\",\"3.1\"])"
   ]
  },
  {
   "cell_type": "code",
   "execution_count": 90,
   "metadata": {},
   "outputs": [
    {
     "name": "stdout",
     "output_type": "stream",
     "text": [
      "['year', 'Event', '3.5'] Pass\n",
      "['1995', 'Best-kept Lawn', '2.9'] fail\n",
      "['1999', 'Gobstones', '3.1'] Pass\n"
     ]
    }
   ],
   "source": [
    "with open('abc.csv','r') as f:\n",
    "    data_handler= csv.reader(f)\n",
    "    for line in data_handler:\n",
    "        print(line,end= \"\")\n",
    "        if float(line[2]) < 3:\n",
    "            print(\" fail\")\n",
    "        else:\n",
    "            print(\" Pass\")\n",
    "    "
   ]
  },
  {
   "cell_type": "code",
   "execution_count": 18,
   "metadata": {},
   "outputs": [],
   "source": [
    "# Making of points table in cricket worldcup\n",
    "import csv\n",
    "with open('final.csv','w',newline =\"\") as f:\n",
    "    data_handler = csv.writer(f, delimiter = \",\")\n",
    "    data_handler.writerow([\"Country\",\"GamesPlayed\",\"Points\"])\n",
    "    data_handler.writerow([\"Pakistan\",\"9\",\"14\"])\n",
    "    data_handler.writerow([\"India\",\"9\",\"1\"])\n",
    "    data_handler.writerow([\"England\",\"9\",\"12\"])\n",
    "    data_handler.writerow([\"Newzeland\",\"9\",\"13\"])"
   ]
  },
  {
   "cell_type": "code",
   "execution_count": 19,
   "metadata": {},
   "outputs": [
    {
     "name": "stdout",
     "output_type": "stream",
     "text": [
      "['Pakistan', '9', '14'] Qualified for finals\n",
      "['India', '9', '1'] Not qualified for finals\n",
      "['England', '9', '12'] Qualified for finals\n",
      "['Newzeland', '9', '13'] Qualified for finals\n"
     ]
    }
   ],
   "source": [
    "with open('final.csv','r',newline = \"\") as r:\n",
    "    final_teams = csv.reader(r,delimiter = \",\")\n",
    "    next(final_teams)\n",
    "    for team in final_teams:\n",
    "        print(team , end=\"\")\n",
    "        if float(team[2]) > 10:\n",
    "            print(\" Qualified for finals\")\n",
    "        else:\n",
    "            print(\" Not qualified for finals\")"
   ]
  }
 ],
 "metadata": {
  "kernelspec": {
   "display_name": "Python 3",
   "language": "python",
   "name": "python3"
  },
  "language_info": {
   "codemirror_mode": {
    "name": "ipython",
    "version": 3
   },
   "file_extension": ".py",
   "mimetype": "text/x-python",
   "name": "python",
   "nbconvert_exporter": "python",
   "pygments_lexer": "ipython3",
   "version": "3.7.3"
  }
 },
 "nbformat": 4,
 "nbformat_minor": 2
}
