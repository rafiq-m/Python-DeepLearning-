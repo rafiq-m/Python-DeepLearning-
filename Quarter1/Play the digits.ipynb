{
 "cells": [
  {
   "cell_type": "code",
   "execution_count": 22,
   "metadata": {},
   "outputs": [
    {
     "name": "stdout",
     "output_type": "stream",
     "text": [
      "*302\n",
      "3\n",
      "2\n",
      "6\n"
     ]
    }
   ],
   "source": [
    "def add(x):\n",
    "    added = 0\n",
    "    for i in x:\n",
    "        added += int(i)\n",
    "    return added\n",
    "def multiply(x):\n",
    "    mult = 1\n",
    "    for i in x:\n",
    "        if i != \"0\":\n",
    "            print(i)\n",
    "            mult *= int(i)\n",
    "    return mult\n",
    "def subtract(x):\n",
    "    sub = 0\n",
    "    for i in x:\n",
    "        sub -= int(i)\n",
    "    return sub\n",
    "def divide(x):\n",
    "    div = 0\n",
    "    for i in x:\n",
    "        if i == \"0\":\n",
    "            continue\n",
    "        div *= int(i)\n",
    "    return div\n",
    "s = input()\n",
    "if s[0] == \"+\":\n",
    "    print(add(s[1:]))\n",
    "elif s[0] == \"*\":\n",
    "    print(multiply(s[1:]))\n",
    "elif s[0] == \"-\":\n",
    "    print(subtract(s[1:]))\n",
    "elif s[0] == \"/\":\n",
    "    print(divide(s[1:]))  "
   ]
  },
  {
   "cell_type": "markdown",
   "metadata": {},
   "source": [
    "# Developing for the ephone"
   ]
  },
  {
   "cell_type": "code",
   "execution_count": 28,
   "metadata": {},
   "outputs": [
    {
     "name": "stdout",
     "output_type": "stream",
     "text": [
      "15 200 150 10\n",
      "right\n"
     ]
    }
   ],
   "source": [
    "l = [int(i) for i in input().split()]\n",
    "one = l[0] - l[2]\n",
    "two = l[1] - l[3]\n",
    "if two < one:\n",
    "    print(\"left\")\n",
    "elif two > one:\n",
    "    print(\"right\")"
   ]
  },
  {
   "cell_type": "code",
   "execution_count": 8,
   "metadata": {},
   "outputs": [
    {
     "name": "stdout",
     "output_type": "stream",
     "text": [
      "12\n",
      "[1, 2, 3, 4, 5, 6, 7, 8, 9, 10, 11, 12]\n"
     ]
    }
   ],
   "source": [
    "d = int(input())\n",
    "a = [1,2,3,4,5]\n",
    "l = []\n",
    "for i in range(d,len(a)):\n",
    "    l.append(a[i])\n",
    "for i in range(1,d+1):\n",
    "    l.append(i)\n",
    "print(l)"
   ]
  },
  {
   "cell_type": "code",
   "execution_count": 23,
   "metadata": {},
   "outputs": [
    {
     "name": "stdout",
     "output_type": "stream",
     "text": [
      "[7, 1, 3, 2, 4, 5, 6] ARRAY\n",
      "[0, 0, 0, 0, 0, 0, 0, 0] Temp null\n",
      "0 val: 7\n",
      "1 val: 1\n",
      "2 val: 3\n",
      "3 val: 2\n",
      "4 val: 4\n",
      "5 val: 5\n",
      "6 val: 6\n",
      "[0, 1, 3, 2, 4, 5, 6, 0] temp\n"
     ]
    }
   ],
   "source": [
    "arr = [7, 1, 3, 2, 4, 5, 6]\n",
    "print(arr, \"ARRAY\")\n",
    "temp = [0] * (len(arr) + 1)\n",
    "print(temp, \"Temp null\")\n",
    "\n",
    "for pos, val in enumerate(arr):\n",
    "        print(pos,\"val:\",end = \" \")\n",
    "        print(val)\n",
    "        temp[val] = pos\n",
    "        pos += 1\n",
    "print(temp, \"temp\")"
   ]
  },
  {
   "cell_type": "code",
   "execution_count": 24,
   "metadata": {},
   "outputs": [
    {
     "name": "stdout",
     "output_type": "stream",
     "text": [
      "[1, 7, 3, 2, 4, 5, 6]\n",
      "[1, 2, 3, 7, 4, 5, 6]\n",
      "[1, 2, 3, 4, 7, 5, 6]\n",
      "[1, 2, 3, 4, 5, 7, 6]\n",
      "[1, 2, 3, 4, 5, 6, 7]\n"
     ]
    }
   ],
   "source": [
    " swaps = 0\n",
    "for i in range(len(arr)):\n",
    "        if arr[i] != i+1:\n",
    "            swaps += 1\n",
    "            t = arr[i]\n",
    "            arr[i] = i+1\n",
    "            arr[temp[i+1]] = t\n",
    "            temp[t] = temp[i+1]\n",
    "            print(arr)"
   ]
  },
  {
   "cell_type": "code",
   "execution_count": 17,
   "metadata": {},
   "outputs": [
    {
     "name": "stdout",
     "output_type": "stream",
     "text": [
      "[1, 2, 3, 4, 5, 6, 7]\n"
     ]
    }
   ],
   "source": [
    "public static void main(String[] args) {\n",
    "    Scanner sc  = new Scanner(System.in);\n",
    "    int n = sc.nextInt();\n",
    "    int[] a = new int[n];\n",
    "    int min = 0;\n",
    "    for(int i=0; i<n; i++)   #Array\n",
    "    {\n",
    "        a[i] = sc.nextInt();\n",
    "        \n",
    "        if(i == 0)\n",
    "            min = a[i];\n",
    "        else{\n",
    "            if(min>a[i-1])\n",
    "                min = a[i-1];\n",
    "        }\n",
    "    }\n",
    "    if(min != 1)\n",
    "        for(int i = 0; i<n;i++){\n",
    "            a[i] = a[i]-(min-1);\n",
    "        }\n",
    "\n",
    "    int count=0;\n",
    "    int temp=0;\n",
    "    for(int i=0; i<n;) {\n",
    "        if(a[i] != i+1){\n",
    "            temp = a[i];\n",
    "            a[i]= a[temp-1];\n",
    "            a[temp-1] = temp;\n",
    "            count++;\n",
    "        }\n",
    "        else\n",
    "            i++;\n",
    "    }\n",
    "    System.out.println(count);\n",
    "}"
   ]
  },
  {
   "cell_type": "markdown",
   "metadata": {},
   "source": [
    "# BINARY TREE"
   ]
  },
  {
   "cell_type": "code",
   "execution_count": 6,
   "metadata": {},
   "outputs": [],
   "source": [
    "class Node:\n",
    "    def __init__(self,data):\n",
    "        self.data = data\n",
    "        self.left = None\n",
    "        self.right = None\n",
    "\n",
    "class Tree:\n",
    "    \n",
    "    def __init__(self):\n",
    "        self.root = None\n",
    "    \n",
    "    def insert(self,node,data):\n",
    "        temp = Node(data)       \n",
    "        if self.root == None:\n",
    "            self.root = temp           \n",
    "        else:\n",
    "            if node.left == None and node.data > data:\n",
    "                node.left = temp\n",
    "            elif node.right == None and node.data < data:\n",
    "                node.right  = temp\n",
    "            elif node.data > data:\n",
    "                self.insert(node.left,data)\n",
    "            elif node.data < data:\n",
    "                self.insert(node.right, data)\n",
    "                \n",
    "    def inorder(self,node):\n",
    "        if node.left != None:\n",
    "            self.inorder(node.left)\n",
    "        print(node.data, end = \" \")\n",
    "        if node.right != None:\n",
    "            self.inorder(node.right)    \n",
    "            \n",
    "    def preorder(self,node):\n",
    "        print(node.data, end = \" \")\n",
    "        if node.left != None:\n",
    "            self.inorder(node.left)\n",
    "        if node.right != None:\n",
    "            self.inorder(node.right) "
   ]
  },
  {
   "cell_type": "code",
   "execution_count": 7,
   "metadata": {},
   "outputs": [],
   "source": [
    "t = Tree()\n",
    "t.insert(t.root,12)\n",
    "t.insert(t.root,115)\n",
    "t.insert(t.root,1)\n",
    "t.insert(t.root,4)"
   ]
  },
  {
   "cell_type": "code",
   "execution_count": 8,
   "metadata": {},
   "outputs": [
    {
     "name": "stdout",
     "output_type": "stream",
     "text": [
      "1 4 12 115 "
     ]
    }
   ],
   "source": [
    "t.inorder(t.root)"
   ]
  },
  {
   "cell_type": "code",
   "execution_count": 149,
   "metadata": {},
   "outputs": [],
   "source": [
    "n = 2 \n",
    "querie =[[1,0,5],[1,1,7],[1,0,3],[2,1,0],[2,1,1]]\n",
    "lastAnswer = 0"
   ]
  },
  {
   "cell_type": "code",
   "execution_count": 150,
   "metadata": {},
   "outputs": [
    {
     "name": "stdout",
     "output_type": "stream",
     "text": [
      "[[5], []]\n",
      "[[5], [7]]\n",
      "[[5, 3], [7]]\n",
      "[[5, 3], []]\n",
      "7\n",
      "[[5], []]\n",
      "3\n"
     ]
    }
   ],
   "source": [
    "seqlist = [[] for i in range(n)]\n",
    "for i in  querie:\n",
    "    if i[0] == 1:\n",
    "        seqlist[(i[1] ^ lastAnswer )%n].append(i[2])\n",
    "    else:\n",
    "        lastAnswer = seqlist[(i[1] ^ lastAnswer )%n].pop()\n",
    "        \n",
    "    "
   ]
  },
  {
   "cell_type": "code",
   "execution_count": 143,
   "metadata": {},
   "outputs": [],
   "source": [
    "seq = [[]]\n"
   ]
  },
  {
   "cell_type": "code",
   "execution_count": 153,
   "metadata": {},
   "outputs": [
    {
     "name": "stdout",
     "output_type": "stream",
     "text": [
      "1 2\n",
      "2 1\n"
     ]
    }
   ],
   "source": [
    "nums = [3,2,4]\n",
    "target = 6\n",
    "for i in range(len(nums)):\n",
    "            for j in range(len(nums)):\n",
    "                if i == j:\n",
    "                    continue\n",
    "                if (nums[i] + nums[j]) == target:\n",
    "                    print(i , j)"
   ]
  },
  {
   "cell_type": "code",
   "execution_count": 48,
   "metadata": {},
   "outputs": [
    {
     "name": "stdout",
     "output_type": "stream",
     "text": [
      "7\n"
     ]
    }
   ],
   "source": [
    "'''NEW YEAR CHAOS'''\n",
    "\n",
    "q = [1,2,5,3,7,8,6,4]\n",
    "swap = 0\n",
    "identical = [i for i in range(1,len(q)+1)]\n",
    "zeros  = [0 for i in q]\n",
    "flag = True\n",
    "breaked = False\n",
    "while flag:\n",
    "    flag = False\n",
    "    for i in range(len(q)- 1):\n",
    "        if q[i] > q[i+1]:\n",
    "            q[i],q[i+1] = q[i+1],q[i]\n",
    "            zeros[i] += 1\n",
    "            zeros[i],zeros[i+1] = zeros[i+1],zeros[i]\n",
    "            swap += 1\n",
    "            if zeros[i+1] > 2:\n",
    "                breaked = True\n",
    "                print(\"Breaking\")\n",
    "                break \n",
    "            flag = True\n",
    "    if breaked:\n",
    "        break\n",
    "if breaked:\n",
    "    print(\"Too chaotic\")\n",
    "else:\n",
    "    print(swap)"
   ]
  },
  {
   "cell_type": "code",
   "execution_count": 3,
   "metadata": {},
   "outputs": [
    {
     "name": "stdout",
     "output_type": "stream",
     "text": [
      "Players  1 5\n",
      "Shots  1 2\n",
      "Shots  2 3\n",
      "Shots  4 5\n",
      "Shots  6 7\n",
      "Shots Whole  [[1, 2], [2, 3], [4, 5], [6, 7]]\n",
      "3\n",
      "Players  2 3\n",
      "Shots  1 2\n",
      "Shots  2 3\n",
      "Shots  4 5\n",
      "Shots  6 7\n",
      "Shots Whole  [[1, 2], [2, 3], [4, 5], [6, 7]]\n",
      "5\n",
      "Players  4 7\n",
      "Shots  1 2\n",
      "Shots  2 3\n",
      "Shots  4 5\n",
      "Shots  6 7\n",
      "Shots Whole  [[1, 2], [2, 3], [4, 5], [6, 7]]\n",
      "7\n",
      "Players  5 7\n",
      "Shots  1 2\n",
      "Shots  2 3\n",
      "Shots  4 5\n",
      "Shots  6 7\n",
      "Shots Whole  [[1, 2], [2, 3], [4, 5], [6, 7]]\n",
      "9\n"
     ]
    }
   ],
   "source": [
    "'''MR X and his shots'''\n",
    "players = [[1,5],[2,3],[4,7],[5,7]]\n",
    "shots = [[1,2],[2,3],[4,5],[6,7]]\n",
    "strength = 0\n",
    "for C,D in players:\n",
    "    print(\"Players \",C,D)\n",
    "    for A,B in shots:\n",
    "        print(\"Shots \",A,B)\n",
    "        if D < A or B < C:\n",
    "            continue\n",
    "        else:               \n",
    "            strength += 1\n",
    "    print(\"Shots Whole \", shots)\n",
    "    print(strength)"
   ]
  },
  {
   "cell_type": "code",
   "execution_count": 23,
   "metadata": {},
   "outputs": [
    {
     "name": "stdout",
     "output_type": "stream",
     "text": [
      "2\n"
     ]
    }
   ],
   "source": [
    "'''Gemstones'''\n",
    "arr = [\"abcdde\",\"baccd\",\"eeabg\"]\n",
    "count = 0\n",
    "for stone in arr[0]:\n",
    "    if stone in arr[1] and stone in arr[2]:\n",
    "        count += 1\n",
    "print(count)"
   ]
  },
  {
   "cell_type": "code",
   "execution_count": 14,
   "metadata": {},
   "outputs": [
    {
     "name": "stdout",
     "output_type": "stream",
     "text": [
      "yes\n"
     ]
    }
   ],
   "source": [
    "i = \"i\"\n",
    "if i in \"aeiou\":\n",
    "    print(\"yes\")"
   ]
  },
  {
   "cell_type": "code",
   "execution_count": 81,
   "metadata": {},
   "outputs": [
    {
     "name": "stdout",
     "output_type": "stream",
     "text": [
      "HI\n",
      "3\n",
      "HI\n",
      "HI\n",
      "HI\n",
      "5\n",
      "HI\n",
      "3\n"
     ]
    }
   ],
   "source": [
    "'''Picking Numbers'''\n",
    "\n",
    "a=[1,3,3,4,5,6]\n",
    "s= [[]for i in range(len(a))]\n",
    "l = 0\n",
    "s[l].append(a[0])\n",
    "for i in range(1,len(a)):\n",
    "    print(\"HI\")\n",
    "    if a[i] - s[l][0] <=1 :\n",
    "        s[l].append(a[i])\n",
    "    else:\n",
    "        print(a[i])\n",
    "        l+=1\n",
    "        s[l].append(a[i])\n",
    "print(max([len(i) for i in s if i]))"
   ]
  },
  {
   "cell_type": "code",
   "execution_count": 69,
   "metadata": {},
   "outputs": [
    {
     "name": "stdout",
     "output_type": "stream",
     "text": [
      "0\n"
     ]
    }
   ],
   "source": [
    "print(maxed)"
   ]
  },
  {
   "cell_type": "code",
   "execution_count": 72,
   "metadata": {},
   "outputs": [
    {
     "data": {
      "text/plain": [
       "[[1], [3, 3, 4], [5, 6]]"
      ]
     },
     "execution_count": 72,
     "metadata": {},
     "output_type": "execute_result"
    }
   ],
   "source": [
    "[i for i in s if  i]"
   ]
  },
  {
   "cell_type": "code",
   "execution_count": 60,
   "metadata": {},
   "outputs": [],
   "source": [
    "s= []"
   ]
  },
  {
   "cell_type": "code",
   "execution_count": 61,
   "metadata": {},
   "outputs": [],
   "source": [
    "if s:\n",
    "    print(\"HI\")"
   ]
  },
  {
   "cell_type": "code",
   "execution_count": 82,
   "metadata": {},
   "outputs": [],
   "source": [
    "import pandas as pd"
   ]
  },
  {
   "cell_type": "code",
   "execution_count": 91,
   "metadata": {},
   "outputs": [],
   "source": [
    "import PyPDF2\n",
    "file = open('result.pdf','rb')\n",
    "fileReader = PyPDF2.PdfFileReader(file)"
   ]
  },
  {
   "cell_type": "code",
   "execution_count": 92,
   "metadata": {},
   "outputs": [
    {
     "data": {
      "text/plain": [
       "['21',\n",
       " '803434(852)',\n",
       " '803437(799)',\n",
       " '803440(852)',\n",
       " '803445(820)',\n",
       " '803447(810)',\n",
       " '803449(872)',\n",
       " '803451(864)',\n",
       " '803454(838)',\n",
       " '803456(783)',\n",
       " '803457(856)',\n",
       " '803461(845)',\n",
       " '803462(869)',\n",
       " '803467(773)',\n",
       " '803468(840)',\n",
       " '803469(792)',\n",
       " '803428(769+ 1)',\n",
       " '803430(840)',\n",
       " '803431(840)',\n",
       " '803432(865)',\n",
       " '803433(866)',\n",
       " '803393(775)',\n",
       " '803394(809)',\n",
       " '803396(769+ 1)',\n",
       " '803397(832)',\n",
       " '803399(861)',\n",
       " '803401(871)',\n",
       " '803404(871)',\n",
       " '803405(849)',\n",
       " '803410(856)',\n",
       " '803411(803)',\n",
       " '803413(773)',\n",
       " '803417(859)',\n",
       " '803418(805)',\n",
       " '803423(818)',\n",
       " '803426(857)',\n",
       " '803473(775)',\n",
       " '803476(824)',\n",
       " '803477(793)',\n",
       " '803480(866)',\n",
       " '803481(845)',\n",
       " '803530(817)',\n",
       " '803532(806)',\n",
       " '803534(834)',\n",
       " '803536(873)',\n",
       " '803538(868)',\n",
       " '803540(805)',\n",
       " '803543(782)',\n",
       " '803544(807)',\n",
       " '803545(851)',\n",
       " '803546(794)',\n",
       " '803548(817)',\n",
       " '803551(817)',\n",
       " '***********',\n",
       " '***********',\n",
       " '***********',\n",
       " '803524(833)',\n",
       " '803525(868)',\n",
       " '803526(780)',\n",
       " '803528(857)',\n",
       " '803529(796)',\n",
       " '803486(821)',\n",
       " '803489(832)',\n",
       " '803491(872)',\n",
       " '803492(833)',\n",
       " '803493(802)',\n",
       " '803494(828)',\n",
       " '803503(852)',\n",
       " '803506(804)',\n",
       " '803515(868)',\n",
       " '803516(863)',\n",
       " '803517(859)',\n",
       " '803519(831)',\n",
       " '803520(770)',\n",
       " '803522(832)',\n",
       " '803523(835)',\n",
       " 'Grade : A',\n",
       " '803482(936)',\n",
       " '803488(891)',\n",
       " '803490(892)',\n",
       " '803499(903)',\n",
       " '803507(913)',\n",
       " '803512(934)',\n",
       " '803535(892)',\n",
       " '803537(900)',\n",
       " '803539(879+ 1)',\n",
       " '803541(909)',\n",
       " '803549(884)',\n",
       " '***********',\n",
       " '***********',\n",
       " '***********',\n",
       " '***********',\n",
       " '803455(929)',\n",
       " '803459(903)',\n",
       " '803460(920)',\n",
       " '803464(905)',\n",
       " '803478(928)',\n",
       " '803391(920)',\n",
       " '803406(919)',\n",
       " '803407(891)',\n",
       " '803415(910)',\n",
       " '803416(910)',\n",
       " '803419(895)',\n",
       " '803425(942)',\n",
       " '803427(910)',\n",
       " '803436(930)',\n",
       " '803439(887)',\n",
       " '803441(973)',\n",
       " '803442(889)',\n",
       " '803444(902)',\n",
       " '803446(921)',\n",
       " '803448(944)',\n",
       " 'Grade : A-1',\n",
       " 'D.J. Sindh Govt. Science College',\n",
       " '***********',\n",
       " '***********',\n",
       " '****NIL****',\n",
       " '***********',\n",
       " '***********',\n",
       " 'Grade : E',\n",
       " '***********',\n",
       " '***********',\n",
       " '****NIL****',\n",
       " '***********',\n",
       " '***********',\n",
       " 'Grade : D',\n",
       " '803361(602)',\n",
       " '809643(580)',\n",
       " '809645(653)',\n",
       " '850062(587)',\n",
       " '***********',\n",
       " 'Grade : C',\n",
       " '809647(681)',\n",
       " '***********',\n",
       " '***********',\n",
       " '***********',\n",
       " '***********',\n",
       " 'Grade : B',\n",
       " '***********',\n",
       " '***********',\n",
       " '****NIL****',\n",
       " '***********',\n",
       " '***********',\n",
       " 'Grade : A',\n",
       " '***********',\n",
       " '***********',\n",
       " '****NIL****',\n",
       " '***********',\n",
       " '***********',\n",
       " 'Grade : A-1',\n",
       " 'South City Institute of Management & Technology',\n",
       " '***********',\n",
       " '***********',\n",
       " '****NIL****',\n",
       " '***********',\n",
       " '***********',\n",
       " 'Grade : E',\n",
       " '***********',\n",
       " '***********',\n",
       " '****NIL****',\n",
       " '***********',\n",
       " '***********',\n",
       " 'Grade : D',\n",
       " \"Tabani's College\",\n",
       " '']"
      ]
     },
     "execution_count": 92,
     "metadata": {},
     "output_type": "execute_result"
    }
   ],
   "source": [
    "page = fileReader.getPage(20)\n",
    "arr = page.extractText().split('\\n')\n",
    "arr"
   ]
  },
  {
   "cell_type": "code",
   "execution_count": 105,
   "metadata": {},
   "outputs": [],
   "source": [
    "arr1 = []\n",
    "abc = r'^[0-1,3-9]'\n",
    "for i in arr:\n",
    "    if re.search(abc,i):\n",
    "        arr1.append(i)"
   ]
  },
  {
   "cell_type": "code",
   "execution_count": 115,
   "metadata": {},
   "outputs": [
    {
     "ename": "SyntaxError",
     "evalue": "keyword can't be an expression (<ipython-input-115-721d3c2768c5>, line 2)",
     "output_type": "error",
     "traceback": [
      "\u001b[1;36m  File \u001b[1;32m\"<ipython-input-115-721d3c2768c5>\"\u001b[1;36m, line \u001b[1;32m2\u001b[0m\n\u001b[1;33m    print(arr2[i] = arr1[i].split(\"(\"))\u001b[0m\n\u001b[1;37m         ^\u001b[0m\n\u001b[1;31mSyntaxError\u001b[0m\u001b[1;31m:\u001b[0m keyword can't be an expression\n"
     ]
    }
   ],
   "source": [
    "for i in range(len(arr1)):\n",
    "    print(arr2[i] = arr1[i].split(\"(\"))\n",
    "    print(arr2[1])"
   ]
  },
  {
   "cell_type": "code",
   "execution_count": 17,
   "metadata": {},
   "outputs": [],
   "source": [
    "'''Singly Linked List'''\n",
    "\n",
    "class Node:\n",
    "    def __init__(self,data):\n",
    "        self.data = data\n",
    "        self.next = None\n",
    "        \n",
    "        \n",
    "class LinkedList:\n",
    "    def __init__(self):\n",
    "        self.head = None\n",
    "        self.tail = None\n",
    "\n",
    "    def insert(self,data):\n",
    "        node = Node(data)\n",
    "        if self.head == None:\n",
    "            self.head = node\n",
    "            self.tail = node\n",
    "        else:\n",
    "            self.tail.next  = node\n",
    "            self.tail = self.tail.next\n",
    "            \n",
    "    def printList(self):\n",
    "        thead = self.head\n",
    "        while thead != None:\n",
    "            print(thead.data)\n",
    "            thead = thead.next\n",
    "            \n",
    "    \n",
    "\n",
    "            \n",
    "            "
   ]
  },
  {
   "cell_type": "code",
   "execution_count": 23,
   "metadata": {},
   "outputs": [
    {
     "name": "stdout",
     "output_type": "stream",
     "text": [
      "1\n",
      "2\n",
      "3\n",
      "4\n",
      "None\n"
     ]
    }
   ],
   "source": [
    "l = LinkedList()\n",
    "l.insert(1)\n",
    "l.insert(2)\n",
    "l.insert(3)\n",
    "l.insert(4)\n",
    "print(l.printList())"
   ]
  },
  {
   "cell_type": "code",
   "execution_count": 29,
   "metadata": {},
   "outputs": [],
   "source": [
    "import re"
   ]
  },
  {
   "cell_type": "code",
   "execution_count": 30,
   "metadata": {},
   "outputs": [],
   "source": []
  },
  {
   "cell_type": "code",
   "execution_count": 42,
   "metadata": {},
   "outputs": [
    {
     "data": {
      "text/plain": [
       "['RegExr',\n",
       " 'was',\n",
       " 'created',\n",
       " 'by',\n",
       " 'gskinner.com,',\n",
       " 'and',\n",
       " 'is',\n",
       " 'proudly',\n",
       " 'hosted',\n",
       " 'by',\n",
       " 'Media',\n",
       " 'Temple']"
      ]
     },
     "execution_count": 42,
     "metadata": {},
     "output_type": "execute_result"
    }
   ],
   "source": [
    "a"
   ]
  },
  {
   "cell_type": "code",
   "execution_count": 87,
   "metadata": {},
   "outputs": [
    {
     "name": "stdout",
     "output_type": "stream",
     "text": [
      "RegExr\n",
      "r \n",
      "created\n",
      "r \n",
      "gskinner.com,\n",
      "r \n",
      "proudly\n",
      "r \n"
     ]
    }
   ],
   "source": [
    "r = r'[r]'\n",
    "abc = \"RegExr was created by gskinner.com, and is proudly hosted by Media Temple\"\n",
    "a = abc.split()\n",
    "for i in a:\n",
    "    if re.search(r,i):\n",
    "        print(i)\n",
    "        for b in i:\n",
    "            if re.search(r,b):\n",
    "                print(b, end = \" \")\n",
    "        print()"
   ]
  },
  {
   "cell_type": "code",
   "execution_count": 1,
   "metadata": {},
   "outputs": [],
   "source": [
    "from pyDatalog import pyDatalog as p"
   ]
  },
  {
   "cell_type": "code",
   "execution_count": 16,
   "metadata": {},
   "outputs": [],
   "source": [
    "p.create_terms('grandparent,parent,X,Y,Z')"
   ]
  },
  {
   "cell_type": "code",
   "execution_count": 27,
   "metadata": {},
   "outputs": [],
   "source": [
    "+male(\"a\")\n",
    "+male(\"b\")\n",
    "+male(\"c\")\n",
    "+parent(\"a\",\"b\")\n",
    "+parent(\"b\",\"c\")"
   ]
  },
  {
   "cell_type": "code",
   "execution_count": 28,
   "metadata": {},
   "outputs": [
    {
     "data": {
      "text/plain": [
       "(grandparent(X,Z) <= parent(X,Y), [('b', 'c'), ('a', 'b'), ('moosa', 'rafiq')])"
      ]
     },
     "execution_count": 28,
     "metadata": {},
     "output_type": "execute_result"
    }
   ],
   "source": [
    "grandparent(X,Z) <= parent(X,Y), parent(Y,Z)"
   ]
  },
  {
   "cell_type": "code",
   "execution_count": 34,
   "metadata": {},
   "outputs": [
    {
     "data": {
      "text/plain": [
       "True"
      ]
     },
     "execution_count": 34,
     "metadata": {},
     "output_type": "execute_result"
    }
   ],
   "source": [
    "grandparent(X,Y)"
   ]
  },
  {
   "cell_type": "code",
   "execution_count": 46,
   "metadata": {},
   "outputs": [],
   "source": [
    "graph = { \"a\" : [\"c\"],\n",
    "          \"b\" : [\"c\", \"e\"],\n",
    "          \"c\" : [\"a\", \"b\", \"d\", \"e\"],\n",
    "          \"d\" : [\"c\"],\n",
    "          \"e\" : [\"c\", \"b\"],\n",
    "          \"f\" : []\n",
    "        }"
   ]
  },
  {
   "cell_type": "code",
   "execution_count": 70,
   "metadata": {},
   "outputs": [],
   "source": [
    "def bfs(node,visited,queue):\n",
    "    if node not in visited:\n",
    "        visited.append(node)\n",
    "        print(queue, visited, graph[node])\n",
    "        for n in graph[node]:\n",
    "            if n not in queue:\n",
    "                queue.append(n)\n",
    "        if len(queue):\n",
    "            bfs(queue.pop(0),visited,queue)\n",
    "        return visited"
   ]
  },
  {
   "cell_type": "code",
   "execution_count": 71,
   "metadata": {},
   "outputs": [
    {
     "name": "stdout",
     "output_type": "stream",
     "text": [
      "[] ['a'] ['c']\n",
      "[] ['a', 'c'] ['a', 'b', 'd', 'e']\n"
     ]
    },
    {
     "data": {
      "text/plain": [
       "['a', 'c']"
      ]
     },
     "execution_count": 71,
     "metadata": {},
     "output_type": "execute_result"
    }
   ],
   "source": [
    "bfs('a',[],[])"
   ]
  },
  {
   "cell_type": "code",
   "execution_count": 60,
   "metadata": {},
   "outputs": [
    {
     "data": {
      "text/plain": [
       "1"
      ]
     },
     "execution_count": 60,
     "metadata": {},
     "output_type": "execute_result"
    }
   ],
   "source": []
  },
  {
   "cell_type": "code",
   "execution_count": null,
   "metadata": {},
   "outputs": [],
   "source": []
  }
 ],
 "metadata": {
  "kernelspec": {
   "display_name": "Python 3",
   "language": "python",
   "name": "python3"
  },
  "language_info": {
   "codemirror_mode": {
    "name": "ipython",
    "version": 3
   },
   "file_extension": ".py",
   "mimetype": "text/x-python",
   "name": "python",
   "nbconvert_exporter": "python",
   "pygments_lexer": "ipython3",
   "version": "3.7.3"
  }
 },
 "nbformat": 4,
 "nbformat_minor": 2
}
