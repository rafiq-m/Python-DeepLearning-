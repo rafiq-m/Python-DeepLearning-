{
 "cells": [
  {
   "cell_type": "code",
   "execution_count": 18,
   "metadata": {},
   "outputs": [
    {
     "name": "stdout",
     "output_type": "stream",
     "text": [
      "Enter any number:3\n",
      "3 x  1 =  3\n",
      "3 x  2 =  6\n",
      "3 x  3 =  9\n",
      "3 x  4 =  12\n",
      "3 x  5 =  15\n",
      "3 x  6 =  18\n",
      "3 x  7 =  21\n",
      "3 x  8 =  24\n",
      "3 x  9 =  27\n"
     ]
    }
   ],
   "source": [
    "x=int(input(\"Enter any number:\"))\n",
    "for i in range(1,10):   \n",
    "    print(x,\"x \",i,\"= \",x*i)"
   ]
  },
  {
   "cell_type": "code",
   "execution_count": 42,
   "metadata": {},
   "outputs": [
    {
     "name": "stdout",
     "output_type": "stream",
     "text": [
      "W B W B W B W B \n",
      "B W B W B W B W \n",
      "W B W B W B W B \n",
      "B W B W B W B W \n",
      "W B W B W B W B \n",
      "B W B W B W B W \n",
      "W B W B W B W B \n",
      "B W B W B W B W \n"
     ]
    }
   ],
   "source": [
    "'''check Board pattern 8 * 8'''\n",
    "x=\"W\"\n",
    "for i in range(1,9):\n",
    "    for k in range(1,5):\n",
    "        if (i)%2==0:\n",
    "            print(\"B W\",end=' ')\n",
    "        else:\n",
    "           print(\"W B\",end = ' ')\n",
    "    print(\"\")\n"
   ]
  },
  {
   "cell_type": "code",
   "execution_count": 44,
   "metadata": {},
   "outputs": [
    {
     "name": "stdout",
     "output_type": "stream",
     "text": [
      "('Pink', 'Yellow', 'Blue')\n"
     ]
    },
    {
     "data": {
      "text/plain": [
       "'reference has been changed only we have not edit the tuple.Inshort Overwrite hua he'"
      ]
     },
     "execution_count": 44,
     "metadata": {},
     "output_type": "execute_result"
    }
   ],
   "source": [
    "'''Can't change data in tpuples and it is donated by round brackets slicing concpepts are same as in lists \n",
    "ye memory me ek saath allocate hota he balke list me elements jab add karte tou alag memory me hota or alag se pointer\n",
    "lagta he uspe\n",
    "'''\n",
    "color = (\"Red\",\"Green\",\"blue\")\n",
    "'''color[0] = \"purple\" (Syntax error)'''\n",
    "color = (\"Pink\",\"Yellow\",\"Blue\")\n",
    "print(color)\n",
    "'''reference has been changed only we have not edit the tuple.Inshort Overwrite hua he'''"
   ]
  },
  {
   "cell_type": "code",
   "execution_count": 58,
   "metadata": {},
   "outputs": [
    {
     "name": "stdout",
     "output_type": "stream",
     "text": [
      "hello world\n",
      "Hello World\n"
     ]
    }
   ],
   "source": [
    "'''studied lower,upper and title functions'''\n",
    "str1 = \"HELLO WORLD\"\n",
    "print(str1.lower())\n",
    "print(str1.title())"
   ]
  },
  {
   "cell_type": "code",
   "execution_count": 77,
   "metadata": {},
   "outputs": [
    {
     "name": "stdout",
     "output_type": "stream",
     "text": [
      "Enter a sentence:w w w\n",
      "2\n",
      "2\n"
     ]
    }
   ],
   "source": [
    "'''word.count(' ')+1'''\n",
    "y=0\n",
    "x= input(\"Enter a sentence:\")\n",
    "length = x.split()\n",
    "print(len(length)-1)\n",
    "\n",
    "for i in x:\n",
    "    if  i in [\" \"]:\n",
    "        y+=1\n",
    "print(y)"
   ]
  },
  {
   "cell_type": "code",
   "execution_count": 78,
   "metadata": {},
   "outputs": [
    {
     "name": "stdout",
     "output_type": "stream",
     "text": [
      "dict_keys(['name', 'Qualification', 'Salary'])\n",
      "dict_values(['Noman Islam', 'PHD', '300000'])\n",
      "name   Noman Islam\n",
      "Qualification   PHD\n",
      "Salary   300000\n"
     ]
    }
   ],
   "source": [
    "'''Dictionaries are like 2D arrays which is used to store data it has two metods keys() and values()   \n",
    "{} for dictionaries  [] list   () tuple'''\n",
    "\n",
    "doctor ={\"name\":\"Noman Islam\",\"Qualification\":\"PHD\",\"Salary\":\"300000\"}\n",
    "print(doctor.keys())\n",
    "print(doctor.values())\n",
    "for i in doctor.keys():\n",
    "    print(i,\" \",doctor[i])"
   ]
  },
  {
   "cell_type": "code",
   "execution_count": 86,
   "metadata": {},
   "outputs": [
    {
     "name": "stdout",
     "output_type": "stream",
     "text": [
      "Enter a sentencemy name is muhammad rafiq\n",
      "{'m': 5, 'y': 1, ' ': 4, 'n': 1, 'a': 4, 'e': 1, 'i': 2, 's': 1, 'u': 1, 'h': 1, 'd': 1, 'r': 1, 'f': 1, 'q': 1}\n"
     ]
    }
   ],
   "source": [
    "'''count how many letters appeared how many times'''\n",
    "y=0\n",
    "count={}\n",
    "str1 = input(\"Enter a sentence\")\n",
    "for i in str1:\n",
    "    if i in count.keys():\n",
    "        count[i] += 1\n",
    "    else:\n",
    "        count[i] = 1\n",
    "print(count)\n",
    "    "
   ]
  },
  {
   "cell_type": "code",
   "execution_count": 94,
   "metadata": {},
   "outputs": [
    {
     "name": "stdout",
     "output_type": "stream",
     "text": [
      "Enter a sentenceali ali is rafiq\n",
      "['ali', 'ali', 'is', 'rafiq']\n",
      "{'ali': 2, 'is': 1, 'rafiq': 1}\n"
     ]
    }
   ],
   "source": [
    "'''count how many words appered how many times'''\n",
    "count={}\n",
    "str1 = input(\"Enter a sentence\")\n",
    "splited = str1.split()\n",
    "print(splited)\n",
    "for i in splited:\n",
    "    if i in count.keys():\n",
    "        count[i] += 1\n",
    "    else:\n",
    "         count[i]= 1\n",
    "print(count)"
   ]
  },
  {
   "cell_type": "code",
   "execution_count": 1,
   "metadata": {},
   "outputs": [
    {
     "name": "stdout",
     "output_type": "stream",
     "text": [
      "{'name': 'Noman Islam', 'Qualification': 'PHD', 'Salary': '300000', 'specialization': 'computer science'}\n",
      "name Noman Islam\n",
      "Qualification PHD\n",
      "Salary 300000\n",
      "specialization computer science\n"
     ]
    }
   ],
   "source": [
    "'''dictionaries me new keys daalne ka method, it is returning tupple(doctor.items)'''\n",
    "doctor ={\"name\":\"Noman Islam\",\"Qualification\":\"PHD\",\"Salary\":\"300000\"}\n",
    "doctor[\"specialization\"]= \"computer science\"\n",
    "print(doctor)\n",
    "for i,j in doctor.items():\n",
    "    print(i,end= ' ')\n",
    "    print(j)"
   ]
  },
  {
   "cell_type": "code",
   "execution_count": 13,
   "metadata": {},
   "outputs": [
    {
     "name": "stdout",
     "output_type": "stream",
     "text": [
      "rafiq\n",
      "[{'salary': '30000000'}, {'name': 'haris', 'salary': '10238'}]\n",
      "[{'salary': '30000000'}]\n"
     ]
    }
   ],
   "source": [
    "'''if there are many doctors so we make list of dictionaries we can remove in dictionaries'''\n",
    "'''LIST OF DICTIONARIES'''\n",
    "doctors = [{\"name\":\"rafiq\",\"salary\":\"30000000\"},{\"name\":\"haris\",\"salary\":\"10238\"}]\n",
    "print(doctors[0][\"name\"])\n",
    "del doctors[0][\"name\"]\n",
    "print(doctors)\n",
    "del doctors[1:]\n",
    "print(doctors)"
   ]
  },
  {
   "cell_type": "code",
   "execution_count": 104,
   "metadata": {},
   "outputs": [
    {
     "name": "stdout",
     "output_type": "stream",
     "text": [
      "{'name': 'rafiq', 'discount': ['20', '30', '40']}\n",
      "{'name': 'rafiq', 'discount': ['30', '40']}\n"
     ]
    }
   ],
   "source": [
    "'''DICTIONARISE OF LIST'''\n",
    "dis = {\"name\":\"rafiq\",\"discount\":[\"20\",\"30\",\"40\"]}\n",
    "print(dis)\n",
    "del dis['discount'][0]\n",
    "print(dis)"
   ]
  },
  {
   "cell_type": "code",
   "execution_count": null,
   "metadata": {},
   "outputs": [],
   "source": [
    "'''DICTIONARIES OF DICTIONARIES'''\n",
    "'''Dictionaries me position se specify nhi karsakte only in list me karsakte'''\n",
    "'''Dictionaries me append nhi karsakte is me aap khud keys daal kar add kardein'''\n",
    "'''List me append insert del hosakta , dictionaries me bhi del hosakta lekin position specify karni hogi'''"
   ]
  },
  {
   "cell_type": "code",
   "execution_count": null,
   "metadata": {},
   "outputs": [],
   "source": []
  }
 ],
 "metadata": {
  "kernelspec": {
   "display_name": "Python 3",
   "language": "python",
   "name": "python3"
  },
  "language_info": {
   "codemirror_mode": {
    "name": "ipython",
    "version": 3
   },
   "file_extension": ".py",
   "mimetype": "text/x-python",
   "name": "python",
   "nbconvert_exporter": "python",
   "pygments_lexer": "ipython3",
   "version": "3.7.3"
  }
 },
 "nbformat": 4,
 "nbformat_minor": 2
}
