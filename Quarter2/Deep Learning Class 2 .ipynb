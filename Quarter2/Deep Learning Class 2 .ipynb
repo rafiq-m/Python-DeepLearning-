{
 "cells": [
  {
   "cell_type": "code",
   "execution_count": 2,
   "metadata": {},
   "outputs": [],
   "source": [
    "#Every deep learning and machine learning algorithm is an AI algorithm\n",
    "#How good is an algorithm is ? It is called (Turing Test), no program could pass the test till now.\n",
    "#in ML programming, Data + output = Rules, Program.\n",
    "#Deep learning is a subset of Machine learning. It\n",
    "#Activation function can convert linear data into non linear data.\n",
    "#loss function = True target - Predicted Value\n",
    "#Optimizer = Change the value of weights in positive or negative direction\n",
    "#weight = Value * Feature\n",
    "#Agr tamaam predicted values ka mean nikalein tou wo uska cost function hota he\n"
   ]
  },
  {
   "cell_type": "code",
   "execution_count": null,
   "metadata": {},
   "outputs": [],
   "source": []
  },
  {
   "cell_type": "code",
   "execution_count": null,
   "metadata": {},
   "outputs": [],
   "source": []
  }
 ],
 "metadata": {
  "kernelspec": {
   "display_name": "Python 3",
   "language": "python",
   "name": "python3"
  },
  "language_info": {
   "codemirror_mode": {
    "name": "ipython",
    "version": 3
   },
   "file_extension": ".py",
   "mimetype": "text/x-python",
   "name": "python",
   "nbconvert_exporter": "python",
   "pygments_lexer": "ipython3",
   "version": "3.7.3"
  }
 },
 "nbformat": 4,
 "nbformat_minor": 2
}
