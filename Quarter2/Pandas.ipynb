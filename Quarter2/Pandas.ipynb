{
 "cells": [
  {
   "cell_type": "code",
   "execution_count": 1,
   "metadata": {},
   "outputs": [
    {
     "data": {
      "text/plain": [
       "'Slicing ke waqt jitne : honge utne dimension ka matrix return hoga numpy array me '"
      ]
     },
     "execution_count": 1,
     "metadata": {},
     "output_type": "execute_result"
    }
   ],
   "source": [
    "'''Slicing ke waqt jitne : honge utne dimension ka matrix return hoga numpy array me '''"
   ]
  },
  {
   "cell_type": "code",
   "execution_count": 67,
   "metadata": {},
   "outputs": [],
   "source": [
    "import pandas as pd\n",
    "from pandas import Series, DataFrame\n",
    "# pandas has two famous data structres which we would study extensively "
   ]
  },
  {
   "cell_type": "markdown",
   "metadata": {},
   "source": [
    "# Data Structures of Python\n",
    "It has 2 data structures one is SERIES and other is DATA FRAMES"
   ]
  },
  {
   "cell_type": "code",
   "execution_count": 68,
   "metadata": {},
   "outputs": [
    {
     "name": "stdout",
     "output_type": "stream",
     "text": [
      "0    11\n",
      "1    22\n",
      "2    33\n",
      "3    44\n",
      "4    55\n",
      "5    66\n",
      "6    77\n",
      "dtype: int64\n"
     ]
    }
   ],
   "source": [
    "s = pd.Series([11,22,33,44,55,66,77])\n",
    "print(s)      # s is the series object/labels(These are default labels) and 1st column is index and other column is values"
   ]
  },
  {
   "cell_type": "markdown",
   "metadata": {},
   "source": [
    "# ACCESSING DATA FROM SERIES"
   ]
  },
  {
   "cell_type": "code",
   "execution_count": 69,
   "metadata": {},
   "outputs": [
    {
     "name": "stdout",
     "output_type": "stream",
     "text": [
      "66\n",
      "4    55\n",
      "0    11\n",
      "dtype: int64\n"
     ]
    }
   ],
   "source": [
    "print(s[5])    #Single value access\n",
    "print(s[[4,0]])"
   ]
  },
  {
   "cell_type": "code",
   "execution_count": 70,
   "metadata": {},
   "outputs": [
    {
     "name": "stdout",
     "output_type": "stream",
     "text": [
      "0        11\n",
      "1        22\n",
      "2    222222\n",
      "3     33333\n",
      "4        55\n",
      "5     55555\n",
      "6        77\n",
      "dtype: int64\n"
     ]
    }
   ],
   "source": [
    "s[5] = 55555                  #updation\n",
    "s[[3,2]] = [33333,222222]\n",
    "print(s)"
   ]
  },
  {
   "cell_type": "code",
   "execution_count": 71,
   "metadata": {},
   "outputs": [],
   "source": [
    "del s[4]"
   ]
  },
  {
   "cell_type": "code",
   "execution_count": 72,
   "metadata": {},
   "outputs": [
    {
     "name": "stdout",
     "output_type": "stream",
     "text": [
      "0        11\n",
      "1        22\n",
      "2    222222\n",
      "3     33333\n",
      "5     55555\n",
      "6        77\n",
      "dtype: int64\n"
     ]
    }
   ],
   "source": [
    "print(s)"
   ]
  },
  {
   "cell_type": "code",
   "execution_count": 73,
   "metadata": {},
   "outputs": [],
   "source": [
    "s[7] = 777777       #Insertion"
   ]
  },
  {
   "cell_type": "code",
   "execution_count": 74,
   "metadata": {},
   "outputs": [
    {
     "name": "stdout",
     "output_type": "stream",
     "text": [
      "0        11\n",
      "1        22\n",
      "2    222222\n",
      "3     33333\n",
      "5     55555\n",
      "6        77\n",
      "7    777777\n",
      "dtype: int64\n",
      "0        11\n",
      "1        22\n",
      "2    222222\n",
      "3     33333\n",
      "5     55555\n",
      "6        77\n",
      "7    777777\n",
      "9      9999\n",
      "dtype: int64\n"
     ]
    }
   ],
   "source": [
    "print(s)\n",
    "s[9] = 9999\n",
    "print(s)"
   ]
  },
  {
   "cell_type": "code",
   "execution_count": 75,
   "metadata": {},
   "outputs": [
    {
     "name": "stdout",
     "output_type": "stream",
     "text": [
      "0        11\n",
      "1        22\n",
      "2    222222\n",
      "3     33333\n",
      "5     55555\n",
      "6        77\n",
      "7    777777\n",
      "9      9999\n",
      "dtype: int64\n"
     ]
    }
   ],
   "source": [
    "s[9] = 9999\n",
    "print(s)"
   ]
  },
  {
   "cell_type": "code",
   "execution_count": 76,
   "metadata": {},
   "outputs": [
    {
     "name": "stdout",
     "output_type": "stream",
     "text": [
      "0        11\n",
      "1        22\n",
      "2    222222\n",
      "3     33333\n",
      "5     55555\n",
      "6        77\n",
      "7         7\n",
      "9         9\n",
      "dtype: int64\n"
     ]
    }
   ],
   "source": [
    "s[[7,9]] =[7,9]\n",
    "print(s)\n"
   ]
  },
  {
   "cell_type": "markdown",
   "metadata": {},
   "source": [
    "# WE CAN'T PERFORM MULTIPLE DELETE AND INSERTION"
   ]
  },
  {
   "cell_type": "code",
   "execution_count": 77,
   "metadata": {},
   "outputs": [
    {
     "data": {
      "text/plain": [
       "'Sequence does not matter it does not have index , BUT LABELS IT IS THE KEY'"
      ]
     },
     "execution_count": 77,
     "metadata": {},
     "output_type": "execute_result"
    }
   ],
   "source": [
    "'''Sequence does not matter it does not have index , BUT LABELS IT IS THE KEY'''"
   ]
  },
  {
   "cell_type": "markdown",
   "metadata": {},
   "source": [
    "# Defining our own index (Labels/Keys)"
   ]
  },
  {
   "cell_type": "code",
   "execution_count": 78,
   "metadata": {},
   "outputs": [
    {
     "name": "stdout",
     "output_type": "stream",
     "text": [
      "apples     100\n",
      "Oranges    200\n",
      "Banana     300\n",
      "Kivis      400\n",
      "dtype: int64\n"
     ]
    }
   ],
   "source": [
    "s1 = pd.Series([100,200,300,400], index = [\"apples\", \"Oranges\", \"Banana\", \"Kivis\"])\n",
    "print(s1)"
   ]
  },
  {
   "cell_type": "code",
   "execution_count": 79,
   "metadata": {},
   "outputs": [
    {
     "name": "stdout",
     "output_type": "stream",
     "text": [
      "Mangoes      NaN\n",
      "apples     100.0\n",
      "Oranges    200.0\n",
      "Banana     300.0\n",
      "Kivis      400.0\n",
      "Grapes       NaN\n",
      "dtype: float64\n"
     ]
    }
   ],
   "source": [
    "'''Combining'''\n",
    "ourIndex = [\"Mangoes\", \"apples\", \"Oranges\", \"Banana\", \"Kivis\", \"Grapes\"]\n",
    "s2 = pd.Series(s1, index = ourIndex)\n",
    "print(s2)            #Jo data usko nhi mila usko NaN kardega means ke wo cell khaali he and datatype would be float. "
   ]
  },
  {
   "cell_type": "code",
   "execution_count": 80,
   "metadata": {},
   "outputs": [
    {
     "name": "stdout",
     "output_type": "stream",
     "text": [
      "Mangoes    False\n",
      "apples      True\n",
      "Oranges     True\n",
      "Banana      True\n",
      "Kivis       True\n",
      "Grapes     False\n",
      "dtype: bool\n"
     ]
    }
   ],
   "source": [
    "print(s2 >0)"
   ]
  },
  {
   "cell_type": "code",
   "execution_count": 81,
   "metadata": {},
   "outputs": [
    {
     "name": "stdout",
     "output_type": "stream",
     "text": [
      "Oranges    200.0\n",
      "Banana     300.0\n",
      "Kivis      400.0\n",
      "dtype: float64\n"
     ]
    }
   ],
   "source": [
    "print(s2[s2>100])"
   ]
  },
  {
   "cell_type": "code",
   "execution_count": 82,
   "metadata": {},
   "outputs": [
    {
     "name": "stdout",
     "output_type": "stream",
     "text": [
      "True\n"
     ]
    }
   ],
   "source": [
    "print(\"Oranges\" in s2)"
   ]
  },
  {
   "cell_type": "code",
   "execution_count": 83,
   "metadata": {},
   "outputs": [
    {
     "name": "stdout",
     "output_type": "stream",
     "text": [
      "False\n"
     ]
    }
   ],
   "source": [
    "print(\"Fruit\" in s2)"
   ]
  },
  {
   "cell_type": "markdown",
   "metadata": {},
   "source": [
    "# Creating a series using dictionaries"
   ]
  },
  {
   "cell_type": "code",
   "execution_count": 84,
   "metadata": {},
   "outputs": [
    {
     "name": "stdout",
     "output_type": "stream",
     "text": [
      "Ohio      35000\n",
      "Texas     71000\n",
      "Oregon    16000\n",
      "Utah       5000\n",
      "dtype: int64\n",
      "Index(['Ohio', 'Texas', 'Oregon', 'Utah'], dtype='object')\n",
      "Index(['Ohio', 'Texas', 'Oregon', 'Utah'], dtype='object')\n",
      "[35000 71000 16000  5000]\n"
     ]
    }
   ],
   "source": [
    "'''Web se jitna bhi data fetch hota he dictionary form me hota he'''\n",
    "dictionary = {'Ohio': 35000, 'Texas': 71000, 'Oregon': 16000, 'Utah': 5000}\n",
    "s3 = pd.Series(dictionary)\n",
    "print(s3)\n",
    "print(s3.keys())    #returning Keys\n",
    "print(s3.index)     #returning indexes\n",
    "print(s3.values)    #returning values"
   ]
  },
  {
   "cell_type": "code",
   "execution_count": 85,
   "metadata": {},
   "outputs": [],
   "source": [
    "students = [{\"Name\":\"Inam\", \"Age\" : 42},{\"Name\":\"Mohsin\", \"Age\": 26}]"
   ]
  },
  {
   "cell_type": "code",
   "execution_count": 86,
   "metadata": {},
   "outputs": [
    {
     "name": "stdout",
     "output_type": "stream",
     "text": [
      "   Age    Name\n",
      "1   42    Inam\n",
      "2   26  Mohsin\n"
     ]
    }
   ],
   "source": [
    "std = pd.DataFrame(students, index = [\"1\" , \"2\"])\n",
    "print(std)"
   ]
  },
  {
   "cell_type": "code",
   "execution_count": 87,
   "metadata": {},
   "outputs": [
    {
     "data": {
      "text/html": [
       "<div>\n",
       "<style scoped>\n",
       "    .dataframe tbody tr th:only-of-type {\n",
       "        vertical-align: middle;\n",
       "    }\n",
       "\n",
       "    .dataframe tbody tr th {\n",
       "        vertical-align: top;\n",
       "    }\n",
       "\n",
       "    .dataframe thead th {\n",
       "        text-align: right;\n",
       "    }\n",
       "</style>\n",
       "<table border=\"1\" class=\"dataframe\">\n",
       "  <thead>\n",
       "    <tr style=\"text-align: right;\">\n",
       "      <th></th>\n",
       "      <th>Name</th>\n",
       "      <th>Age</th>\n",
       "    </tr>\n",
       "  </thead>\n",
       "  <tbody>\n",
       "    <tr>\n",
       "      <th>0</th>\n",
       "      <td>Mohsin</td>\n",
       "      <td>123</td>\n",
       "    </tr>\n",
       "    <tr>\n",
       "      <th>1</th>\n",
       "      <td>Inam</td>\n",
       "      <td>321</td>\n",
       "    </tr>\n",
       "  </tbody>\n",
       "</table>\n",
       "</div>"
      ],
      "text/plain": [
       "     Name  Age\n",
       "0  Mohsin  123\n",
       "1    Inam  321"
      ]
     },
     "execution_count": 87,
     "metadata": {},
     "output_type": "execute_result"
    }
   ],
   "source": [
    "student2 = {\"Name\":[\"Mohsin\", \"Inam\"], \"Age\":[123, 321]}\n",
    "std2 = pd.DataFrame(student2)\n",
    "std2"
   ]
  },
  {
   "cell_type": "code",
   "execution_count": 88,
   "metadata": {},
   "outputs": [
    {
     "name": "stdout",
     "output_type": "stream",
     "text": [
      "Mangoes      NaN\n",
      "apples     100.0\n",
      "Oranges    200.0\n",
      "Banana     300.0\n",
      "Kivis      400.0\n",
      "Grapes       NaN\n",
      "dtype: float64\n",
      "Mangoes    False\n",
      "apples      True\n",
      "Oranges     True\n",
      "Banana      True\n",
      "Kivis       True\n",
      "Grapes     False\n",
      "dtype: bool\n",
      "Mangoes     True\n",
      "apples     False\n",
      "Oranges    False\n",
      "Banana     False\n",
      "Kivis      False\n",
      "Grapes      True\n",
      "dtype: bool\n"
     ]
    }
   ],
   "source": [
    "print(s2)\n",
    "print(pd.notnull(s2))\n",
    "print(pd.isnull(s2))"
   ]
  },
  {
   "cell_type": "markdown",
   "metadata": {},
   "source": [
    "# DATA FRAME IS TWO DIMENSIONAL"
   ]
  },
  {
   "cell_type": "code",
   "execution_count": 89,
   "metadata": {},
   "outputs": [
    {
     "data": {
      "text/html": [
       "<div>\n",
       "<style scoped>\n",
       "    .dataframe tbody tr th:only-of-type {\n",
       "        vertical-align: middle;\n",
       "    }\n",
       "\n",
       "    .dataframe tbody tr th {\n",
       "        vertical-align: top;\n",
       "    }\n",
       "\n",
       "    .dataframe thead th {\n",
       "        text-align: right;\n",
       "    }\n",
       "</style>\n",
       "<table border=\"1\" class=\"dataframe\">\n",
       "  <thead>\n",
       "    <tr style=\"text-align: right;\">\n",
       "      <th></th>\n",
       "      <th>0</th>\n",
       "    </tr>\n",
       "  </thead>\n",
       "  <tbody>\n",
       "    <tr>\n",
       "      <th>0</th>\n",
       "      <td>Red</td>\n",
       "    </tr>\n",
       "    <tr>\n",
       "      <th>1</th>\n",
       "      <td>Green</td>\n",
       "    </tr>\n",
       "    <tr>\n",
       "      <th>2</th>\n",
       "      <td>Blue</td>\n",
       "    </tr>\n",
       "  </tbody>\n",
       "</table>\n",
       "</div>"
      ],
      "text/plain": [
       "       0\n",
       "0    Red\n",
       "1  Green\n",
       "2   Blue"
      ]
     },
     "execution_count": 89,
     "metadata": {},
     "output_type": "execute_result"
    }
   ],
   "source": [
    "df = pd.DataFrame([\"Red\",\"Green\",\"Blue\"])\n",
    "df"
   ]
  },
  {
   "cell_type": "code",
   "execution_count": 90,
   "metadata": {},
   "outputs": [
    {
     "name": "stdout",
     "output_type": "stream",
     "text": [
      "       c1\n",
      "v1    Red\n",
      "v2  Green\n",
      "v3   Blue\n"
     ]
    }
   ],
   "source": [
    "df = pd.DataFrame([\"Red\",\"Green\",\"Blue\"], index = [\"v1\",\"v2\",\"v3\"] ,columns = [\"c1\"])\n",
    "print(df)"
   ]
  },
  {
   "cell_type": "markdown",
   "metadata": {},
   "source": [
    "# Creating a Data frame using dictionary"
   ]
  },
  {
   "cell_type": "code",
   "execution_count": 91,
   "metadata": {},
   "outputs": [
    {
     "data": {
      "text/html": [
       "<div>\n",
       "<style scoped>\n",
       "    .dataframe tbody tr th:only-of-type {\n",
       "        vertical-align: middle;\n",
       "    }\n",
       "\n",
       "    .dataframe tbody tr th {\n",
       "        vertical-align: top;\n",
       "    }\n",
       "\n",
       "    .dataframe thead th {\n",
       "        text-align: right;\n",
       "    }\n",
       "</style>\n",
       "<table border=\"1\" class=\"dataframe\">\n",
       "  <thead>\n",
       "    <tr style=\"text-align: right;\">\n",
       "      <th></th>\n",
       "      <th>Ai for EO</th>\n",
       "      <th>Python1</th>\n",
       "      <th>Python2</th>\n",
       "    </tr>\n",
       "  </thead>\n",
       "  <tbody>\n",
       "    <tr>\n",
       "      <th>0</th>\n",
       "      <td>30</td>\n",
       "      <td>67</td>\n",
       "      <td>78</td>\n",
       "    </tr>\n",
       "    <tr>\n",
       "      <th>1</th>\n",
       "      <td>89</td>\n",
       "      <td>87</td>\n",
       "      <td>89</td>\n",
       "    </tr>\n",
       "    <tr>\n",
       "      <th>2</th>\n",
       "      <td>87</td>\n",
       "      <td>56</td>\n",
       "      <td>76</td>\n",
       "    </tr>\n",
       "    <tr>\n",
       "      <th>3</th>\n",
       "      <td>81</td>\n",
       "      <td>40</td>\n",
       "      <td>78</td>\n",
       "    </tr>\n",
       "    <tr>\n",
       "      <th>4</th>\n",
       "      <td>76</td>\n",
       "      <td>81</td>\n",
       "      <td>56</td>\n",
       "    </tr>\n",
       "    <tr>\n",
       "      <th>5</th>\n",
       "      <td>78</td>\n",
       "      <td>90</td>\n",
       "      <td>49</td>\n",
       "    </tr>\n",
       "    <tr>\n",
       "      <th>6</th>\n",
       "      <td>98</td>\n",
       "      <td>98</td>\n",
       "      <td>89</td>\n",
       "    </tr>\n",
       "    <tr>\n",
       "      <th>7</th>\n",
       "      <td>90</td>\n",
       "      <td>45</td>\n",
       "      <td>71</td>\n",
       "    </tr>\n",
       "    <tr>\n",
       "      <th>8</th>\n",
       "      <td>71</td>\n",
       "      <td>98</td>\n",
       "      <td>70</td>\n",
       "    </tr>\n",
       "    <tr>\n",
       "      <th>9</th>\n",
       "      <td>67</td>\n",
       "      <td>67</td>\n",
       "      <td>45</td>\n",
       "    </tr>\n",
       "  </tbody>\n",
       "</table>\n",
       "</div>"
      ],
      "text/plain": [
       "   Ai for EO  Python1  Python2\n",
       "0         30       67       78\n",
       "1         89       87       89\n",
       "2         87       56       76\n",
       "3         81       40       78\n",
       "4         76       81       56\n",
       "5         78       90       49\n",
       "6         98       98       89\n",
       "7         90       45       71\n",
       "8         71       98       70\n",
       "9         67       67       45"
      ]
     },
     "execution_count": 91,
     "metadata": {},
     "output_type": "execute_result"
    }
   ],
   "source": [
    "scores =  {\"Ai for EO\" :[30,89,87,81,76,78,98,90,71,67],\n",
    "        \"Python1\":      [67,87,56,40,81,90,98,45,98,67],\n",
    "        \"Python2\" :     [78,89,76,78,56,49,89,71,70,45]\n",
    "        }\n",
    "data = pd.DataFrame(scores)\n",
    "data"
   ]
  },
  {
   "cell_type": "code",
   "execution_count": 92,
   "metadata": {},
   "outputs": [
    {
     "data": {
      "text/html": [
       "<div>\n",
       "<style scoped>\n",
       "    .dataframe tbody tr th:only-of-type {\n",
       "        vertical-align: middle;\n",
       "    }\n",
       "\n",
       "    .dataframe tbody tr th {\n",
       "        vertical-align: top;\n",
       "    }\n",
       "\n",
       "    .dataframe thead th {\n",
       "        text-align: right;\n",
       "    }\n",
       "</style>\n",
       "<table border=\"1\" class=\"dataframe\">\n",
       "  <thead>\n",
       "    <tr style=\"text-align: right;\">\n",
       "      <th></th>\n",
       "      <th>Ai for EO</th>\n",
       "      <th>Python1</th>\n",
       "      <th>Python2</th>\n",
       "    </tr>\n",
       "  </thead>\n",
       "  <tbody>\n",
       "    <tr>\n",
       "      <th>Ali</th>\n",
       "      <td>30</td>\n",
       "      <td>67</td>\n",
       "      <td>78</td>\n",
       "    </tr>\n",
       "    <tr>\n",
       "      <th>Ahmed</th>\n",
       "      <td>89</td>\n",
       "      <td>87</td>\n",
       "      <td>89</td>\n",
       "    </tr>\n",
       "    <tr>\n",
       "      <th>Nasir</th>\n",
       "      <td>87</td>\n",
       "      <td>56</td>\n",
       "      <td>76</td>\n",
       "    </tr>\n",
       "    <tr>\n",
       "      <th>Asad</th>\n",
       "      <td>81</td>\n",
       "      <td>40</td>\n",
       "      <td>78</td>\n",
       "    </tr>\n",
       "    <tr>\n",
       "      <th>Khan</th>\n",
       "      <td>76</td>\n",
       "      <td>81</td>\n",
       "      <td>56</td>\n",
       "    </tr>\n",
       "    <tr>\n",
       "      <th>Saad</th>\n",
       "      <td>78</td>\n",
       "      <td>90</td>\n",
       "      <td>49</td>\n",
       "    </tr>\n",
       "    <tr>\n",
       "      <th>Fahad</th>\n",
       "      <td>98</td>\n",
       "      <td>98</td>\n",
       "      <td>89</td>\n",
       "    </tr>\n",
       "    <tr>\n",
       "      <th>Usman</th>\n",
       "      <td>90</td>\n",
       "      <td>45</td>\n",
       "      <td>71</td>\n",
       "    </tr>\n",
       "    <tr>\n",
       "      <th>Talha</th>\n",
       "      <td>71</td>\n",
       "      <td>98</td>\n",
       "      <td>70</td>\n",
       "    </tr>\n",
       "    <tr>\n",
       "      <th>Fazal</th>\n",
       "      <td>67</td>\n",
       "      <td>67</td>\n",
       "      <td>45</td>\n",
       "    </tr>\n",
       "  </tbody>\n",
       "</table>\n",
       "</div>"
      ],
      "text/plain": [
       "       Ai for EO  Python1  Python2\n",
       "Ali           30       67       78\n",
       "Ahmed         89       87       89\n",
       "Nasir         87       56       76\n",
       "Asad          81       40       78\n",
       "Khan          76       81       56\n",
       "Saad          78       90       49\n",
       "Fahad         98       98       89\n",
       "Usman         90       45       71\n",
       "Talha         71       98       70\n",
       "Fazal         67       67       45"
      ]
     },
     "execution_count": 92,
     "metadata": {},
     "output_type": "execute_result"
    }
   ],
   "source": [
    "data = pd.DataFrame(scores, index = [\"Ali\", \"Ahmed\", \"Nasir\", \"Asad\", \"Khan\",\"Saad\",\n",
    "                                    \"Fahad\",\"Usman\",\"Talha\",\"Fazal\"])\n",
    "data"
   ]
  },
  {
   "cell_type": "code",
   "execution_count": 93,
   "metadata": {},
   "outputs": [
    {
     "name": "stdout",
     "output_type": "stream",
     "text": [
      "Ali      67\n",
      "Ahmed    87\n",
      "Nasir    56\n",
      "Asad     40\n",
      "Khan     81\n",
      "Saad     90\n",
      "Fahad    98\n",
      "Usman    45\n",
      "Talha    98\n",
      "Fazal    67\n",
      "Name: Python1, dtype: int64\n"
     ]
    }
   ],
   "source": [
    "'''I want to get only one column'''\n",
    "print(data.Python1)"
   ]
  },
  {
   "cell_type": "code",
   "execution_count": 94,
   "metadata": {},
   "outputs": [
    {
     "name": "stdout",
     "output_type": "stream",
     "text": [
      "Ali      67\n",
      "Ahmed    87\n",
      "Nasir    56\n",
      "Asad     40\n",
      "Khan     81\n",
      "Saad     90\n",
      "Fahad    98\n",
      "Usman    45\n",
      "Talha    98\n",
      "Fazal    67\n",
      "Name: Python1, dtype: int64\n"
     ]
    }
   ],
   "source": [
    "print(data['Python1'])"
   ]
  },
  {
   "cell_type": "code",
   "execution_count": 95,
   "metadata": {},
   "outputs": [
    {
     "name": "stdout",
     "output_type": "stream",
     "text": [
      "Ali      30\n",
      "Ahmed    89\n",
      "Nasir    87\n",
      "Asad     81\n",
      "Khan     76\n",
      "Saad     78\n",
      "Fahad    98\n",
      "Usman    90\n",
      "Talha    71\n",
      "Fazal    67\n",
      "Name: Ai for EO, dtype: int64\n"
     ]
    }
   ],
   "source": [
    "#print(data.AI for EO)       # there is a problem so if we have this type of column then we would add quotationn\n",
    "print(data[\"Ai for EO\"])"
   ]
  },
  {
   "cell_type": "code",
   "execution_count": 96,
   "metadata": {},
   "outputs": [
    {
     "data": {
      "text/plain": [
       "56"
      ]
     },
     "execution_count": 96,
     "metadata": {},
     "output_type": "execute_result"
    }
   ],
   "source": [
    "'''Now we are accessing Rows'''\n",
    "data[\"Python1\"][\"Nasir\"]"
   ]
  },
  {
   "cell_type": "code",
   "execution_count": 97,
   "metadata": {},
   "outputs": [
    {
     "data": {
      "text/plain": [
       "Ai for EO    87\n",
       "Python1      56\n",
       "Python2      76\n",
       "Name: Nasir, dtype: int64"
      ]
     },
     "execution_count": 97,
     "metadata": {},
     "output_type": "execute_result"
    }
   ],
   "source": [
    "#data[\"Python1\",\"Python2\",\"Ai for EO\"][\"Nasir\"]     #Error\n",
    "#data[[\"Python1\",\"Python2\",\"Ai for EO\"][\"Nasir\"]    #Error\n",
    "#data.loc[\"Nasir\"][\"Python1\",\"Python2\",\"Ai for EO\"]  #Error\n",
    "data.loc[\"Nasir\"]"
   ]
  },
  {
   "cell_type": "code",
   "execution_count": 98,
   "metadata": {},
   "outputs": [
    {
     "name": "stdout",
     "output_type": "stream",
     "text": [
      "Ai for EO    87\n",
      "Python1      56\n",
      "Python2      76\n",
      "Name: Nasir, dtype: int64\n",
      "Ai for EO    87\n",
      "Python1      56\n",
      "Python2      76\n",
      "Name: Nasir, dtype: int64\n",
      "Ai for EO    87\n",
      "Python1      56\n",
      "Python2      76\n",
      "Name: Nasir, dtype: int64\n",
      "Ai for EO    87\n",
      "Python2      76\n",
      "Name: Nasir, dtype: int64\n"
     ]
    }
   ],
   "source": [
    "print(data.loc[\"Nasir\"][\"Ai for EO\":\"Python2\"])   #Last value is inclusive\n",
    "print(data.iloc[2][0:3])                          #iloc for integer location\n",
    "print(data.iloc[2][\"Ai for EO\":\"Python2\"])        #loc for location\n",
    "print(data.iloc[2][[\"Ai for EO\",\"Python2\"]])      #There is a diffrence btw : and , . Here we are using fancy indexing"
   ]
  },
  {
   "cell_type": "code",
   "execution_count": 99,
   "metadata": {},
   "outputs": [
    {
     "data": {
      "text/html": [
       "<div>\n",
       "<style scoped>\n",
       "    .dataframe tbody tr th:only-of-type {\n",
       "        vertical-align: middle;\n",
       "    }\n",
       "\n",
       "    .dataframe tbody tr th {\n",
       "        vertical-align: top;\n",
       "    }\n",
       "\n",
       "    .dataframe thead th {\n",
       "        text-align: right;\n",
       "    }\n",
       "</style>\n",
       "<table border=\"1\" class=\"dataframe\">\n",
       "  <thead>\n",
       "    <tr style=\"text-align: right;\">\n",
       "      <th></th>\n",
       "      <th>Ai for EO</th>\n",
       "      <th>Python1</th>\n",
       "      <th>Python2</th>\n",
       "    </tr>\n",
       "  </thead>\n",
       "  <tbody>\n",
       "    <tr>\n",
       "      <th>Ali</th>\n",
       "      <td>30</td>\n",
       "      <td>67</td>\n",
       "      <td>78</td>\n",
       "    </tr>\n",
       "    <tr>\n",
       "      <th>Ahmed</th>\n",
       "      <td>89</td>\n",
       "      <td>87</td>\n",
       "      <td>89</td>\n",
       "    </tr>\n",
       "    <tr>\n",
       "      <th>Nasir</th>\n",
       "      <td>87</td>\n",
       "      <td>56</td>\n",
       "      <td>76</td>\n",
       "    </tr>\n",
       "    <tr>\n",
       "      <th>Asad</th>\n",
       "      <td>81</td>\n",
       "      <td>40</td>\n",
       "      <td>78</td>\n",
       "    </tr>\n",
       "    <tr>\n",
       "      <th>Khan</th>\n",
       "      <td>76</td>\n",
       "      <td>81</td>\n",
       "      <td>56</td>\n",
       "    </tr>\n",
       "    <tr>\n",
       "      <th>Saad</th>\n",
       "      <td>78</td>\n",
       "      <td>90</td>\n",
       "      <td>49</td>\n",
       "    </tr>\n",
       "    <tr>\n",
       "      <th>Fahad</th>\n",
       "      <td>98</td>\n",
       "      <td>98</td>\n",
       "      <td>89</td>\n",
       "    </tr>\n",
       "    <tr>\n",
       "      <th>Usman</th>\n",
       "      <td>90</td>\n",
       "      <td>45</td>\n",
       "      <td>71</td>\n",
       "    </tr>\n",
       "  </tbody>\n",
       "</table>\n",
       "</div>"
      ],
      "text/plain": [
       "       Ai for EO  Python1  Python2\n",
       "Ali           30       67       78\n",
       "Ahmed         89       87       89\n",
       "Nasir         87       56       76\n",
       "Asad          81       40       78\n",
       "Khan          76       81       56\n",
       "Saad          78       90       49\n",
       "Fahad         98       98       89\n",
       "Usman         90       45       71"
      ]
     },
     "execution_count": 99,
     "metadata": {},
     "output_type": "execute_result"
    }
   ],
   "source": [
    "#data.loc[\"Ali\":\"Usman\"][\"Ai for EO\":\"Python2\"]    #Error\n",
    "data.loc[\"Ali\":\"Usman\"]"
   ]
  },
  {
   "cell_type": "code",
   "execution_count": 100,
   "metadata": {},
   "outputs": [
    {
     "data": {
      "text/plain": [
       "Ali      30\n",
       "Ahmed    89\n",
       "Nasir    87\n",
       "Asad     81\n",
       "Khan     76\n",
       "Saad     78\n",
       "Fahad    98\n",
       "Usman    90\n",
       "Name: Ai for EO, dtype: int64"
      ]
     },
     "execution_count": 100,
     "metadata": {},
     "output_type": "execute_result"
    }
   ],
   "source": [
    "data.loc[\"Ali\":\"Usman\"][\"Ai for EO\"]"
   ]
  },
  {
   "cell_type": "code",
   "execution_count": 101,
   "metadata": {},
   "outputs": [
    {
     "data": {
      "text/html": [
       "<div>\n",
       "<style scoped>\n",
       "    .dataframe tbody tr th:only-of-type {\n",
       "        vertical-align: middle;\n",
       "    }\n",
       "\n",
       "    .dataframe tbody tr th {\n",
       "        vertical-align: top;\n",
       "    }\n",
       "\n",
       "    .dataframe thead th {\n",
       "        text-align: right;\n",
       "    }\n",
       "</style>\n",
       "<table border=\"1\" class=\"dataframe\">\n",
       "  <thead>\n",
       "    <tr style=\"text-align: right;\">\n",
       "      <th></th>\n",
       "      <th>Ai for EO</th>\n",
       "      <th>Python1</th>\n",
       "    </tr>\n",
       "  </thead>\n",
       "  <tbody>\n",
       "    <tr>\n",
       "      <th>Ali</th>\n",
       "      <td>30</td>\n",
       "      <td>67</td>\n",
       "    </tr>\n",
       "    <tr>\n",
       "      <th>Ahmed</th>\n",
       "      <td>89</td>\n",
       "      <td>87</td>\n",
       "    </tr>\n",
       "    <tr>\n",
       "      <th>Nasir</th>\n",
       "      <td>87</td>\n",
       "      <td>56</td>\n",
       "    </tr>\n",
       "    <tr>\n",
       "      <th>Asad</th>\n",
       "      <td>81</td>\n",
       "      <td>40</td>\n",
       "    </tr>\n",
       "    <tr>\n",
       "      <th>Khan</th>\n",
       "      <td>76</td>\n",
       "      <td>81</td>\n",
       "    </tr>\n",
       "    <tr>\n",
       "      <th>Saad</th>\n",
       "      <td>78</td>\n",
       "      <td>90</td>\n",
       "    </tr>\n",
       "    <tr>\n",
       "      <th>Fahad</th>\n",
       "      <td>98</td>\n",
       "      <td>98</td>\n",
       "    </tr>\n",
       "    <tr>\n",
       "      <th>Usman</th>\n",
       "      <td>90</td>\n",
       "      <td>45</td>\n",
       "    </tr>\n",
       "  </tbody>\n",
       "</table>\n",
       "</div>"
      ],
      "text/plain": [
       "       Ai for EO  Python1\n",
       "Ali           30       67\n",
       "Ahmed         89       87\n",
       "Nasir         87       56\n",
       "Asad          81       40\n",
       "Khan          76       81\n",
       "Saad          78       90\n",
       "Fahad         98       98\n",
       "Usman         90       45"
      ]
     },
     "execution_count": 101,
     "metadata": {},
     "output_type": "execute_result"
    }
   ],
   "source": [
    "data.loc[\"Ali\":\"Usman\"][[\"Ai for EO\",\"Python1\"]]"
   ]
  },
  {
   "cell_type": "code",
   "execution_count": 102,
   "metadata": {},
   "outputs": [
    {
     "data": {
      "text/html": [
       "<div>\n",
       "<style scoped>\n",
       "    .dataframe tbody tr th:only-of-type {\n",
       "        vertical-align: middle;\n",
       "    }\n",
       "\n",
       "    .dataframe tbody tr th {\n",
       "        vertical-align: top;\n",
       "    }\n",
       "\n",
       "    .dataframe thead th {\n",
       "        text-align: right;\n",
       "    }\n",
       "</style>\n",
       "<table border=\"1\" class=\"dataframe\">\n",
       "  <thead>\n",
       "    <tr style=\"text-align: right;\">\n",
       "      <th></th>\n",
       "      <th>Ai for EO</th>\n",
       "      <th>Python1</th>\n",
       "    </tr>\n",
       "  </thead>\n",
       "  <tbody>\n",
       "    <tr>\n",
       "      <th>Ali</th>\n",
       "      <td>30</td>\n",
       "      <td>67</td>\n",
       "    </tr>\n",
       "    <tr>\n",
       "      <th>Ahmed</th>\n",
       "      <td>89</td>\n",
       "      <td>87</td>\n",
       "    </tr>\n",
       "    <tr>\n",
       "      <th>Nasir</th>\n",
       "      <td>87</td>\n",
       "      <td>56</td>\n",
       "    </tr>\n",
       "    <tr>\n",
       "      <th>Asad</th>\n",
       "      <td>81</td>\n",
       "      <td>40</td>\n",
       "    </tr>\n",
       "    <tr>\n",
       "      <th>Khan</th>\n",
       "      <td>76</td>\n",
       "      <td>81</td>\n",
       "    </tr>\n",
       "    <tr>\n",
       "      <th>Saad</th>\n",
       "      <td>78</td>\n",
       "      <td>90</td>\n",
       "    </tr>\n",
       "  </tbody>\n",
       "</table>\n",
       "</div>"
      ],
      "text/plain": [
       "       Ai for EO  Python1\n",
       "Ali           30       67\n",
       "Ahmed         89       87\n",
       "Nasir         87       56\n",
       "Asad          81       40\n",
       "Khan          76       81\n",
       "Saad          78       90"
      ]
     },
     "execution_count": 102,
     "metadata": {},
     "output_type": "execute_result"
    }
   ],
   "source": [
    "data.iloc[0:6][[\"Ai for EO\",\"Python1\"]]    #Other end is exclusive"
   ]
  },
  {
   "cell_type": "code",
   "execution_count": 103,
   "metadata": {},
   "outputs": [
    {
     "name": "stdout",
     "output_type": "stream",
     "text": [
      "       Ai for EO  Python1  Python2\n",
      "Ali           30       67       78\n",
      "Ahmed         89       87       89\n",
      "Nasir         87       56       76\n",
      "Asad          81       40       78\n",
      "Khan          76       81       56\n",
      "Saad          78       90       49\n",
      "Fahad         98       98       89\n",
      "Usman         90       45       71\n",
      "Talha         71       98       70\n",
      "Fazal         67       67       45\n"
     ]
    }
   ],
   "source": [
    "'''Data Deletion'''\n",
    "print(data)"
   ]
  },
  {
   "cell_type": "code",
   "execution_count": 104,
   "metadata": {},
   "outputs": [
    {
     "name": "stdout",
     "output_type": "stream",
     "text": [
      "       Ai for EO  Python1  Python2  Extra\n",
      "Ali           30       67       78     45\n",
      "Ahmed         89       87       89     45\n",
      "Nasir         87       56       76     45\n",
      "Asad          81       40       78     45\n",
      "Khan          76       81       56     45\n",
      "Saad          78       90       49     45\n",
      "Fahad         98       98       89     45\n",
      "Usman         90       45       71     45\n",
      "Talha         71       98       70     45\n",
      "Fazal         67       67       45     45\n"
     ]
    }
   ],
   "source": [
    "'''Adding of new column in data'''\n",
    "data['Extra'] = 45\n",
    "print(data)"
   ]
  },
  {
   "cell_type": "code",
   "execution_count": 105,
   "metadata": {},
   "outputs": [
    {
     "name": "stdout",
     "output_type": "stream",
     "text": [
      "       Ai for EO  Python1  Python2  Extra\n",
      "Ali           30       67       78      0\n",
      "Ahmed         89       87       89      1\n",
      "Nasir         87       56       76      2\n",
      "Asad          81       40       78      3\n",
      "Khan          76       81       56      4\n",
      "Saad          78       90       49      5\n",
      "Fahad         98       98       89      6\n",
      "Usman         90       45       71      7\n",
      "Talha         71       98       70      8\n",
      "Fazal         67       67       45      9\n"
     ]
    }
   ],
   "source": [
    "data['Extra'] = range(10)\n",
    "print(data)"
   ]
  },
  {
   "cell_type": "code",
   "execution_count": 106,
   "metadata": {},
   "outputs": [
    {
     "name": "stdout",
     "output_type": "stream",
     "text": [
      "       Ai for EO  Python1  Python2  Extra  extra\n",
      "Ali           30       67       78      0     23\n",
      "Ahmed         89       87       89      1     34\n",
      "Nasir         87       56       76      2     54\n",
      "Asad          81       40       78      3     65\n",
      "Khan          76       81       56      4     76\n",
      "Saad          78       90       49      5     87\n",
      "Fahad         98       98       89      6     56\n",
      "Usman         90       45       71      7      5\n",
      "Talha         71       98       70      8      4\n",
      "Fazal         67       67       45      9     34\n"
     ]
    }
   ],
   "source": [
    "data['extra'] = [23,34,54,65,76,87,56,5,4,34]\n",
    "print(data)"
   ]
  },
  {
   "cell_type": "code",
   "execution_count": 107,
   "metadata": {},
   "outputs": [],
   "source": [
    "'''Making od percentage'''\n",
    "data[\"Total\"] = (data[\"Ai for EO\"]+ data[\"Python1\"]+data[\"Python2\"])/300 * 100"
   ]
  },
  {
   "cell_type": "code",
   "execution_count": 108,
   "metadata": {},
   "outputs": [
    {
     "data": {
      "text/html": [
       "<div>\n",
       "<style scoped>\n",
       "    .dataframe tbody tr th:only-of-type {\n",
       "        vertical-align: middle;\n",
       "    }\n",
       "\n",
       "    .dataframe tbody tr th {\n",
       "        vertical-align: top;\n",
       "    }\n",
       "\n",
       "    .dataframe thead th {\n",
       "        text-align: right;\n",
       "    }\n",
       "</style>\n",
       "<table border=\"1\" class=\"dataframe\">\n",
       "  <thead>\n",
       "    <tr style=\"text-align: right;\">\n",
       "      <th></th>\n",
       "      <th>Ai for EO</th>\n",
       "      <th>Python1</th>\n",
       "      <th>Python2</th>\n",
       "      <th>Extra</th>\n",
       "      <th>extra</th>\n",
       "      <th>Total</th>\n",
       "    </tr>\n",
       "  </thead>\n",
       "  <tbody>\n",
       "    <tr>\n",
       "      <th>Ali</th>\n",
       "      <td>30</td>\n",
       "      <td>67</td>\n",
       "      <td>78</td>\n",
       "      <td>0</td>\n",
       "      <td>23</td>\n",
       "      <td>58.333333</td>\n",
       "    </tr>\n",
       "    <tr>\n",
       "      <th>Ahmed</th>\n",
       "      <td>89</td>\n",
       "      <td>87</td>\n",
       "      <td>89</td>\n",
       "      <td>1</td>\n",
       "      <td>34</td>\n",
       "      <td>88.333333</td>\n",
       "    </tr>\n",
       "    <tr>\n",
       "      <th>Nasir</th>\n",
       "      <td>87</td>\n",
       "      <td>56</td>\n",
       "      <td>76</td>\n",
       "      <td>2</td>\n",
       "      <td>54</td>\n",
       "      <td>73.000000</td>\n",
       "    </tr>\n",
       "    <tr>\n",
       "      <th>Asad</th>\n",
       "      <td>81</td>\n",
       "      <td>40</td>\n",
       "      <td>78</td>\n",
       "      <td>3</td>\n",
       "      <td>65</td>\n",
       "      <td>66.333333</td>\n",
       "    </tr>\n",
       "    <tr>\n",
       "      <th>Khan</th>\n",
       "      <td>76</td>\n",
       "      <td>81</td>\n",
       "      <td>56</td>\n",
       "      <td>4</td>\n",
       "      <td>76</td>\n",
       "      <td>71.000000</td>\n",
       "    </tr>\n",
       "    <tr>\n",
       "      <th>Saad</th>\n",
       "      <td>78</td>\n",
       "      <td>90</td>\n",
       "      <td>49</td>\n",
       "      <td>5</td>\n",
       "      <td>87</td>\n",
       "      <td>72.333333</td>\n",
       "    </tr>\n",
       "    <tr>\n",
       "      <th>Fahad</th>\n",
       "      <td>98</td>\n",
       "      <td>98</td>\n",
       "      <td>89</td>\n",
       "      <td>6</td>\n",
       "      <td>56</td>\n",
       "      <td>95.000000</td>\n",
       "    </tr>\n",
       "    <tr>\n",
       "      <th>Usman</th>\n",
       "      <td>90</td>\n",
       "      <td>45</td>\n",
       "      <td>71</td>\n",
       "      <td>7</td>\n",
       "      <td>5</td>\n",
       "      <td>68.666667</td>\n",
       "    </tr>\n",
       "    <tr>\n",
       "      <th>Talha</th>\n",
       "      <td>71</td>\n",
       "      <td>98</td>\n",
       "      <td>70</td>\n",
       "      <td>8</td>\n",
       "      <td>4</td>\n",
       "      <td>79.666667</td>\n",
       "    </tr>\n",
       "    <tr>\n",
       "      <th>Fazal</th>\n",
       "      <td>67</td>\n",
       "      <td>67</td>\n",
       "      <td>45</td>\n",
       "      <td>9</td>\n",
       "      <td>34</td>\n",
       "      <td>59.666667</td>\n",
       "    </tr>\n",
       "  </tbody>\n",
       "</table>\n",
       "</div>"
      ],
      "text/plain": [
       "       Ai for EO  Python1  Python2  Extra  extra      Total\n",
       "Ali           30       67       78      0     23  58.333333\n",
       "Ahmed         89       87       89      1     34  88.333333\n",
       "Nasir         87       56       76      2     54  73.000000\n",
       "Asad          81       40       78      3     65  66.333333\n",
       "Khan          76       81       56      4     76  71.000000\n",
       "Saad          78       90       49      5     87  72.333333\n",
       "Fahad         98       98       89      6     56  95.000000\n",
       "Usman         90       45       71      7      5  68.666667\n",
       "Talha         71       98       70      8      4  79.666667\n",
       "Fazal         67       67       45      9     34  59.666667"
      ]
     },
     "execution_count": 108,
     "metadata": {},
     "output_type": "execute_result"
    }
   ],
   "source": [
    "data"
   ]
  },
  {
   "cell_type": "code",
   "execution_count": 109,
   "metadata": {},
   "outputs": [],
   "source": [
    "del data['extra']"
   ]
  },
  {
   "cell_type": "code",
   "execution_count": 110,
   "metadata": {},
   "outputs": [
    {
     "data": {
      "text/plain": [
       "Index(['Ai for EO', 'Python1', 'Python2', 'Extra', 'Total'], dtype='object')"
      ]
     },
     "execution_count": 110,
     "metadata": {},
     "output_type": "execute_result"
    }
   ],
   "source": [
    "data.columns"
   ]
  },
  {
   "cell_type": "code",
   "execution_count": 111,
   "metadata": {},
   "outputs": [
    {
     "data": {
      "text/plain": [
       "<bound method NDFrame.keys of        Ai for EO  Python1  Python2  Extra      Total\n",
       "Ali           30       67       78      0  58.333333\n",
       "Ahmed         89       87       89      1  88.333333\n",
       "Nasir         87       56       76      2  73.000000\n",
       "Asad          81       40       78      3  66.333333\n",
       "Khan          76       81       56      4  71.000000\n",
       "Saad          78       90       49      5  72.333333\n",
       "Fahad         98       98       89      6  95.000000\n",
       "Usman         90       45       71      7  68.666667\n",
       "Talha         71       98       70      8  79.666667\n",
       "Fazal         67       67       45      9  59.666667>"
      ]
     },
     "execution_count": 111,
     "metadata": {},
     "output_type": "execute_result"
    }
   ],
   "source": [
    "data.keys"
   ]
  },
  {
   "cell_type": "code",
   "execution_count": 112,
   "metadata": {},
   "outputs": [
    {
     "data": {
      "text/plain": [
       "Index(['Ali', 'Ahmed', 'Nasir', 'Asad', 'Khan', 'Saad', 'Fahad', 'Usman',\n",
       "       'Talha', 'Fazal'],\n",
       "      dtype='object')"
      ]
     },
     "execution_count": 112,
     "metadata": {},
     "output_type": "execute_result"
    }
   ],
   "source": [
    "data.index"
   ]
  },
  {
   "cell_type": "code",
   "execution_count": 113,
   "metadata": {},
   "outputs": [
    {
     "data": {
      "text/html": [
       "<div>\n",
       "<style scoped>\n",
       "    .dataframe tbody tr th:only-of-type {\n",
       "        vertical-align: middle;\n",
       "    }\n",
       "\n",
       "    .dataframe tbody tr th {\n",
       "        vertical-align: top;\n",
       "    }\n",
       "\n",
       "    .dataframe thead th {\n",
       "        text-align: right;\n",
       "    }\n",
       "</style>\n",
       "<table border=\"1\" class=\"dataframe\">\n",
       "  <thead>\n",
       "    <tr style=\"text-align: right;\">\n",
       "      <th></th>\n",
       "      <th>Ai for EO</th>\n",
       "      <th>Python1</th>\n",
       "      <th>Python2</th>\n",
       "      <th>Extra</th>\n",
       "      <th>Total</th>\n",
       "    </tr>\n",
       "  </thead>\n",
       "  <tbody>\n",
       "    <tr>\n",
       "      <th>count</th>\n",
       "      <td>10.000000</td>\n",
       "      <td>10.000000</td>\n",
       "      <td>10.000000</td>\n",
       "      <td>10.00000</td>\n",
       "      <td>10.000000</td>\n",
       "    </tr>\n",
       "    <tr>\n",
       "      <th>mean</th>\n",
       "      <td>76.700000</td>\n",
       "      <td>72.900000</td>\n",
       "      <td>70.100000</td>\n",
       "      <td>4.50000</td>\n",
       "      <td>73.233333</td>\n",
       "    </tr>\n",
       "    <tr>\n",
       "      <th>std</th>\n",
       "      <td>18.903556</td>\n",
       "      <td>21.168373</td>\n",
       "      <td>15.452076</td>\n",
       "      <td>3.02765</td>\n",
       "      <td>11.659839</td>\n",
       "    </tr>\n",
       "    <tr>\n",
       "      <th>min</th>\n",
       "      <td>30.000000</td>\n",
       "      <td>40.000000</td>\n",
       "      <td>45.000000</td>\n",
       "      <td>0.00000</td>\n",
       "      <td>58.333333</td>\n",
       "    </tr>\n",
       "    <tr>\n",
       "      <th>25%</th>\n",
       "      <td>72.250000</td>\n",
       "      <td>58.750000</td>\n",
       "      <td>59.500000</td>\n",
       "      <td>2.25000</td>\n",
       "      <td>66.916667</td>\n",
       "    </tr>\n",
       "    <tr>\n",
       "      <th>50%</th>\n",
       "      <td>79.500000</td>\n",
       "      <td>74.000000</td>\n",
       "      <td>73.500000</td>\n",
       "      <td>4.50000</td>\n",
       "      <td>71.666667</td>\n",
       "    </tr>\n",
       "    <tr>\n",
       "      <th>75%</th>\n",
       "      <td>88.500000</td>\n",
       "      <td>89.250000</td>\n",
       "      <td>78.000000</td>\n",
       "      <td>6.75000</td>\n",
       "      <td>78.000000</td>\n",
       "    </tr>\n",
       "    <tr>\n",
       "      <th>max</th>\n",
       "      <td>98.000000</td>\n",
       "      <td>98.000000</td>\n",
       "      <td>89.000000</td>\n",
       "      <td>9.00000</td>\n",
       "      <td>95.000000</td>\n",
       "    </tr>\n",
       "  </tbody>\n",
       "</table>\n",
       "</div>"
      ],
      "text/plain": [
       "       Ai for EO    Python1    Python2     Extra      Total\n",
       "count  10.000000  10.000000  10.000000  10.00000  10.000000\n",
       "mean   76.700000  72.900000  70.100000   4.50000  73.233333\n",
       "std    18.903556  21.168373  15.452076   3.02765  11.659839\n",
       "min    30.000000  40.000000  45.000000   0.00000  58.333333\n",
       "25%    72.250000  58.750000  59.500000   2.25000  66.916667\n",
       "50%    79.500000  74.000000  73.500000   4.50000  71.666667\n",
       "75%    88.500000  89.250000  78.000000   6.75000  78.000000\n",
       "max    98.000000  98.000000  89.000000   9.00000  95.000000"
      ]
     },
     "execution_count": 113,
     "metadata": {},
     "output_type": "execute_result"
    }
   ],
   "source": [
    "data.describe()"
   ]
  },
  {
   "cell_type": "code",
   "execution_count": 114,
   "metadata": {},
   "outputs": [
    {
     "data": {
      "text/html": [
       "<div>\n",
       "<style scoped>\n",
       "    .dataframe tbody tr th:only-of-type {\n",
       "        vertical-align: middle;\n",
       "    }\n",
       "\n",
       "    .dataframe tbody tr th {\n",
       "        vertical-align: top;\n",
       "    }\n",
       "\n",
       "    .dataframe thead th {\n",
       "        text-align: right;\n",
       "    }\n",
       "</style>\n",
       "<table border=\"1\" class=\"dataframe\">\n",
       "  <thead>\n",
       "    <tr style=\"text-align: right;\">\n",
       "      <th></th>\n",
       "      <th>Ai for EO</th>\n",
       "      <th>Python1</th>\n",
       "      <th>Python2</th>\n",
       "      <th>Extra</th>\n",
       "      <th>Total</th>\n",
       "    </tr>\n",
       "  </thead>\n",
       "  <tbody>\n",
       "    <tr>\n",
       "      <th>Ali</th>\n",
       "      <td>30</td>\n",
       "      <td>67</td>\n",
       "      <td>78</td>\n",
       "      <td>0</td>\n",
       "      <td>58.333333</td>\n",
       "    </tr>\n",
       "    <tr>\n",
       "      <th>Ahmed</th>\n",
       "      <td>89</td>\n",
       "      <td>87</td>\n",
       "      <td>89</td>\n",
       "      <td>1</td>\n",
       "      <td>88.333333</td>\n",
       "    </tr>\n",
       "    <tr>\n",
       "      <th>Nasir</th>\n",
       "      <td>87</td>\n",
       "      <td>56</td>\n",
       "      <td>76</td>\n",
       "      <td>2</td>\n",
       "      <td>73.000000</td>\n",
       "    </tr>\n",
       "    <tr>\n",
       "      <th>Asad</th>\n",
       "      <td>81</td>\n",
       "      <td>40</td>\n",
       "      <td>78</td>\n",
       "      <td>3</td>\n",
       "      <td>66.333333</td>\n",
       "    </tr>\n",
       "    <tr>\n",
       "      <th>Khan</th>\n",
       "      <td>76</td>\n",
       "      <td>81</td>\n",
       "      <td>56</td>\n",
       "      <td>4</td>\n",
       "      <td>71.000000</td>\n",
       "    </tr>\n",
       "  </tbody>\n",
       "</table>\n",
       "</div>"
      ],
      "text/plain": [
       "       Ai for EO  Python1  Python2  Extra      Total\n",
       "Ali           30       67       78      0  58.333333\n",
       "Ahmed         89       87       89      1  88.333333\n",
       "Nasir         87       56       76      2  73.000000\n",
       "Asad          81       40       78      3  66.333333\n",
       "Khan          76       81       56      4  71.000000"
      ]
     },
     "execution_count": 114,
     "metadata": {},
     "output_type": "execute_result"
    }
   ],
   "source": [
    "data.head()    #It will show bydefault 5 values"
   ]
  },
  {
   "cell_type": "code",
   "execution_count": 115,
   "metadata": {},
   "outputs": [
    {
     "data": {
      "text/html": [
       "<div>\n",
       "<style scoped>\n",
       "    .dataframe tbody tr th:only-of-type {\n",
       "        vertical-align: middle;\n",
       "    }\n",
       "\n",
       "    .dataframe tbody tr th {\n",
       "        vertical-align: top;\n",
       "    }\n",
       "\n",
       "    .dataframe thead th {\n",
       "        text-align: right;\n",
       "    }\n",
       "</style>\n",
       "<table border=\"1\" class=\"dataframe\">\n",
       "  <thead>\n",
       "    <tr style=\"text-align: right;\">\n",
       "      <th></th>\n",
       "      <th>Ai for EO</th>\n",
       "      <th>Python1</th>\n",
       "      <th>Python2</th>\n",
       "      <th>Extra</th>\n",
       "      <th>Total</th>\n",
       "      <th>result</th>\n",
       "      <th>status</th>\n",
       "    </tr>\n",
       "  </thead>\n",
       "  <tbody>\n",
       "    <tr>\n",
       "      <th>Ali</th>\n",
       "      <td>30</td>\n",
       "      <td>67</td>\n",
       "      <td>78</td>\n",
       "      <td>0</td>\n",
       "      <td>58.333333</td>\n",
       "      <td>False</td>\n",
       "      <td>fail</td>\n",
       "    </tr>\n",
       "    <tr>\n",
       "      <th>Ahmed</th>\n",
       "      <td>89</td>\n",
       "      <td>87</td>\n",
       "      <td>89</td>\n",
       "      <td>1</td>\n",
       "      <td>88.333333</td>\n",
       "      <td>True</td>\n",
       "      <td>pass</td>\n",
       "    </tr>\n",
       "    <tr>\n",
       "      <th>Nasir</th>\n",
       "      <td>87</td>\n",
       "      <td>56</td>\n",
       "      <td>76</td>\n",
       "      <td>2</td>\n",
       "      <td>73.000000</td>\n",
       "      <td>True</td>\n",
       "      <td>pass</td>\n",
       "    </tr>\n",
       "    <tr>\n",
       "      <th>Asad</th>\n",
       "      <td>81</td>\n",
       "      <td>40</td>\n",
       "      <td>78</td>\n",
       "      <td>3</td>\n",
       "      <td>66.333333</td>\n",
       "      <td>True</td>\n",
       "      <td>pass</td>\n",
       "    </tr>\n",
       "    <tr>\n",
       "      <th>Khan</th>\n",
       "      <td>76</td>\n",
       "      <td>81</td>\n",
       "      <td>56</td>\n",
       "      <td>4</td>\n",
       "      <td>71.000000</td>\n",
       "      <td>True</td>\n",
       "      <td>pass</td>\n",
       "    </tr>\n",
       "    <tr>\n",
       "      <th>Saad</th>\n",
       "      <td>78</td>\n",
       "      <td>90</td>\n",
       "      <td>49</td>\n",
       "      <td>5</td>\n",
       "      <td>72.333333</td>\n",
       "      <td>True</td>\n",
       "      <td>pass</td>\n",
       "    </tr>\n",
       "    <tr>\n",
       "      <th>Fahad</th>\n",
       "      <td>98</td>\n",
       "      <td>98</td>\n",
       "      <td>89</td>\n",
       "      <td>6</td>\n",
       "      <td>95.000000</td>\n",
       "      <td>True</td>\n",
       "      <td>pass</td>\n",
       "    </tr>\n",
       "    <tr>\n",
       "      <th>Usman</th>\n",
       "      <td>90</td>\n",
       "      <td>45</td>\n",
       "      <td>71</td>\n",
       "      <td>7</td>\n",
       "      <td>68.666667</td>\n",
       "      <td>True</td>\n",
       "      <td>pass</td>\n",
       "    </tr>\n",
       "    <tr>\n",
       "      <th>Talha</th>\n",
       "      <td>71</td>\n",
       "      <td>98</td>\n",
       "      <td>70</td>\n",
       "      <td>8</td>\n",
       "      <td>79.666667</td>\n",
       "      <td>True</td>\n",
       "      <td>pass</td>\n",
       "    </tr>\n",
       "    <tr>\n",
       "      <th>Fazal</th>\n",
       "      <td>67</td>\n",
       "      <td>67</td>\n",
       "      <td>45</td>\n",
       "      <td>9</td>\n",
       "      <td>59.666667</td>\n",
       "      <td>False</td>\n",
       "      <td>fail</td>\n",
       "    </tr>\n",
       "  </tbody>\n",
       "</table>\n",
       "</div>"
      ],
      "text/plain": [
       "       Ai for EO  Python1  Python2  Extra      Total  result status\n",
       "Ali           30       67       78      0  58.333333   False   fail\n",
       "Ahmed         89       87       89      1  88.333333    True   pass\n",
       "Nasir         87       56       76      2  73.000000    True   pass\n",
       "Asad          81       40       78      3  66.333333    True   pass\n",
       "Khan          76       81       56      4  71.000000    True   pass\n",
       "Saad          78       90       49      5  72.333333    True   pass\n",
       "Fahad         98       98       89      6  95.000000    True   pass\n",
       "Usman         90       45       71      7  68.666667    True   pass\n",
       "Talha         71       98       70      8  79.666667    True   pass\n",
       "Fazal         67       67       45      9  59.666667   False   fail"
      ]
     },
     "execution_count": 115,
     "metadata": {},
     "output_type": "execute_result"
    }
   ],
   "source": [
    "import numpy as np\n",
    "data[\"result\"] = data[\"Total\"] >60\n",
    "data[\"status\"] = np.where(data[\"Total\"] > 60 ,\"pass\",\"fail\")\n",
    "data"
   ]
  },
  {
   "cell_type": "code",
   "execution_count": 116,
   "metadata": {},
   "outputs": [
    {
     "data": {
      "text/html": [
       "<div>\n",
       "<style scoped>\n",
       "    .dataframe tbody tr th:only-of-type {\n",
       "        vertical-align: middle;\n",
       "    }\n",
       "\n",
       "    .dataframe tbody tr th {\n",
       "        vertical-align: top;\n",
       "    }\n",
       "\n",
       "    .dataframe thead th {\n",
       "        text-align: right;\n",
       "    }\n",
       "</style>\n",
       "<table border=\"1\" class=\"dataframe\">\n",
       "  <thead>\n",
       "    <tr style=\"text-align: right;\">\n",
       "      <th></th>\n",
       "      <th>Ai for EO</th>\n",
       "      <th>Python1</th>\n",
       "      <th>Python2</th>\n",
       "      <th>Extra</th>\n",
       "      <th>Total</th>\n",
       "      <th>result</th>\n",
       "      <th>status</th>\n",
       "    </tr>\n",
       "  </thead>\n",
       "  <tbody>\n",
       "    <tr>\n",
       "      <th>Ali</th>\n",
       "      <td>30</td>\n",
       "      <td>67</td>\n",
       "      <td>78</td>\n",
       "      <td>0</td>\n",
       "      <td>58.333333</td>\n",
       "      <td>Fail</td>\n",
       "      <td>fail</td>\n",
       "    </tr>\n",
       "    <tr>\n",
       "      <th>Ahmed</th>\n",
       "      <td>89</td>\n",
       "      <td>87</td>\n",
       "      <td>89</td>\n",
       "      <td>1</td>\n",
       "      <td>88.333333</td>\n",
       "      <td>pass</td>\n",
       "      <td>pass</td>\n",
       "    </tr>\n",
       "    <tr>\n",
       "      <th>Nasir</th>\n",
       "      <td>87</td>\n",
       "      <td>56</td>\n",
       "      <td>76</td>\n",
       "      <td>2</td>\n",
       "      <td>73.000000</td>\n",
       "      <td>pass</td>\n",
       "      <td>pass</td>\n",
       "    </tr>\n",
       "    <tr>\n",
       "      <th>Asad</th>\n",
       "      <td>81</td>\n",
       "      <td>40</td>\n",
       "      <td>78</td>\n",
       "      <td>3</td>\n",
       "      <td>66.333333</td>\n",
       "      <td>pass</td>\n",
       "      <td>pass</td>\n",
       "    </tr>\n",
       "    <tr>\n",
       "      <th>Khan</th>\n",
       "      <td>76</td>\n",
       "      <td>81</td>\n",
       "      <td>56</td>\n",
       "      <td>4</td>\n",
       "      <td>71.000000</td>\n",
       "      <td>pass</td>\n",
       "      <td>pass</td>\n",
       "    </tr>\n",
       "    <tr>\n",
       "      <th>Saad</th>\n",
       "      <td>78</td>\n",
       "      <td>90</td>\n",
       "      <td>49</td>\n",
       "      <td>5</td>\n",
       "      <td>72.333333</td>\n",
       "      <td>pass</td>\n",
       "      <td>pass</td>\n",
       "    </tr>\n",
       "    <tr>\n",
       "      <th>Fahad</th>\n",
       "      <td>98</td>\n",
       "      <td>98</td>\n",
       "      <td>89</td>\n",
       "      <td>6</td>\n",
       "      <td>95.000000</td>\n",
       "      <td>pass</td>\n",
       "      <td>pass</td>\n",
       "    </tr>\n",
       "    <tr>\n",
       "      <th>Usman</th>\n",
       "      <td>90</td>\n",
       "      <td>45</td>\n",
       "      <td>71</td>\n",
       "      <td>7</td>\n",
       "      <td>68.666667</td>\n",
       "      <td>pass</td>\n",
       "      <td>pass</td>\n",
       "    </tr>\n",
       "    <tr>\n",
       "      <th>Talha</th>\n",
       "      <td>71</td>\n",
       "      <td>98</td>\n",
       "      <td>70</td>\n",
       "      <td>8</td>\n",
       "      <td>79.666667</td>\n",
       "      <td>pass</td>\n",
       "      <td>pass</td>\n",
       "    </tr>\n",
       "    <tr>\n",
       "      <th>Fazal</th>\n",
       "      <td>67</td>\n",
       "      <td>67</td>\n",
       "      <td>45</td>\n",
       "      <td>9</td>\n",
       "      <td>59.666667</td>\n",
       "      <td>Fail</td>\n",
       "      <td>fail</td>\n",
       "    </tr>\n",
       "  </tbody>\n",
       "</table>\n",
       "</div>"
      ],
      "text/plain": [
       "       Ai for EO  Python1  Python2  Extra      Total result status\n",
       "Ali           30       67       78      0  58.333333   Fail   fail\n",
       "Ahmed         89       87       89      1  88.333333   pass   pass\n",
       "Nasir         87       56       76      2  73.000000   pass   pass\n",
       "Asad          81       40       78      3  66.333333   pass   pass\n",
       "Khan          76       81       56      4  71.000000   pass   pass\n",
       "Saad          78       90       49      5  72.333333   pass   pass\n",
       "Fahad         98       98       89      6  95.000000   pass   pass\n",
       "Usman         90       45       71      7  68.666667   pass   pass\n",
       "Talha         71       98       70      8  79.666667   pass   pass\n",
       "Fazal         67       67       45      9  59.666667   Fail   fail"
      ]
     },
     "execution_count": 116,
     "metadata": {},
     "output_type": "execute_result"
    }
   ],
   "source": [
    "data[\"result\"] = [\"pass\" if i >60 else \"Fail\" for i in data[\"Total\"]]\n",
    "data"
   ]
  },
  {
   "cell_type": "code",
   "execution_count": 117,
   "metadata": {},
   "outputs": [
    {
     "data": {
      "text/html": [
       "<div>\n",
       "<style scoped>\n",
       "    .dataframe tbody tr th:only-of-type {\n",
       "        vertical-align: middle;\n",
       "    }\n",
       "\n",
       "    .dataframe tbody tr th {\n",
       "        vertical-align: top;\n",
       "    }\n",
       "\n",
       "    .dataframe thead th {\n",
       "        text-align: right;\n",
       "    }\n",
       "</style>\n",
       "<table border=\"1\" class=\"dataframe\">\n",
       "  <thead>\n",
       "    <tr style=\"text-align: right;\">\n",
       "      <th></th>\n",
       "      <th>Ai for EO</th>\n",
       "      <th>Python1</th>\n",
       "      <th>Python2</th>\n",
       "      <th>Extra</th>\n",
       "      <th>Total</th>\n",
       "      <th>result</th>\n",
       "      <th>status</th>\n",
       "      <th>subjectWise</th>\n",
       "    </tr>\n",
       "  </thead>\n",
       "  <tbody>\n",
       "    <tr>\n",
       "      <th>Ali</th>\n",
       "      <td>30</td>\n",
       "      <td>67</td>\n",
       "      <td>78</td>\n",
       "      <td>0</td>\n",
       "      <td>58.333333</td>\n",
       "      <td>Fail</td>\n",
       "      <td>fail</td>\n",
       "      <td>fail</td>\n",
       "    </tr>\n",
       "    <tr>\n",
       "      <th>Ahmed</th>\n",
       "      <td>89</td>\n",
       "      <td>87</td>\n",
       "      <td>89</td>\n",
       "      <td>1</td>\n",
       "      <td>88.333333</td>\n",
       "      <td>pass</td>\n",
       "      <td>pass</td>\n",
       "      <td>pass</td>\n",
       "    </tr>\n",
       "    <tr>\n",
       "      <th>Nasir</th>\n",
       "      <td>87</td>\n",
       "      <td>56</td>\n",
       "      <td>76</td>\n",
       "      <td>2</td>\n",
       "      <td>73.000000</td>\n",
       "      <td>pass</td>\n",
       "      <td>pass</td>\n",
       "      <td>pass</td>\n",
       "    </tr>\n",
       "    <tr>\n",
       "      <th>Asad</th>\n",
       "      <td>81</td>\n",
       "      <td>40</td>\n",
       "      <td>78</td>\n",
       "      <td>3</td>\n",
       "      <td>66.333333</td>\n",
       "      <td>pass</td>\n",
       "      <td>pass</td>\n",
       "      <td>pass</td>\n",
       "    </tr>\n",
       "    <tr>\n",
       "      <th>Khan</th>\n",
       "      <td>76</td>\n",
       "      <td>81</td>\n",
       "      <td>56</td>\n",
       "      <td>4</td>\n",
       "      <td>71.000000</td>\n",
       "      <td>pass</td>\n",
       "      <td>pass</td>\n",
       "      <td>pass</td>\n",
       "    </tr>\n",
       "    <tr>\n",
       "      <th>Saad</th>\n",
       "      <td>78</td>\n",
       "      <td>90</td>\n",
       "      <td>49</td>\n",
       "      <td>5</td>\n",
       "      <td>72.333333</td>\n",
       "      <td>pass</td>\n",
       "      <td>pass</td>\n",
       "      <td>pass</td>\n",
       "    </tr>\n",
       "    <tr>\n",
       "      <th>Fahad</th>\n",
       "      <td>98</td>\n",
       "      <td>98</td>\n",
       "      <td>89</td>\n",
       "      <td>6</td>\n",
       "      <td>95.000000</td>\n",
       "      <td>pass</td>\n",
       "      <td>pass</td>\n",
       "      <td>pass</td>\n",
       "    </tr>\n",
       "    <tr>\n",
       "      <th>Usman</th>\n",
       "      <td>90</td>\n",
       "      <td>45</td>\n",
       "      <td>71</td>\n",
       "      <td>7</td>\n",
       "      <td>68.666667</td>\n",
       "      <td>pass</td>\n",
       "      <td>pass</td>\n",
       "      <td>pass</td>\n",
       "    </tr>\n",
       "    <tr>\n",
       "      <th>Talha</th>\n",
       "      <td>71</td>\n",
       "      <td>98</td>\n",
       "      <td>70</td>\n",
       "      <td>8</td>\n",
       "      <td>79.666667</td>\n",
       "      <td>pass</td>\n",
       "      <td>pass</td>\n",
       "      <td>pass</td>\n",
       "    </tr>\n",
       "    <tr>\n",
       "      <th>Fazal</th>\n",
       "      <td>67</td>\n",
       "      <td>67</td>\n",
       "      <td>45</td>\n",
       "      <td>9</td>\n",
       "      <td>59.666667</td>\n",
       "      <td>Fail</td>\n",
       "      <td>fail</td>\n",
       "      <td>pass</td>\n",
       "    </tr>\n",
       "  </tbody>\n",
       "</table>\n",
       "</div>"
      ],
      "text/plain": [
       "       Ai for EO  Python1  Python2  Extra      Total result status subjectWise\n",
       "Ali           30       67       78      0  58.333333   Fail   fail        fail\n",
       "Ahmed         89       87       89      1  88.333333   pass   pass        pass\n",
       "Nasir         87       56       76      2  73.000000   pass   pass        pass\n",
       "Asad          81       40       78      3  66.333333   pass   pass        pass\n",
       "Khan          76       81       56      4  71.000000   pass   pass        pass\n",
       "Saad          78       90       49      5  72.333333   pass   pass        pass\n",
       "Fahad         98       98       89      6  95.000000   pass   pass        pass\n",
       "Usman         90       45       71      7  68.666667   pass   pass        pass\n",
       "Talha         71       98       70      8  79.666667   pass   pass        pass\n",
       "Fazal         67       67       45      9  59.666667   Fail   fail        pass"
      ]
     },
     "execution_count": 117,
     "metadata": {},
     "output_type": "execute_result"
    }
   ],
   "source": [
    "data[\"subjectWise\"] = [\"pass\" if i > 50 else \"fail\" for i in data[\"Ai for EO\" or \"Python1\" or \"Python2\"]]\n",
    "data"
   ]
  }
 ],
 "metadata": {
  "kernelspec": {
   "display_name": "Python 3",
   "language": "python",
   "name": "python3"
  },
  "language_info": {
   "codemirror_mode": {
    "name": "ipython",
    "version": 3
   },
   "file_extension": ".py",
   "mimetype": "text/x-python",
   "name": "python",
   "nbconvert_exporter": "python",
   "pygments_lexer": "ipython3",
   "version": "3.7.3"
  }
 },
 "nbformat": 4,
 "nbformat_minor": 2
}
