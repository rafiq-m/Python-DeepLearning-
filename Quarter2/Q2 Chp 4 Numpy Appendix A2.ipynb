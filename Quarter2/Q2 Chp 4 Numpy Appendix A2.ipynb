{
 "cells": [
  {
   "cell_type": "code",
   "execution_count": 2,
   "metadata": {},
   "outputs": [],
   "source": [
    "#Numpy is compiled library and it consist of wrapper code"
   ]
  },
  {
   "cell_type": "code",
   "execution_count": 3,
   "metadata": {},
   "outputs": [],
   "source": [
    "import numpy as np"
   ]
  },
  {
   "cell_type": "code",
   "execution_count": 4,
   "metadata": {},
   "outputs": [
    {
     "name": "stdout",
     "output_type": "stream",
     "text": [
      "[20, 4, 8, 12, 18]\n"
     ]
    }
   ],
   "source": [
    "\n",
    "'''1 Dimensional Array '''\n",
    "arr = [10,2,4,6,9]\n",
    "idx=0\n",
    "for num in arr:\n",
    "    arr[idx] = num*2\n",
    "    idx +=1\n",
    "print(arr)"
   ]
  },
  {
   "cell_type": "code",
   "execution_count": 5,
   "metadata": {},
   "outputs": [
    {
     "name": "stdout",
     "output_type": "stream",
     "text": [
      "[40  8 16 24 36]\n"
     ]
    }
   ],
   "source": [
    "'''Multiplication with 2 easy steps with numpy'''\n",
    "arr2 = np.array(arr)\n",
    "print(arr2*2)"
   ]
  },
  {
   "cell_type": "code",
   "execution_count": 6,
   "metadata": {},
   "outputs": [
    {
     "name": "stdout",
     "output_type": "stream",
     "text": [
      "[[[0.76885712 0.60908443 0.65393738 0.18166847]\n",
      "  [0.29942169 0.63966668 0.29261826 0.4839944 ]]\n",
      "\n",
      " [[0.03815566 0.0359761  0.63722681 0.72791774]\n",
      "  [0.58016727 0.50787966 0.08534072 0.42708299]]\n",
      "\n",
      " [[0.37057411 0.76377922 0.82809995 0.21659345]\n",
      "  [0.01048624 0.10721268 0.6506691  0.36703279]]\n",
      "\n",
      " [[0.23045707 0.27029393 0.30348392 0.87143374]\n",
      "  [0.04725088 0.67082951 0.63558708 0.12441512]]\n",
      "\n",
      " [[0.36844372 0.25369912 0.33464062 0.67034928]\n",
      "  [0.83907843 0.26452229 0.95946803 0.28347477]]]\n",
      "(5, 2, 4)\n",
      "float64\n",
      "3\n"
     ]
    }
   ],
   "source": [
    "data = np.random.rand(5,2,4)\n",
    "print(data)\n",
    "print(data.shape)\n",
    "print(data.dtype)\n",
    "print(data.ndim)      #Tells the dimension of array"
   ]
  },
  {
   "cell_type": "code",
   "execution_count": 7,
   "metadata": {},
   "outputs": [
    {
     "name": "stdout",
     "output_type": "stream",
     "text": [
      "uint32\n",
      "[ True False False False  True]\n"
     ]
    }
   ],
   "source": [
    "arr3 = np.array([12,2,3,4,9.0]).astype('uint32')\n",
    "print(arr3.dtype)\n",
    "print(arr3>5)"
   ]
  },
  {
   "cell_type": "code",
   "execution_count": 8,
   "metadata": {},
   "outputs": [
    {
     "name": "stdout",
     "output_type": "stream",
     "text": [
      "[0. 0.]\n",
      "[1.34983320e-311 0.00000000e+000 1.39610347e-309]\n"
     ]
    }
   ],
   "source": [
    "arr = np.zeros(2)\n",
    "print(arr)\n",
    "arr = np.empty(3)\n",
    "print(arr)"
   ]
  },
  {
   "cell_type": "markdown",
   "metadata": {},
   "source": [
    "# 2 Dimensional Array"
   ]
  },
  {
   "cell_type": "code",
   "execution_count": 9,
   "metadata": {},
   "outputs": [
    {
     "name": "stdout",
     "output_type": "stream",
     "text": [
      "2\n",
      "(2, 3)\n",
      "[[False False False]\n",
      " [False False  True]]\n",
      "[[False False False]\n",
      " [False False  True]]\n",
      "1\n"
     ]
    }
   ],
   "source": [
    "arr2 = np.array([[1, 2, 3], [4, 5, 6]]).astype('uint32')\n",
    "print(arr2.ndim)\n",
    "print(arr2.shape)\n",
    "print(arr2>5)\n",
    "ages = arr2>5\n",
    "print(ages)\n",
    "print(np.sum(ages))          #It will tell the number of trues."
   ]
  },
  {
   "cell_type": "code",
   "execution_count": 10,
   "metadata": {},
   "outputs": [
    {
     "name": "stdout",
     "output_type": "stream",
     "text": [
      "[-1  0  1  2  3  4  5  6  7  8]\n",
      "[2 3 4 5 6 7 8 9]\n",
      "[ 2  3  4  5  6  7 33 33]\n"
     ]
    }
   ],
   "source": [
    "'''arange will return 10 range array'''\n",
    "arr = np.arange(2,10)\n",
    "arr2 = np.arange(-1,9)\n",
    "print(arr2)\n",
    "print(arr)\n",
    "arr[-2:] = 33\n",
    "print(arr)"
   ]
  },
  {
   "cell_type": "code",
   "execution_count": 12,
   "metadata": {},
   "outputs": [
    {
     "name": "stdout",
     "output_type": "stream",
     "text": [
      "[2 3 4]\n",
      "[1.  1.5 2. ]\n",
      "[1 2 3 4]\n"
     ]
    }
   ],
   "source": [
    "arr = np.array([1,2,3,4])\n",
    "arr_slice = arr[1:4]\n",
    "print(arr_slice)\n",
    "arr_slice = arr_slice * 0.5\n",
    "print(arr_slice)\n",
    "print(arr)"
   ]
  },
  {
   "cell_type": "code",
   "execution_count": 30,
   "metadata": {},
   "outputs": [
    {
     "name": "stdout",
     "output_type": "stream",
     "text": [
      "[5 6 7 8]\n",
      "5\n",
      "5\n"
     ]
    }
   ],
   "source": [
    "arr2d = np.array([[1,2,3,4],[5,6,7,8]])\n",
    "print(arr2d[1])\n",
    "print(arr2d[1][0])\n",
    "print(arr2d [1,0])"
   ]
  },
  {
   "cell_type": "code",
   "execution_count": 15,
   "metadata": {},
   "outputs": [
    {
     "name": "stdout",
     "output_type": "stream",
     "text": [
      "[[2 3 4]\n",
      " [6 7 8]]\n"
     ]
    }
   ],
   "source": [
    "arr2d = np.array([[1,2,3,4],[5,6,7,8]])\n",
    "print(arr2d[0: 3, 1: ])"
   ]
  },
  {
   "cell_type": "code",
   "execution_count": 16,
   "metadata": {},
   "outputs": [
    {
     "name": "stdout",
     "output_type": "stream",
     "text": [
      "[ True False False  True False False  True]\n"
     ]
    }
   ],
   "source": [
    "ages = np.array([20,13,12,22,11,15,19])\n",
    "print(ages >15)"
   ]
  },
  {
   "cell_type": "code",
   "execution_count": 17,
   "metadata": {},
   "outputs": [
    {
     "name": "stdout",
     "output_type": "stream",
     "text": [
      "[[1 2 3 4]\n",
      " [5 6 7 8]]\n",
      "---------\n",
      "[[5 6 7 8]]\n",
      "---------\n",
      "[[1 2 3 4]\n",
      " [5 6 7 8]]\n"
     ]
    }
   ],
   "source": [
    "'''Fancy Indexing'''\n",
    "print(arr2d)\n",
    "print('---------')\n",
    "print(arr2d[[1]])\n",
    "print('---------')\n",
    "print(arr2d)"
   ]
  },
  {
   "cell_type": "code",
   "execution_count": 18,
   "metadata": {},
   "outputs": [
    {
     "name": "stdout",
     "output_type": "stream",
     "text": [
      "[[1 2 3 4]\n",
      " [5 6 7 8]]\n",
      "\n",
      "[[1 5]\n",
      " [2 6]\n",
      " [3 7]\n",
      " [4 8]]\n",
      "\n",
      "[[1 2 3 4]\n",
      " [5 6 7 8]]\n"
     ]
    }
   ],
   "source": [
    "'''Transpose'''\n",
    "print(arr2d)\n",
    "print()\n",
    "print(arr2d.T)\n",
    "print()\n",
    "print(arr2d)"
   ]
  },
  {
   "cell_type": "code",
   "execution_count": null,
   "metadata": {},
   "outputs": [],
   "source": []
  },
  {
   "cell_type": "code",
   "execution_count": null,
   "metadata": {},
   "outputs": [],
   "source": []
  }
 ],
 "metadata": {
  "kernelspec": {
   "display_name": "Python 3",
   "language": "python",
   "name": "python3"
  },
  "language_info": {
   "codemirror_mode": {
    "name": "ipython",
    "version": 3
   },
   "file_extension": ".py",
   "mimetype": "text/x-python",
   "name": "python",
   "nbconvert_exporter": "python",
   "pygments_lexer": "ipython3",
   "version": "3.7.3"
  }
 },
 "nbformat": 4,
 "nbformat_minor": 2
}
